{
 "cells": [
  {
   "cell_type": "markdown",
   "id": "40cc5eff",
   "metadata": {},
   "source": [
    "# Car Evaluation Problem With Decision Tree Classifier "
   ]
  },
  {
   "cell_type": "markdown",
   "id": "beae84fa",
   "metadata": {},
   "source": [
    "# Problem Statement: \n",
    "    \n",
    "    Using scikit learn implement decision tree (https://archive.ics.uci.edu/ml/datasets/Car+Evaluation.\n",
    "    Use python packages for the visualization of the decision tree.\n",
    "    Fit a decision tree with the default parameters on 50% of the data.\n",
    "    Test it on 50% held out data and generate a classification report.\n",
    "    Inspect the model by visualizing and interpreting the results whether it makes sense."
   ]
  },
  {
   "cell_type": "markdown",
   "id": "4416ba2d",
   "metadata": {},
   "source": [
    "In order to solve this problem - we need following libraries: Pandas, Numpy, Matplotlib, Seaborn, and Sklearn. Importing the libraries one by one in next step: "
   ]
  },
  {
   "cell_type": "code",
   "execution_count": 1,
   "id": "c61ef3a0",
   "metadata": {},
   "outputs": [],
   "source": [
    "## Importing all the libraries. \n",
    "import pandas as pd \n",
    "import numpy as np \n",
    "import matplotlib.pyplot as plt \n",
    "import seaborn as sns \n",
    "from scipy.stats import zscore \n",
    "from imblearn.over_sampling import SMOTE\n",
    "import sklearn \n",
    "from sklearn.preprocessing import LabelEncoder, StandardScaler, MinMaxScaler, power_transform \n",
    "from sklearn.model_selection import train_test_split, cross_val_score \n",
    "from sklearn.tree import DecisionTreeClassifier \n",
    "from sklearn.metrics import accuracy_score,classification_report, confusion_matrix \n",
    "import warnings \n",
    "warnings.filterwarnings('ignore')"
   ]
  },
  {
   "cell_type": "code",
   "execution_count": 2,
   "id": "d2de04ae",
   "metadata": {},
   "outputs": [],
   "source": [
    "## Loading the dataset now. \n",
    "df = pd.read_csv(\"car.csv\")"
   ]
  },
  {
   "cell_type": "markdown",
   "id": "6cd10bb6",
   "metadata": {},
   "source": [
    "# Data Description: "
   ]
  },
  {
   "cell_type": "markdown",
   "id": "eeb49631",
   "metadata": {},
   "source": [
    "Car Evaluation Database was derived from a simple hierarchical decision model originally developed for the demonstration of DEX, M. Bohanec, V. Rajkovic: Expert system for decision making. Sistemica 1(1), pp. 145-157, 1990.). The model evaluates cars according to the following concept structure:\n",
    "\n",
    "    CAR car acceptability\n",
    "    . PRICE overall price\n",
    "    . . buying buying price\n",
    "    . . maint price of the maintenance\n",
    "    . TECH technical characteristics\n",
    "    . . COMFORT comfort\n",
    "    . . . doors number of doors\n",
    "    . . . persons capacity in terms of persons to carry\n",
    "    . . . lug_boot the size of luggage boot\n",
    "    . . safety estimated safety of the car\n",
    "\n",
    "Input attributes are printed in lowercase. Besides the target concept (CAR), the model includes three intermediate concepts: PRICE, TECH, COMFORT. Every concept is in the original model related to its lower level descendants by a set of examples (for these examples sets see [Web Link]).\n",
    "\n",
    "The Car Evaluation Database contains examples with the structural information removed, i.e., directly relates CAR to the six input attributes: buying, maint, doors, persons, lug_boot, safety.\n",
    "\n",
    "Because of known underlying concept structure, this database may be particularly useful for testing constructive induction and structure discovery methods.\n",
    "\n",
    "Source: https://archive.ics.uci.edu/ml/datasets/Car+Evaluation "
   ]
  },
  {
   "cell_type": "markdown",
   "id": "ed73f8f2",
   "metadata": {},
   "source": [
    "# Understanding the Dataset: "
   ]
  },
  {
   "cell_type": "code",
   "execution_count": 3,
   "id": "c8926a78",
   "metadata": {},
   "outputs": [
    {
     "data": {
      "text/plain": [
       "Index(['vhigh', 'vhigh.1', '2', '2.1', 'small', 'low', 'unacc'], dtype='object')"
      ]
     },
     "execution_count": 3,
     "metadata": {},
     "output_type": "execute_result"
    }
   ],
   "source": [
    "## Checking the columns first that dataset inlcudes. \n",
    "df.columns"
   ]
  },
  {
   "cell_type": "code",
   "execution_count": 4,
   "id": "b7f81041",
   "metadata": {},
   "outputs": [
    {
     "data": {
      "text/html": [
       "<div>\n",
       "<style scoped>\n",
       "    .dataframe tbody tr th:only-of-type {\n",
       "        vertical-align: middle;\n",
       "    }\n",
       "\n",
       "    .dataframe tbody tr th {\n",
       "        vertical-align: top;\n",
       "    }\n",
       "\n",
       "    .dataframe thead th {\n",
       "        text-align: right;\n",
       "    }\n",
       "</style>\n",
       "<table border=\"1\" class=\"dataframe\">\n",
       "  <thead>\n",
       "    <tr style=\"text-align: right;\">\n",
       "      <th></th>\n",
       "      <th>vhigh</th>\n",
       "      <th>vhigh.1</th>\n",
       "      <th>2</th>\n",
       "      <th>2.1</th>\n",
       "      <th>small</th>\n",
       "      <th>low</th>\n",
       "      <th>unacc</th>\n",
       "    </tr>\n",
       "  </thead>\n",
       "  <tbody>\n",
       "    <tr>\n",
       "      <th>0</th>\n",
       "      <td>vhigh</td>\n",
       "      <td>vhigh</td>\n",
       "      <td>2</td>\n",
       "      <td>2</td>\n",
       "      <td>small</td>\n",
       "      <td>med</td>\n",
       "      <td>unacc</td>\n",
       "    </tr>\n",
       "    <tr>\n",
       "      <th>1</th>\n",
       "      <td>vhigh</td>\n",
       "      <td>vhigh</td>\n",
       "      <td>2</td>\n",
       "      <td>2</td>\n",
       "      <td>small</td>\n",
       "      <td>high</td>\n",
       "      <td>unacc</td>\n",
       "    </tr>\n",
       "  </tbody>\n",
       "</table>\n",
       "</div>"
      ],
      "text/plain": [
       "   vhigh vhigh.1  2 2.1  small   low  unacc\n",
       "0  vhigh   vhigh  2   2  small   med  unacc\n",
       "1  vhigh   vhigh  2   2  small  high  unacc"
      ]
     },
     "execution_count": 4,
     "metadata": {},
     "output_type": "execute_result"
    }
   ],
   "source": [
    "df.head(2)"
   ]
  },
  {
   "cell_type": "markdown",
   "id": "6ab5be04",
   "metadata": {},
   "source": [
    "## Attributes Information\n",
    "Class Values: unacc, acc, good, vgood\n",
    "\n",
    "Attributes:\n",
    "\n",
    "    Buying: vhigh, high, med, low.\n",
    "    Maintanince Price: vhigh, high, med, low.\n",
    "    Doors available: 2, 3, 4, 5more.\n",
    "    Number of person can sit: 2, 4, more.\n",
    "    Luggae Boot: small, med, big.\n",
    "    Safety level: low, med, high."
   ]
  },
  {
   "cell_type": "code",
   "execution_count": 5,
   "id": "52eb5ef0",
   "metadata": {},
   "outputs": [
    {
     "data": {
      "text/html": [
       "<div>\n",
       "<style scoped>\n",
       "    .dataframe tbody tr th:only-of-type {\n",
       "        vertical-align: middle;\n",
       "    }\n",
       "\n",
       "    .dataframe tbody tr th {\n",
       "        vertical-align: top;\n",
       "    }\n",
       "\n",
       "    .dataframe thead th {\n",
       "        text-align: right;\n",
       "    }\n",
       "</style>\n",
       "<table border=\"1\" class=\"dataframe\">\n",
       "  <thead>\n",
       "    <tr style=\"text-align: right;\">\n",
       "      <th></th>\n",
       "      <th>vhigh</th>\n",
       "      <th>vhigh.1</th>\n",
       "      <th>2</th>\n",
       "      <th>2.1</th>\n",
       "      <th>small</th>\n",
       "      <th>low</th>\n",
       "      <th>unacc</th>\n",
       "    </tr>\n",
       "  </thead>\n",
       "  <tbody>\n",
       "    <tr>\n",
       "      <th>0</th>\n",
       "      <td>vhigh</td>\n",
       "      <td>vhigh</td>\n",
       "      <td>2</td>\n",
       "      <td>2</td>\n",
       "      <td>small</td>\n",
       "      <td>med</td>\n",
       "      <td>unacc</td>\n",
       "    </tr>\n",
       "    <tr>\n",
       "      <th>1</th>\n",
       "      <td>vhigh</td>\n",
       "      <td>vhigh</td>\n",
       "      <td>2</td>\n",
       "      <td>2</td>\n",
       "      <td>small</td>\n",
       "      <td>high</td>\n",
       "      <td>unacc</td>\n",
       "    </tr>\n",
       "    <tr>\n",
       "      <th>2</th>\n",
       "      <td>vhigh</td>\n",
       "      <td>vhigh</td>\n",
       "      <td>2</td>\n",
       "      <td>2</td>\n",
       "      <td>med</td>\n",
       "      <td>low</td>\n",
       "      <td>unacc</td>\n",
       "    </tr>\n",
       "    <tr>\n",
       "      <th>3</th>\n",
       "      <td>vhigh</td>\n",
       "      <td>vhigh</td>\n",
       "      <td>2</td>\n",
       "      <td>2</td>\n",
       "      <td>med</td>\n",
       "      <td>med</td>\n",
       "      <td>unacc</td>\n",
       "    </tr>\n",
       "    <tr>\n",
       "      <th>4</th>\n",
       "      <td>vhigh</td>\n",
       "      <td>vhigh</td>\n",
       "      <td>2</td>\n",
       "      <td>2</td>\n",
       "      <td>med</td>\n",
       "      <td>high</td>\n",
       "      <td>unacc</td>\n",
       "    </tr>\n",
       "    <tr>\n",
       "      <th>...</th>\n",
       "      <td>...</td>\n",
       "      <td>...</td>\n",
       "      <td>...</td>\n",
       "      <td>...</td>\n",
       "      <td>...</td>\n",
       "      <td>...</td>\n",
       "      <td>...</td>\n",
       "    </tr>\n",
       "    <tr>\n",
       "      <th>1722</th>\n",
       "      <td>low</td>\n",
       "      <td>low</td>\n",
       "      <td>5more</td>\n",
       "      <td>more</td>\n",
       "      <td>med</td>\n",
       "      <td>med</td>\n",
       "      <td>good</td>\n",
       "    </tr>\n",
       "    <tr>\n",
       "      <th>1723</th>\n",
       "      <td>low</td>\n",
       "      <td>low</td>\n",
       "      <td>5more</td>\n",
       "      <td>more</td>\n",
       "      <td>med</td>\n",
       "      <td>high</td>\n",
       "      <td>vgood</td>\n",
       "    </tr>\n",
       "    <tr>\n",
       "      <th>1724</th>\n",
       "      <td>low</td>\n",
       "      <td>low</td>\n",
       "      <td>5more</td>\n",
       "      <td>more</td>\n",
       "      <td>big</td>\n",
       "      <td>low</td>\n",
       "      <td>unacc</td>\n",
       "    </tr>\n",
       "    <tr>\n",
       "      <th>1725</th>\n",
       "      <td>low</td>\n",
       "      <td>low</td>\n",
       "      <td>5more</td>\n",
       "      <td>more</td>\n",
       "      <td>big</td>\n",
       "      <td>med</td>\n",
       "      <td>good</td>\n",
       "    </tr>\n",
       "    <tr>\n",
       "      <th>1726</th>\n",
       "      <td>low</td>\n",
       "      <td>low</td>\n",
       "      <td>5more</td>\n",
       "      <td>more</td>\n",
       "      <td>big</td>\n",
       "      <td>high</td>\n",
       "      <td>vgood</td>\n",
       "    </tr>\n",
       "  </tbody>\n",
       "</table>\n",
       "<p>1727 rows × 7 columns</p>\n",
       "</div>"
      ],
      "text/plain": [
       "      vhigh vhigh.1      2   2.1  small   low  unacc\n",
       "0     vhigh   vhigh      2     2  small   med  unacc\n",
       "1     vhigh   vhigh      2     2  small  high  unacc\n",
       "2     vhigh   vhigh      2     2    med   low  unacc\n",
       "3     vhigh   vhigh      2     2    med   med  unacc\n",
       "4     vhigh   vhigh      2     2    med  high  unacc\n",
       "...     ...     ...    ...   ...    ...   ...    ...\n",
       "1722    low     low  5more  more    med   med   good\n",
       "1723    low     low  5more  more    med  high  vgood\n",
       "1724    low     low  5more  more    big   low  unacc\n",
       "1725    low     low  5more  more    big   med   good\n",
       "1726    low     low  5more  more    big  high  vgood\n",
       "\n",
       "[1727 rows x 7 columns]"
      ]
     },
     "execution_count": 5,
     "metadata": {},
     "output_type": "execute_result"
    }
   ],
   "source": [
    "df"
   ]
  },
  {
   "cell_type": "code",
   "execution_count": 6,
   "id": "114b72e9",
   "metadata": {},
   "outputs": [
    {
     "name": "stdout",
     "output_type": "stream",
     "text": [
      "<class 'pandas.core.frame.DataFrame'>\n",
      "RangeIndex: 1727 entries, 0 to 1726\n",
      "Data columns (total 7 columns):\n",
      " #   Column   Non-Null Count  Dtype \n",
      "---  ------   --------------  ----- \n",
      " 0   vhigh    1727 non-null   object\n",
      " 1   vhigh.1  1727 non-null   object\n",
      " 2   2        1727 non-null   object\n",
      " 3   2.1      1727 non-null   object\n",
      " 4   small    1727 non-null   object\n",
      " 5   low      1727 non-null   object\n",
      " 6   unacc    1727 non-null   object\n",
      "dtypes: object(7)\n",
      "memory usage: 94.6+ KB\n"
     ]
    }
   ],
   "source": [
    "df.info()"
   ]
  },
  {
   "cell_type": "markdown",
   "id": "2b4bbe3b",
   "metadata": {},
   "source": [
    "We have all the variables in an object data type. However, this is a classification problem and we need to implement the Decision Tree Alorithm here - we will encode them for smooth training of the model furter with the process."
   ]
  },
  {
   "cell_type": "markdown",
   "id": "2028d81b",
   "metadata": {},
   "source": [
    "We will change the variable name as per the attribute infromation avilable to us. "
   ]
  },
  {
   "cell_type": "code",
   "execution_count": 7,
   "id": "4d23470b",
   "metadata": {},
   "outputs": [],
   "source": [
    "df.rename(columns={\"vhigh\":\"Buying Price\"},inplace=True)"
   ]
  },
  {
   "cell_type": "code",
   "execution_count": 8,
   "id": "aa4821f6",
   "metadata": {},
   "outputs": [],
   "source": [
    "df.rename(columns={\"vhigh.1\":\"Maintaince Price\"},inplace=True)"
   ]
  },
  {
   "cell_type": "code",
   "execution_count": 9,
   "id": "4cb6b381",
   "metadata": {},
   "outputs": [],
   "source": [
    "df.rename(columns={\"2\":\"Doors Available\"},inplace=True)"
   ]
  },
  {
   "cell_type": "code",
   "execution_count": 10,
   "id": "0191d7e3",
   "metadata": {},
   "outputs": [],
   "source": [
    "df.rename(columns={\"2.1\":\"Number of persons can sit\"},inplace=True)"
   ]
  },
  {
   "cell_type": "code",
   "execution_count": 11,
   "id": "be82838e",
   "metadata": {},
   "outputs": [],
   "source": [
    "df.rename(columns={\"small\":\"Luggage Boot\"},inplace=True)"
   ]
  },
  {
   "cell_type": "code",
   "execution_count": 12,
   "id": "115716f8",
   "metadata": {},
   "outputs": [],
   "source": [
    "df.rename(columns={\"low\":\"Safety Level\"},inplace=True)"
   ]
  },
  {
   "cell_type": "code",
   "execution_count": 13,
   "id": "dd645fc2",
   "metadata": {},
   "outputs": [],
   "source": [
    "df.rename(columns={\"unacc\":\"Car Acceptiblity\"},inplace=True)"
   ]
  },
  {
   "cell_type": "code",
   "execution_count": 14,
   "id": "f690e640",
   "metadata": {},
   "outputs": [
    {
     "data": {
      "text/html": [
       "<div>\n",
       "<style scoped>\n",
       "    .dataframe tbody tr th:only-of-type {\n",
       "        vertical-align: middle;\n",
       "    }\n",
       "\n",
       "    .dataframe tbody tr th {\n",
       "        vertical-align: top;\n",
       "    }\n",
       "\n",
       "    .dataframe thead th {\n",
       "        text-align: right;\n",
       "    }\n",
       "</style>\n",
       "<table border=\"1\" class=\"dataframe\">\n",
       "  <thead>\n",
       "    <tr style=\"text-align: right;\">\n",
       "      <th></th>\n",
       "      <th>Buying Price</th>\n",
       "      <th>Maintaince Price</th>\n",
       "      <th>Doors Available</th>\n",
       "      <th>Number of persons can sit</th>\n",
       "      <th>Luggage Boot</th>\n",
       "      <th>Safety Level</th>\n",
       "      <th>Car Acceptiblity</th>\n",
       "    </tr>\n",
       "  </thead>\n",
       "  <tbody>\n",
       "    <tr>\n",
       "      <th>0</th>\n",
       "      <td>vhigh</td>\n",
       "      <td>vhigh</td>\n",
       "      <td>2</td>\n",
       "      <td>2</td>\n",
       "      <td>small</td>\n",
       "      <td>med</td>\n",
       "      <td>unacc</td>\n",
       "    </tr>\n",
       "    <tr>\n",
       "      <th>1</th>\n",
       "      <td>vhigh</td>\n",
       "      <td>vhigh</td>\n",
       "      <td>2</td>\n",
       "      <td>2</td>\n",
       "      <td>small</td>\n",
       "      <td>high</td>\n",
       "      <td>unacc</td>\n",
       "    </tr>\n",
       "    <tr>\n",
       "      <th>2</th>\n",
       "      <td>vhigh</td>\n",
       "      <td>vhigh</td>\n",
       "      <td>2</td>\n",
       "      <td>2</td>\n",
       "      <td>med</td>\n",
       "      <td>low</td>\n",
       "      <td>unacc</td>\n",
       "    </tr>\n",
       "    <tr>\n",
       "      <th>3</th>\n",
       "      <td>vhigh</td>\n",
       "      <td>vhigh</td>\n",
       "      <td>2</td>\n",
       "      <td>2</td>\n",
       "      <td>med</td>\n",
       "      <td>med</td>\n",
       "      <td>unacc</td>\n",
       "    </tr>\n",
       "    <tr>\n",
       "      <th>4</th>\n",
       "      <td>vhigh</td>\n",
       "      <td>vhigh</td>\n",
       "      <td>2</td>\n",
       "      <td>2</td>\n",
       "      <td>med</td>\n",
       "      <td>high</td>\n",
       "      <td>unacc</td>\n",
       "    </tr>\n",
       "    <tr>\n",
       "      <th>...</th>\n",
       "      <td>...</td>\n",
       "      <td>...</td>\n",
       "      <td>...</td>\n",
       "      <td>...</td>\n",
       "      <td>...</td>\n",
       "      <td>...</td>\n",
       "      <td>...</td>\n",
       "    </tr>\n",
       "    <tr>\n",
       "      <th>1722</th>\n",
       "      <td>low</td>\n",
       "      <td>low</td>\n",
       "      <td>5more</td>\n",
       "      <td>more</td>\n",
       "      <td>med</td>\n",
       "      <td>med</td>\n",
       "      <td>good</td>\n",
       "    </tr>\n",
       "    <tr>\n",
       "      <th>1723</th>\n",
       "      <td>low</td>\n",
       "      <td>low</td>\n",
       "      <td>5more</td>\n",
       "      <td>more</td>\n",
       "      <td>med</td>\n",
       "      <td>high</td>\n",
       "      <td>vgood</td>\n",
       "    </tr>\n",
       "    <tr>\n",
       "      <th>1724</th>\n",
       "      <td>low</td>\n",
       "      <td>low</td>\n",
       "      <td>5more</td>\n",
       "      <td>more</td>\n",
       "      <td>big</td>\n",
       "      <td>low</td>\n",
       "      <td>unacc</td>\n",
       "    </tr>\n",
       "    <tr>\n",
       "      <th>1725</th>\n",
       "      <td>low</td>\n",
       "      <td>low</td>\n",
       "      <td>5more</td>\n",
       "      <td>more</td>\n",
       "      <td>big</td>\n",
       "      <td>med</td>\n",
       "      <td>good</td>\n",
       "    </tr>\n",
       "    <tr>\n",
       "      <th>1726</th>\n",
       "      <td>low</td>\n",
       "      <td>low</td>\n",
       "      <td>5more</td>\n",
       "      <td>more</td>\n",
       "      <td>big</td>\n",
       "      <td>high</td>\n",
       "      <td>vgood</td>\n",
       "    </tr>\n",
       "  </tbody>\n",
       "</table>\n",
       "<p>1727 rows × 7 columns</p>\n",
       "</div>"
      ],
      "text/plain": [
       "     Buying Price Maintaince Price Doors Available Number of persons can sit  \\\n",
       "0           vhigh            vhigh               2                         2   \n",
       "1           vhigh            vhigh               2                         2   \n",
       "2           vhigh            vhigh               2                         2   \n",
       "3           vhigh            vhigh               2                         2   \n",
       "4           vhigh            vhigh               2                         2   \n",
       "...           ...              ...             ...                       ...   \n",
       "1722          low              low           5more                      more   \n",
       "1723          low              low           5more                      more   \n",
       "1724          low              low           5more                      more   \n",
       "1725          low              low           5more                      more   \n",
       "1726          low              low           5more                      more   \n",
       "\n",
       "     Luggage Boot Safety Level Car Acceptiblity  \n",
       "0           small          med            unacc  \n",
       "1           small         high            unacc  \n",
       "2             med          low            unacc  \n",
       "3             med          med            unacc  \n",
       "4             med         high            unacc  \n",
       "...           ...          ...              ...  \n",
       "1722          med          med             good  \n",
       "1723          med         high            vgood  \n",
       "1724          big          low            unacc  \n",
       "1725          big          med             good  \n",
       "1726          big         high            vgood  \n",
       "\n",
       "[1727 rows x 7 columns]"
      ]
     },
     "execution_count": 14,
     "metadata": {},
     "output_type": "execute_result"
    }
   ],
   "source": [
    "## Checking the final dataset we got here with real attributes names. \n",
    "df"
   ]
  },
  {
   "cell_type": "markdown",
   "id": "c5726d13",
   "metadata": {},
   "source": [
    "# Performing univariate and bivariate analysis on the dataset to understand it in more effective way - "
   ]
  },
  {
   "cell_type": "code",
   "execution_count": 15,
   "id": "76649e97",
   "metadata": {},
   "outputs": [
    {
     "name": "stdout",
     "output_type": "stream",
     "text": [
      "['vhigh' 'high' 'med' 'low']\n"
     ]
    },
    {
     "data": {
      "text/plain": [
       "<AxesSubplot:xlabel='Buying Price', ylabel='count'>"
      ]
     },
     "execution_count": 15,
     "metadata": {},
     "output_type": "execute_result"
    },
    {
     "data": {
      "image/png": "[encoded data removed]",
      "text/plain": [
       "<Figure size 1080x576 with 1 Axes>"
      ]
     },
     "metadata": {
      "needs_background": "light"
     },
     "output_type": "display_data"
    }
   ],
   "source": [
    "print(df['Buying Price'].unique())\n",
    "plt.figure(figsize=[15,8])\n",
    "sns.countplot(df['Buying Price'])"
   ]
  },
  {
   "cell_type": "code",
   "execution_count": 16,
   "id": "3e63bb35",
   "metadata": {},
   "outputs": [
    {
     "name": "stdout",
     "output_type": "stream",
     "text": [
      "['vhigh' 'high' 'med' 'low']\n"
     ]
    },
    {
     "data": {
      "text/plain": [
       "<AxesSubplot:xlabel='Maintaince Price', ylabel='count'>"
      ]
     },
     "execution_count": 16,
     "metadata": {},
     "output_type": "execute_result"
    },
    {
     "data": {
      "image/png": "[encoded data removed]",
      "text/plain": [
       "<Figure size 1080x576 with 1 Axes>"
      ]
     },
     "metadata": {
      "needs_background": "light"
     },
     "output_type": "display_data"
    }
   ],
   "source": [
    "print(df['Maintaince Price'].unique())\n",
    "plt.figure(figsize=[15,8])\n",
    "sns.countplot(df['Maintaince Price'])"
   ]
  },
  {
   "cell_type": "code",
   "execution_count": 17,
   "id": "689e5935",
   "metadata": {},
   "outputs": [
    {
     "name": "stdout",
     "output_type": "stream",
     "text": [
      "0           2\n",
      "1           2\n",
      "2           2\n",
      "3           2\n",
      "4           2\n",
      "        ...  \n",
      "1722    5more\n",
      "1723    5more\n",
      "1724    5more\n",
      "1725    5more\n",
      "1726    5more\n",
      "Name: Doors Available, Length: 1727, dtype: object\n"
     ]
    },
    {
     "data": {
      "text/plain": [
       "<AxesSubplot:xlabel='Doors Available', ylabel='count'>"
      ]
     },
     "execution_count": 17,
     "metadata": {},
     "output_type": "execute_result"
    },
    {
     "data": {
      "image/png": "[encoded data removed]",
      "text/plain": [
       "<Figure size 1080x576 with 1 Axes>"
      ]
     },
     "metadata": {
      "needs_background": "light"
     },
     "output_type": "display_data"
    }
   ],
   "source": [
    "print(df['Doors Available'])\n",
    "plt.figure(figsize=[15,8])\n",
    "sns.countplot(df['Doors Available'])"
   ]
  },
  {
   "cell_type": "code",
   "execution_count": 18,
   "id": "2b3951e8",
   "metadata": {},
   "outputs": [
    {
     "name": "stdout",
     "output_type": "stream",
     "text": [
      "['2' '4' 'more']\n"
     ]
    },
    {
     "data": {
      "text/plain": [
       "<AxesSubplot:xlabel='Number of persons can sit', ylabel='count'>"
      ]
     },
     "execution_count": 18,
     "metadata": {},
     "output_type": "execute_result"
    },
    {
     "data": {
      "image/png": "[encoded data removed]",
      "text/plain": [
       "<Figure size 1080x576 with 1 Axes>"
      ]
     },
     "metadata": {
      "needs_background": "light"
     },
     "output_type": "display_data"
    }
   ],
   "source": [
    "print(df['Number of persons can sit'].unique())\n",
    "plt.figure(figsize=[15,8])\n",
    "sns.countplot(df['Number of persons can sit'])"
   ]
  },
  {
   "cell_type": "code",
   "execution_count": 19,
   "id": "6e892a61",
   "metadata": {},
   "outputs": [
    {
     "name": "stdout",
     "output_type": "stream",
     "text": [
      "['small' 'med' 'big']\n"
     ]
    },
    {
     "data": {
      "text/plain": [
       "<AxesSubplot:xlabel='Luggage Boot', ylabel='count'>"
      ]
     },
     "execution_count": 19,
     "metadata": {},
     "output_type": "execute_result"
    },
    {
     "data": {
      "image/png": "[encoded data removed]",
      "text/plain": [
       "<Figure size 1080x576 with 1 Axes>"
      ]
     },
     "metadata": {
      "needs_background": "light"
     },
     "output_type": "display_data"
    }
   ],
   "source": [
    "print(df['Luggage Boot'].unique())\n",
    "plt.figure(figsize=[15,8])\n",
    "sns.countplot(df['Luggage Boot'])"
   ]
  },
  {
   "cell_type": "code",
   "execution_count": 20,
   "id": "991e54c3",
   "metadata": {},
   "outputs": [
    {
     "name": "stdout",
     "output_type": "stream",
     "text": [
      "['med' 'high' 'low']\n"
     ]
    },
    {
     "data": {
      "text/plain": [
       "<AxesSubplot:xlabel='Safety Level', ylabel='count'>"
      ]
     },
     "execution_count": 20,
     "metadata": {},
     "output_type": "execute_result"
    },
    {
     "data": {
      "image/png": "[encoded data removed]",
      "text/plain": [
       "<Figure size 1080x576 with 1 Axes>"
      ]
     },
     "metadata": {
      "needs_background": "light"
     },
     "output_type": "display_data"
    }
   ],
   "source": [
    "print(df['Safety Level'].unique())\n",
    "plt.figure(figsize=[15,8])\n",
    "sns.countplot(df['Safety Level'])"
   ]
  },
  {
   "cell_type": "code",
   "execution_count": 21,
   "id": "db12c49c",
   "metadata": {},
   "outputs": [
    {
     "name": "stdout",
     "output_type": "stream",
     "text": [
      "['unacc' 'acc' 'vgood' 'good']\n"
     ]
    },
    {
     "data": {
      "text/plain": [
       "<AxesSubplot:xlabel='Car Acceptiblity', ylabel='count'>"
      ]
     },
     "execution_count": 21,
     "metadata": {},
     "output_type": "execute_result"
    },
    {
     "data": {
      "image/png": "[encoded data removed]",
      "text/plain": [
       "<Figure size 1080x576 with 1 Axes>"
      ]
     },
     "metadata": {
      "needs_background": "light"
     },
     "output_type": "display_data"
    }
   ],
   "source": [
    "print(df['Car Acceptiblity'].unique())\n",
    "plt.figure(figsize=[15,8])\n",
    "sns.countplot(df['Car Acceptiblity'])"
   ]
  },
  {
   "cell_type": "markdown",
   "id": "6cfd3ec8",
   "metadata": {},
   "source": [
    "Observations: \n",
    "    \n",
    "    1. If we consider the feature variables then all the data is balanced. \n",
    "    2. However the target variable - Car Acceptiblity is unbalanced, we will balance it further in the process. "
   ]
  },
  {
   "cell_type": "code",
   "execution_count": 22,
   "id": "092a09a4",
   "metadata": {},
   "outputs": [
    {
     "data": {
      "text/html": [
       "<div>\n",
       "<style scoped>\n",
       "    .dataframe tbody tr th:only-of-type {\n",
       "        vertical-align: middle;\n",
       "    }\n",
       "\n",
       "    .dataframe tbody tr th {\n",
       "        vertical-align: top;\n",
       "    }\n",
       "\n",
       "    .dataframe thead th {\n",
       "        text-align: right;\n",
       "    }\n",
       "</style>\n",
       "<table border=\"1\" class=\"dataframe\">\n",
       "  <thead>\n",
       "    <tr style=\"text-align: right;\">\n",
       "      <th></th>\n",
       "      <th>count</th>\n",
       "      <th>unique</th>\n",
       "      <th>top</th>\n",
       "      <th>freq</th>\n",
       "    </tr>\n",
       "  </thead>\n",
       "  <tbody>\n",
       "    <tr>\n",
       "      <th>Buying Price</th>\n",
       "      <td>1727</td>\n",
       "      <td>4</td>\n",
       "      <td>high</td>\n",
       "      <td>432</td>\n",
       "    </tr>\n",
       "    <tr>\n",
       "      <th>Maintaince Price</th>\n",
       "      <td>1727</td>\n",
       "      <td>4</td>\n",
       "      <td>high</td>\n",
       "      <td>432</td>\n",
       "    </tr>\n",
       "    <tr>\n",
       "      <th>Doors Available</th>\n",
       "      <td>1727</td>\n",
       "      <td>4</td>\n",
       "      <td>3</td>\n",
       "      <td>432</td>\n",
       "    </tr>\n",
       "    <tr>\n",
       "      <th>Number of persons can sit</th>\n",
       "      <td>1727</td>\n",
       "      <td>3</td>\n",
       "      <td>4</td>\n",
       "      <td>576</td>\n",
       "    </tr>\n",
       "    <tr>\n",
       "      <th>Luggage Boot</th>\n",
       "      <td>1727</td>\n",
       "      <td>3</td>\n",
       "      <td>med</td>\n",
       "      <td>576</td>\n",
       "    </tr>\n",
       "    <tr>\n",
       "      <th>Safety Level</th>\n",
       "      <td>1727</td>\n",
       "      <td>3</td>\n",
       "      <td>med</td>\n",
       "      <td>576</td>\n",
       "    </tr>\n",
       "    <tr>\n",
       "      <th>Car Acceptiblity</th>\n",
       "      <td>1727</td>\n",
       "      <td>4</td>\n",
       "      <td>unacc</td>\n",
       "      <td>1209</td>\n",
       "    </tr>\n",
       "  </tbody>\n",
       "</table>\n",
       "</div>"
      ],
      "text/plain": [
       "                          count unique    top  freq\n",
       "Buying Price               1727      4   high   432\n",
       "Maintaince Price           1727      4   high   432\n",
       "Doors Available            1727      4      3   432\n",
       "Number of persons can sit  1727      3      4   576\n",
       "Luggage Boot               1727      3    med   576\n",
       "Safety Level               1727      3    med   576\n",
       "Car Acceptiblity           1727      4  unacc  1209"
      ]
     },
     "execution_count": 22,
     "metadata": {},
     "output_type": "execute_result"
    }
   ],
   "source": [
    "df.describe().T"
   ]
  },
  {
   "cell_type": "markdown",
   "id": "b0c6556e",
   "metadata": {},
   "source": [
    "Observation: \n",
    "    \n",
    "    1. All the variables hold equal number of rows in a balanced manner. \n",
    "    2. The frequency of each varible is different. Buying and maintaing price do have the same frequency. "
   ]
  },
  {
   "cell_type": "markdown",
   "id": "fc717c79",
   "metadata": {},
   "source": [
    "# Encoding the variable to understand the relationship they hold with the target variable - "
   ]
  },
  {
   "cell_type": "code",
   "execution_count": 23,
   "id": "3217066c",
   "metadata": {},
   "outputs": [],
   "source": [
    "le = LabelEncoder()\n",
    "df['Buying Price'] = le.fit_transform(df['Buying Price'])\n",
    "df['Maintaince Price'] = le.fit_transform(df['Maintaince Price'])\n",
    "df['Doors Available'] = le.fit_transform(df['Doors Available'])\n",
    "df['Number of persons can sit'] = le.fit_transform(df['Number of persons can sit'])\n",
    "df['Luggage Boot'] = le.fit_transform(df['Luggage Boot'])\n",
    "df['Safety Level'] = le.fit_transform(df['Safety Level'])\n",
    "df['Car Acceptiblity'] = le.fit_transform(df['Car Acceptiblity'])"
   ]
  },
  {
   "cell_type": "code",
   "execution_count": 24,
   "id": "04aefcf4",
   "metadata": {},
   "outputs": [
    {
     "data": {
      "text/html": [
       "<div>\n",
       "<style scoped>\n",
       "    .dataframe tbody tr th:only-of-type {\n",
       "        vertical-align: middle;\n",
       "    }\n",
       "\n",
       "    .dataframe tbody tr th {\n",
       "        vertical-align: top;\n",
       "    }\n",
       "\n",
       "    .dataframe thead th {\n",
       "        text-align: right;\n",
       "    }\n",
       "</style>\n",
       "<table border=\"1\" class=\"dataframe\">\n",
       "  <thead>\n",
       "    <tr style=\"text-align: right;\">\n",
       "      <th></th>\n",
       "      <th>count</th>\n",
       "      <th>mean</th>\n",
       "      <th>std</th>\n",
       "      <th>min</th>\n",
       "      <th>25%</th>\n",
       "      <th>50%</th>\n",
       "      <th>75%</th>\n",
       "      <th>max</th>\n",
       "    </tr>\n",
       "  </thead>\n",
       "  <tbody>\n",
       "    <tr>\n",
       "      <th>Buying Price</th>\n",
       "      <td>1727.0</td>\n",
       "      <td>1.499131</td>\n",
       "      <td>1.118098</td>\n",
       "      <td>0.0</td>\n",
       "      <td>0.5</td>\n",
       "      <td>1.0</td>\n",
       "      <td>2.0</td>\n",
       "      <td>3.0</td>\n",
       "    </tr>\n",
       "    <tr>\n",
       "      <th>Maintaince Price</th>\n",
       "      <td>1727.0</td>\n",
       "      <td>1.499131</td>\n",
       "      <td>1.118098</td>\n",
       "      <td>0.0</td>\n",
       "      <td>0.5</td>\n",
       "      <td>1.0</td>\n",
       "      <td>2.0</td>\n",
       "      <td>3.0</td>\n",
       "    </tr>\n",
       "    <tr>\n",
       "      <th>Doors Available</th>\n",
       "      <td>1727.0</td>\n",
       "      <td>1.500869</td>\n",
       "      <td>1.118098</td>\n",
       "      <td>0.0</td>\n",
       "      <td>1.0</td>\n",
       "      <td>2.0</td>\n",
       "      <td>2.5</td>\n",
       "      <td>3.0</td>\n",
       "    </tr>\n",
       "    <tr>\n",
       "      <th>Number of persons can sit</th>\n",
       "      <td>1727.0</td>\n",
       "      <td>1.000579</td>\n",
       "      <td>0.816615</td>\n",
       "      <td>0.0</td>\n",
       "      <td>0.0</td>\n",
       "      <td>1.0</td>\n",
       "      <td>2.0</td>\n",
       "      <td>2.0</td>\n",
       "    </tr>\n",
       "    <tr>\n",
       "      <th>Luggage Boot</th>\n",
       "      <td>1727.0</td>\n",
       "      <td>0.999421</td>\n",
       "      <td>0.816615</td>\n",
       "      <td>0.0</td>\n",
       "      <td>0.0</td>\n",
       "      <td>1.0</td>\n",
       "      <td>2.0</td>\n",
       "      <td>2.0</td>\n",
       "    </tr>\n",
       "    <tr>\n",
       "      <th>Safety Level</th>\n",
       "      <td>1727.0</td>\n",
       "      <td>1.000000</td>\n",
       "      <td>0.816970</td>\n",
       "      <td>0.0</td>\n",
       "      <td>0.0</td>\n",
       "      <td>1.0</td>\n",
       "      <td>2.0</td>\n",
       "      <td>2.0</td>\n",
       "    </tr>\n",
       "    <tr>\n",
       "      <th>Car Acceptiblity</th>\n",
       "      <td>1727.0</td>\n",
       "      <td>1.552982</td>\n",
       "      <td>0.876136</td>\n",
       "      <td>0.0</td>\n",
       "      <td>1.0</td>\n",
       "      <td>2.0</td>\n",
       "      <td>2.0</td>\n",
       "      <td>3.0</td>\n",
       "    </tr>\n",
       "  </tbody>\n",
       "</table>\n",
       "</div>"
      ],
      "text/plain": [
       "                            count      mean       std  min  25%  50%  75%  max\n",
       "Buying Price               1727.0  1.499131  1.118098  0.0  0.5  1.0  2.0  3.0\n",
       "Maintaince Price           1727.0  1.499131  1.118098  0.0  0.5  1.0  2.0  3.0\n",
       "Doors Available            1727.0  1.500869  1.118098  0.0  1.0  2.0  2.5  3.0\n",
       "Number of persons can sit  1727.0  1.000579  0.816615  0.0  0.0  1.0  2.0  2.0\n",
       "Luggage Boot               1727.0  0.999421  0.816615  0.0  0.0  1.0  2.0  2.0\n",
       "Safety Level               1727.0  1.000000  0.816970  0.0  0.0  1.0  2.0  2.0\n",
       "Car Acceptiblity           1727.0  1.552982  0.876136  0.0  1.0  2.0  2.0  3.0"
      ]
     },
     "execution_count": 24,
     "metadata": {},
     "output_type": "execute_result"
    }
   ],
   "source": [
    "df.describe().T"
   ]
  },
  {
   "cell_type": "code",
   "execution_count": 25,
   "id": "f2d20ef1",
   "metadata": {},
   "outputs": [
    {
     "data": {
      "text/html": [
       "<div>\n",
       "<style scoped>\n",
       "    .dataframe tbody tr th:only-of-type {\n",
       "        vertical-align: middle;\n",
       "    }\n",
       "\n",
       "    .dataframe tbody tr th {\n",
       "        vertical-align: top;\n",
       "    }\n",
       "\n",
       "    .dataframe thead th {\n",
       "        text-align: right;\n",
       "    }\n",
       "</style>\n",
       "<table border=\"1\" class=\"dataframe\">\n",
       "  <thead>\n",
       "    <tr style=\"text-align: right;\">\n",
       "      <th></th>\n",
       "      <th>Buying Price</th>\n",
       "      <th>Maintaince Price</th>\n",
       "      <th>Doors Available</th>\n",
       "      <th>Number of persons can sit</th>\n",
       "      <th>Luggage Boot</th>\n",
       "      <th>Safety Level</th>\n",
       "      <th>Car Acceptiblity</th>\n",
       "    </tr>\n",
       "  </thead>\n",
       "  <tbody>\n",
       "    <tr>\n",
       "      <th>Buying Price</th>\n",
       "      <td>1.000000e+00</td>\n",
       "      <td>-1.043357e-03</td>\n",
       "      <td>1.043357e-03</td>\n",
       "      <td>9.523677e-04</td>\n",
       "      <td>-9.523677e-04</td>\n",
       "      <td>-3.200145e-16</td>\n",
       "      <td>0.051058</td>\n",
       "    </tr>\n",
       "    <tr>\n",
       "      <th>Maintaince Price</th>\n",
       "      <td>-1.043357e-03</td>\n",
       "      <td>1.000000e+00</td>\n",
       "      <td>1.043357e-03</td>\n",
       "      <td>9.523677e-04</td>\n",
       "      <td>-9.523677e-04</td>\n",
       "      <td>-1.012963e-16</td>\n",
       "      <td>0.039821</td>\n",
       "    </tr>\n",
       "    <tr>\n",
       "      <th>Doors Available</th>\n",
       "      <td>1.043357e-03</td>\n",
       "      <td>1.043357e-03</td>\n",
       "      <td>1.000000e+00</td>\n",
       "      <td>-9.523677e-04</td>\n",
       "      <td>9.523677e-04</td>\n",
       "      <td>6.731959e-17</td>\n",
       "      <td>-0.030950</td>\n",
       "    </tr>\n",
       "    <tr>\n",
       "      <th>Number of persons can sit</th>\n",
       "      <td>9.523677e-04</td>\n",
       "      <td>9.523677e-04</td>\n",
       "      <td>-9.523677e-04</td>\n",
       "      <td>1.000000e+00</td>\n",
       "      <td>8.693132e-04</td>\n",
       "      <td>2.362177e-17</td>\n",
       "      <td>-0.299259</td>\n",
       "    </tr>\n",
       "    <tr>\n",
       "      <th>Luggage Boot</th>\n",
       "      <td>-9.523677e-04</td>\n",
       "      <td>-9.523677e-04</td>\n",
       "      <td>9.523677e-04</td>\n",
       "      <td>8.693132e-04</td>\n",
       "      <td>1.000000e+00</td>\n",
       "      <td>-7.231156e-18</td>\n",
       "      <td>0.032839</td>\n",
       "    </tr>\n",
       "    <tr>\n",
       "      <th>Safety Level</th>\n",
       "      <td>-3.200145e-16</td>\n",
       "      <td>-1.012963e-16</td>\n",
       "      <td>6.731959e-17</td>\n",
       "      <td>2.362177e-17</td>\n",
       "      <td>-7.231156e-18</td>\n",
       "      <td>1.000000e+00</td>\n",
       "      <td>-0.021045</td>\n",
       "    </tr>\n",
       "    <tr>\n",
       "      <th>Car Acceptiblity</th>\n",
       "      <td>5.105835e-02</td>\n",
       "      <td>3.982107e-02</td>\n",
       "      <td>-3.094953e-02</td>\n",
       "      <td>-2.992590e-01</td>\n",
       "      <td>3.283926e-02</td>\n",
       "      <td>-2.104530e-02</td>\n",
       "      <td>1.000000</td>\n",
       "    </tr>\n",
       "  </tbody>\n",
       "</table>\n",
       "</div>"
      ],
      "text/plain": [
       "                           Buying Price  Maintaince Price  Doors Available  \\\n",
       "Buying Price               1.000000e+00     -1.043357e-03     1.043357e-03   \n",
       "Maintaince Price          -1.043357e-03      1.000000e+00     1.043357e-03   \n",
       "Doors Available            1.043357e-03      1.043357e-03     1.000000e+00   \n",
       "Number of persons can sit  9.523677e-04      9.523677e-04    -9.523677e-04   \n",
       "Luggage Boot              -9.523677e-04     -9.523677e-04     9.523677e-04   \n",
       "Safety Level              -3.200145e-16     -1.012963e-16     6.731959e-17   \n",
       "Car Acceptiblity           5.105835e-02      3.982107e-02    -3.094953e-02   \n",
       "\n",
       "                           Number of persons can sit  Luggage Boot  \\\n",
       "Buying Price                            9.523677e-04 -9.523677e-04   \n",
       "Maintaince Price                        9.523677e-04 -9.523677e-04   \n",
       "Doors Available                        -9.523677e-04  9.523677e-04   \n",
       "Number of persons can sit               1.000000e+00  8.693132e-04   \n",
       "Luggage Boot                            8.693132e-04  1.000000e+00   \n",
       "Safety Level                            2.362177e-17 -7.231156e-18   \n",
       "Car Acceptiblity                       -2.992590e-01  3.283926e-02   \n",
       "\n",
       "                           Safety Level  Car Acceptiblity  \n",
       "Buying Price              -3.200145e-16          0.051058  \n",
       "Maintaince Price          -1.012963e-16          0.039821  \n",
       "Doors Available            6.731959e-17         -0.030950  \n",
       "Number of persons can sit  2.362177e-17         -0.299259  \n",
       "Luggage Boot              -7.231156e-18          0.032839  \n",
       "Safety Level               1.000000e+00         -0.021045  \n",
       "Car Acceptiblity          -2.104530e-02          1.000000  "
      ]
     },
     "execution_count": 25,
     "metadata": {},
     "output_type": "execute_result"
    }
   ],
   "source": [
    "df.corr()"
   ]
  },
  {
   "cell_type": "code",
   "execution_count": 26,
   "id": "91489f7e",
   "metadata": {},
   "outputs": [
    {
     "data": {
      "text/plain": [
       "<AxesSubplot:>"
      ]
     },
     "execution_count": 26,
     "metadata": {},
     "output_type": "execute_result"
    },
    {
     "data": {
      "image/png": "[encoded data removed]",
      "text/plain": [
       "<Figure size 1080x576 with 2 Axes>"
      ]
     },
     "metadata": {
      "needs_background": "light"
     },
     "output_type": "display_data"
    }
   ],
   "source": [
    "plt.figure(figsize=[15,8])\n",
    "sns.heatmap(df.corr(),annot=True)"
   ]
  },
  {
   "cell_type": "markdown",
   "id": "5bacf058",
   "metadata": {},
   "source": [
    "Observation : \n",
    "    \n",
    "    Each feature variable holds somewhere light correlation with the target variable and among themselves as well. There is no particular variable that has high significance on the target variable."
   ]
  },
  {
   "cell_type": "code",
   "execution_count": 27,
   "id": "4488f57b",
   "metadata": {},
   "outputs": [
    {
     "data": {
      "text/plain": [
       "<AxesSubplot:xlabel='Buying Price', ylabel='Doors Available'>"
      ]
     },
     "execution_count": 27,
     "metadata": {},
     "output_type": "execute_result"
    },
    {
     "data": {
      "image/png": "[encoded data removed]",
      "text/plain": [
       "<Figure size 1080x720 with 1 Axes>"
      ]
     },
     "metadata": {
      "needs_background": "light"
     },
     "output_type": "display_data"
    }
   ],
   "source": [
    "plt.figure(figsize=(15,10))\n",
    "sns.scatterplot(x='Buying Price',y='Doors Available',hue='Car Acceptiblity', data=df)"
   ]
  },
  {
   "cell_type": "code",
   "execution_count": 28,
   "id": "7ec4ae87",
   "metadata": {},
   "outputs": [
    {
     "data": {
      "text/plain": [
       "<AxesSubplot:xlabel='Maintaince Price', ylabel='Doors Available'>"
      ]
     },
     "execution_count": 28,
     "metadata": {},
     "output_type": "execute_result"
    },
    {
     "data": {
      "image/png": "[encoded data removed]",
      "text/plain": [
       "<Figure size 1080x720 with 1 Axes>"
      ]
     },
     "metadata": {
      "needs_background": "light"
     },
     "output_type": "display_data"
    }
   ],
   "source": [
    "plt.figure(figsize=(15,10))\n",
    "sns.scatterplot(x='Maintaince Price',y='Doors Available',hue='Car Acceptiblity', data=df)"
   ]
  },
  {
   "cell_type": "code",
   "execution_count": 29,
   "id": "5b4af46d",
   "metadata": {},
   "outputs": [
    {
     "data": {
      "text/plain": [
       "<AxesSubplot:xlabel='Buying Price', ylabel='Number of persons can sit'>"
      ]
     },
     "execution_count": 29,
     "metadata": {},
     "output_type": "execute_result"
    },
    {
     "data": {
      "image/png": "[encoded data removed]",
      "text/plain": [
       "<Figure size 1080x720 with 1 Axes>"
      ]
     },
     "metadata": {
      "needs_background": "light"
     },
     "output_type": "display_data"
    }
   ],
   "source": [
    "plt.figure(figsize=(15,10))\n",
    "sns.scatterplot(x='Buying Price',y='Number of persons can sit',hue='Car Acceptiblity', data=df)"
   ]
  },
  {
   "cell_type": "markdown",
   "id": "c0c3e2db",
   "metadata": {},
   "source": [
    "Variables are not following the linear distribution. It indicates that there might be presence of outliers in the dataset or some skewness is available. Let's check further to understand more about this."
   ]
  },
  {
   "cell_type": "code",
   "execution_count": 30,
   "id": "2c0aea38",
   "metadata": {},
   "outputs": [
    {
     "data": {
      "text/plain": [
       "Buying Price                 0.000933\n",
       "Maintaince Price             0.000933\n",
       "Doors Available             -0.000933\n",
       "Number of persons can sit   -0.001065\n",
       "Luggage Boot                 0.001065\n",
       "Safety Level                 0.000000\n",
       "Car Acceptiblity            -0.987511\n",
       "dtype: float64"
      ]
     },
     "execution_count": 30,
     "metadata": {},
     "output_type": "execute_result"
    }
   ],
   "source": [
    "df.skew()"
   ]
  },
  {
   "cell_type": "code",
   "execution_count": 31,
   "id": "408befe5",
   "metadata": {},
   "outputs": [
    {
     "data": {
      "text/plain": [
       "<AxesSubplot:ylabel='Density'>"
      ]
     },
     "execution_count": 31,
     "metadata": {},
     "output_type": "execute_result"
    },
    {
     "data": {
      "image/png": "[encoded data removed]",
      "text/plain": [
       "<Figure size 1080x720 with 1 Axes>"
      ]
     },
     "metadata": {
      "needs_background": "light"
     },
     "output_type": "display_data"
    }
   ],
   "source": [
    "plt.figure(figsize=(15,10))\n",
    "sns.distplot(df.skew())"
   ]
  },
  {
   "cell_type": "markdown",
   "id": "f685ff02",
   "metadata": {},
   "source": [
    "There is no skewness in that data distribution keeping the threshold -3 to +3. "
   ]
  },
  {
   "cell_type": "code",
   "execution_count": 32,
   "id": "a3ecc8ac",
   "metadata": {},
   "outputs": [
    {
     "data": {
      "image/png": "[encoded data removed]",
      "text/plain": [
       "<Figure size 2880x1440 with 9 Axes>"
      ]
     },
     "metadata": {
      "needs_background": "light"
     },
     "output_type": "display_data"
    }
   ],
   "source": [
    "df.hist(figsize=(40,20))\n",
    "plt.show()"
   ]
  },
  {
   "cell_type": "markdown",
   "id": "0cfdd62f",
   "metadata": {},
   "source": [
    "Data is normally distributed, it is clearly indicated by the boxplot we got for each respetive variable."
   ]
  },
  {
   "cell_type": "code",
   "execution_count": 33,
   "id": "27f8b141",
   "metadata": {},
   "outputs": [
    {
     "name": "stdout",
     "output_type": "stream",
     "text": [
      "(array([], dtype=int64), array([], dtype=int64))\n"
     ]
    }
   ],
   "source": [
    "#Chekcing the presence of outliers in the data.\n",
    "z = np.abs(zscore(df))\n",
    "print(np.where(z>3))"
   ]
  },
  {
   "cell_type": "markdown",
   "id": "f03a3783",
   "metadata": {},
   "source": [
    "There are no outliers present in the dataset. Dataset is good to go for the training."
   ]
  },
  {
   "cell_type": "code",
   "execution_count": 34,
   "id": "dd532a25",
   "metadata": {},
   "outputs": [
    {
     "data": {
      "text/plain": [
       "<seaborn.axisgrid.PairGrid at 0x27e6dc737f0>"
      ]
     },
     "execution_count": 34,
     "metadata": {},
     "output_type": "execute_result"
    },
    {
     "data": {
      "image/png": "[encoded data removed]",
      "text/plain": [
       "<Figure size 1260x1260 with 56 Axes>"
      ]
     },
     "metadata": {
      "needs_background": "light"
     },
     "output_type": "display_data"
    }
   ],
   "source": [
    "sns.pairplot(df)"
   ]
  },
  {
   "cell_type": "code",
   "execution_count": 35,
   "id": "a2953732",
   "metadata": {},
   "outputs": [
    {
     "name": "stdout",
     "output_type": "stream",
     "text": [
      "<class 'pandas.core.frame.DataFrame'>\n",
      "RangeIndex: 1727 entries, 0 to 1726\n",
      "Data columns (total 7 columns):\n",
      " #   Column                     Non-Null Count  Dtype\n",
      "---  ------                     --------------  -----\n",
      " 0   Buying Price               1727 non-null   int32\n",
      " 1   Maintaince Price           1727 non-null   int32\n",
      " 2   Doors Available            1727 non-null   int32\n",
      " 3   Number of persons can sit  1727 non-null   int32\n",
      " 4   Luggage Boot               1727 non-null   int32\n",
      " 5   Safety Level               1727 non-null   int32\n",
      " 6   Car Acceptiblity           1727 non-null   int32\n",
      "dtypes: int32(7)\n",
      "memory usage: 47.3 KB\n"
     ]
    }
   ],
   "source": [
    "df.info()"
   ]
  },
  {
   "cell_type": "markdown",
   "id": "d00fd214",
   "metadata": {},
   "source": [
    "# Splitting the dataset now into training and testing phase on the basis of 50% distribution. "
   ]
  },
  {
   "cell_type": "code",
   "execution_count": 36,
   "id": "fa11a947",
   "metadata": {},
   "outputs": [],
   "source": [
    "x = df.drop('Car Acceptiblity',axis=1)\n",
    "y = df['Car Acceptiblity']"
   ]
  },
  {
   "cell_type": "code",
   "execution_count": 37,
   "id": "ad04449c",
   "metadata": {},
   "outputs": [],
   "source": [
    "x_train,x_test,y_train,y_test = train_test_split(x,y,random_state = 50, test_size=.50)"
   ]
  },
  {
   "cell_type": "code",
   "execution_count": 38,
   "id": "043fc8cd",
   "metadata": {},
   "outputs": [
    {
     "data": {
      "text/plain": [
       "(863, 6)"
      ]
     },
     "execution_count": 38,
     "metadata": {},
     "output_type": "execute_result"
    }
   ],
   "source": [
    "x_train.shape"
   ]
  },
  {
   "cell_type": "code",
   "execution_count": 39,
   "id": "fadd9f66",
   "metadata": {},
   "outputs": [
    {
     "data": {
      "text/plain": [
       "(864, 6)"
      ]
     },
     "execution_count": 39,
     "metadata": {},
     "output_type": "execute_result"
    }
   ],
   "source": [
    "x_test.shape"
   ]
  },
  {
   "cell_type": "code",
   "execution_count": 40,
   "id": "ebf58a8b",
   "metadata": {},
   "outputs": [
    {
     "data": {
      "text/plain": [
       "(863,)"
      ]
     },
     "execution_count": 40,
     "metadata": {},
     "output_type": "execute_result"
    }
   ],
   "source": [
    "y_train.shape"
   ]
  },
  {
   "cell_type": "code",
   "execution_count": 41,
   "id": "3a2a520d",
   "metadata": {},
   "outputs": [
    {
     "data": {
      "text/plain": [
       "(864,)"
      ]
     },
     "execution_count": 41,
     "metadata": {},
     "output_type": "execute_result"
    }
   ],
   "source": [
    "y_test.shape"
   ]
  },
  {
   "cell_type": "markdown",
   "id": "b7575a7d",
   "metadata": {},
   "source": [
    "# Putting the Decision Tree Classifier now - "
   ]
  },
  {
   "cell_type": "code",
   "execution_count": 42,
   "id": "8df04fce",
   "metadata": {},
   "outputs": [
    {
     "data": {
      "text/html": [
       "<style>#sk-container-id-1 {color: black;background-color: white;}#sk-container-id-1 pre{padding: 0;}#sk-container-id-1 div.sk-toggleable {background-color: white;}#sk-container-id-1 label.sk-toggleable__label {cursor: pointer;display: block;width: 100%;margin-bottom: 0;padding: 0.3em;box-sizing: border-box;text-align: center;}#sk-container-id-1 label.sk-toggleable__label-arrow:before {content: \"▸\";float: left;margin-right: 0.25em;color: #696969;}#sk-container-id-1 label.sk-toggleable__label-arrow:hover:before {color: black;}#sk-container-id-1 div.sk-estimator:hover label.sk-toggleable__label-arrow:before {color: black;}#sk-container-id-1 div.sk-toggleable__content {max-height: 0;max-width: 0;overflow: hidden;text-align: left;background-color: #f0f8ff;}#sk-container-id-1 div.sk-toggleable__content pre {margin: 0.2em;color: black;border-radius: 0.25em;background-color: #f0f8ff;}#sk-container-id-1 input.sk-toggleable__control:checked~div.sk-toggleable__content {max-height: 200px;max-width: 100%;overflow: auto;}#sk-container-id-1 input.sk-toggleable__control:checked~label.sk-toggleable__label-arrow:before {content: \"▾\";}#sk-container-id-1 div.sk-estimator input.sk-toggleable__control:checked~label.sk-toggleable__label {background-color: #d4ebff;}#sk-container-id-1 div.sk-label input.sk-toggleable__control:checked~label.sk-toggleable__label {background-color: #d4ebff;}#sk-container-id-1 input.sk-hidden--visually {border: 0;clip: rect(1px 1px 1px 1px);clip: rect(1px, 1px, 1px, 1px);height: 1px;margin: -1px;overflow: hidden;padding: 0;position: absolute;width: 1px;}#sk-container-id-1 div.sk-estimator {font-family: monospace;background-color: #f0f8ff;border: 1px dotted black;border-radius: 0.25em;box-sizing: border-box;margin-bottom: 0.5em;}#sk-container-id-1 div.sk-estimator:hover {background-color: #d4ebff;}#sk-container-id-1 div.sk-parallel-item::after {content: \"\";width: 100%;border-bottom: 1px solid gray;flex-grow: 1;}#sk-container-id-1 div.sk-label:hover label.sk-toggleable__label {background-color: #d4ebff;}#sk-container-id-1 div.sk-serial::before {content: \"\";position: absolute;border-left: 1px solid gray;box-sizing: border-box;top: 0;bottom: 0;left: 50%;z-index: 0;}#sk-container-id-1 div.sk-serial {display: flex;flex-direction: column;align-items: center;background-color: white;padding-right: 0.2em;padding-left: 0.2em;position: relative;}#sk-container-id-1 div.sk-item {position: relative;z-index: 1;}#sk-container-id-1 div.sk-parallel {display: flex;align-items: stretch;justify-content: center;background-color: white;position: relative;}#sk-container-id-1 div.sk-item::before, #sk-container-id-1 div.sk-parallel-item::before {content: \"\";position: absolute;border-left: 1px solid gray;box-sizing: border-box;top: 0;bottom: 0;left: 50%;z-index: -1;}#sk-container-id-1 div.sk-parallel-item {display: flex;flex-direction: column;z-index: 1;position: relative;background-color: white;}#sk-container-id-1 div.sk-parallel-item:first-child::after {align-self: flex-end;width: 50%;}#sk-container-id-1 div.sk-parallel-item:last-child::after {align-self: flex-start;width: 50%;}#sk-container-id-1 div.sk-parallel-item:only-child::after {width: 0;}#sk-container-id-1 div.sk-dashed-wrapped {border: 1px dashed gray;margin: 0 0.4em 0.5em 0.4em;box-sizing: border-box;padding-bottom: 0.4em;background-color: white;}#sk-container-id-1 div.sk-label label {font-family: monospace;font-weight: bold;display: inline-block;line-height: 1.2em;}#sk-container-id-1 div.sk-label-container {text-align: center;}#sk-container-id-1 div.sk-container {/* jupyter's `normalize.less` sets `[hidden] { display: none; }` but bootstrap.min.css set `[hidden] { display: none !important; }` so we also need the `!important` here to be able to override the default hidden behavior on the sphinx rendered scikit-learn.org. See: https://github.com/scikit-learn/scikit-learn/issues/21755 */display: inline-block !important;position: relative;}#sk-container-id-1 div.sk-text-repr-fallback {display: none;}</style><div id=\"sk-container-id-1\" class=\"sk-top-container\"><div class=\"sk-text-repr-fallback\"><pre>DecisionTreeClassifier()</pre><b>In a Jupyter environment, please rerun this cell to show the HTML representation or trust the notebook. <br />On GitHub, the HTML representation is unable to render, please try loading this page with nbviewer.org.</b></div><div class=\"sk-container\" hidden><div class=\"sk-item\"><div class=\"sk-estimator sk-toggleable\"><input class=\"sk-toggleable__control sk-hidden--visually\" id=\"sk-estimator-id-1\" type=\"checkbox\" checked><label for=\"sk-estimator-id-1\" class=\"sk-toggleable__label sk-toggleable__label-arrow\">DecisionTreeClassifier</label><div class=\"sk-toggleable__content\"><pre>DecisionTreeClassifier()</pre></div></div></div></div></div>"
      ],
      "text/plain": [
       "DecisionTreeClassifier()"
      ]
     },
     "execution_count": 42,
     "metadata": {},
     "output_type": "execute_result"
    }
   ],
   "source": [
    "DT= DecisionTreeClassifier()\n",
    "DT.fit(x_train,y_train)"
   ]
  },
  {
   "cell_type": "code",
   "execution_count": 43,
   "id": "af739098",
   "metadata": {},
   "outputs": [
    {
     "data": {
      "text/plain": [
       "1.0"
      ]
     },
     "execution_count": 43,
     "metadata": {},
     "output_type": "execute_result"
    }
   ],
   "source": [
    "DT.score(x_train,y_train)"
   ]
  },
  {
   "cell_type": "code",
   "execution_count": 44,
   "id": "ae9fcfbc",
   "metadata": {},
   "outputs": [],
   "source": [
    "dtpred = DT.predict(x_test)"
   ]
  },
  {
   "cell_type": "code",
   "execution_count": 45,
   "id": "4952f68e",
   "metadata": {},
   "outputs": [
    {
     "data": {
      "text/plain": [
       "array([2, 2, 0, 2, 1, 2, 2, 0, 0, 2, 1, 2, 2, 0, 2, 1, 0, 2, 2, 2, 2, 2,\n",
       "       0, 2, 2, 2, 2, 0, 2, 2, 0, 0, 2, 2, 2, 2, 0, 2, 2, 2, 2, 2, 2, 2,\n",
       "       2, 1, 2, 2, 2, 2, 2, 0, 2, 2, 2, 2, 2, 0, 2, 2, 2, 3, 0, 2, 2, 0,\n",
       "       2, 2, 2, 2, 0, 2, 3, 2, 2, 2, 2, 2, 2, 2, 1, 2, 0, 2, 2, 0, 2, 2,\n",
       "       0, 2, 0, 2, 2, 0, 2, 2, 2, 2, 0, 1, 3, 2, 2, 0, 2, 2, 2, 2, 2, 2,\n",
       "       2, 2, 3, 0, 0, 0, 0, 0, 2, 2, 2, 3, 2, 2, 2, 2, 0, 2, 2, 0, 0, 0,\n",
       "       2, 2, 2, 2, 2, 2, 0, 2, 2, 2, 0, 2, 2, 0, 0, 2, 2, 2, 2, 2, 0, 0,\n",
       "       2, 1, 2, 2, 2, 0, 2, 2, 2, 2, 2, 2, 2, 3, 0, 2, 0, 0, 2, 0, 2, 0,\n",
       "       2, 2, 2, 0, 0, 2, 3, 2, 1, 2, 0, 2, 0, 2, 2, 2, 3, 2, 2, 0, 2, 0,\n",
       "       2, 2, 0, 0, 2, 2, 2, 2, 2, 2, 2, 2, 1, 2, 2, 2, 2, 2, 2, 2, 2, 2,\n",
       "       0, 2, 2, 0, 2, 0, 2, 0, 2, 2, 0, 0, 1, 2, 2, 2, 2, 2, 0, 2, 2, 0,\n",
       "       1, 2, 2, 2, 2, 0, 2, 2, 2, 2, 2, 2, 2, 2, 0, 2, 2, 2, 2, 0, 0, 2,\n",
       "       2, 2, 0, 2, 2, 2, 0, 2, 2, 2, 2, 2, 2, 2, 2, 2, 2, 2, 0, 2, 2, 1,\n",
       "       2, 1, 2, 2, 2, 2, 0, 2, 2, 2, 2, 2, 2, 2, 2, 2, 0, 2, 2, 2, 2, 0,\n",
       "       2, 2, 2, 2, 2, 2, 2, 0, 0, 2, 2, 2, 2, 2, 2, 2, 2, 2, 2, 3, 0, 2,\n",
       "       2, 2, 2, 0, 2, 2, 2, 2, 2, 0, 2, 2, 2, 0, 2, 2, 2, 2, 2, 0, 2, 2,\n",
       "       0, 2, 2, 2, 2, 2, 2, 2, 0, 2, 2, 1, 2, 1, 2, 2, 2, 2, 2, 2, 2, 2,\n",
       "       3, 2, 3, 2, 2, 2, 2, 0, 0, 2, 2, 2, 2, 0, 2, 2, 0, 2, 2, 2, 2, 2,\n",
       "       2, 0, 2, 2, 2, 2, 2, 2, 0, 2, 0, 0, 0, 2, 3, 2, 0, 2, 0, 0, 2, 2,\n",
       "       2, 2, 2, 3, 0, 2, 2, 2, 2, 0, 2, 2, 0, 2, 2, 2, 2, 2, 0, 2, 2, 2,\n",
       "       0, 0, 0, 2, 0, 2, 2, 2, 2, 2, 2, 2, 2, 2, 0, 2, 2, 0, 0, 2, 2, 2,\n",
       "       0, 2, 3, 2, 2, 2, 2, 2, 2, 1, 2, 2, 0, 2, 2, 2, 0, 2, 2, 2, 2, 0,\n",
       "       2, 2, 2, 2, 2, 1, 2, 3, 2, 0, 2, 0, 3, 2, 2, 2, 2, 0, 3, 2, 0, 0,\n",
       "       2, 2, 0, 0, 2, 2, 2, 2, 2, 2, 2, 2, 2, 0, 2, 0, 2, 2, 0, 2, 2, 2,\n",
       "       1, 0, 0, 2, 2, 2, 2, 2, 2, 2, 0, 0, 2, 2, 0, 0, 2, 1, 2, 0, 3, 2,\n",
       "       0, 0, 2, 2, 2, 2, 2, 2, 2, 2, 2, 2, 3, 2, 2, 2, 2, 2, 2, 2, 2, 2,\n",
       "       2, 2, 2, 2, 1, 2, 2, 0, 0, 0, 2, 0, 2, 2, 2, 0, 2, 0, 2, 2, 2, 2,\n",
       "       2, 2, 0, 2, 0, 0, 2, 2, 2, 2, 3, 0, 0, 2, 2, 3, 2, 2, 2, 0, 2, 0,\n",
       "       2, 2, 2, 0, 2, 2, 2, 2, 2, 2, 1, 2, 2, 2, 2, 2, 3, 1, 0, 0, 1, 2,\n",
       "       2, 0, 2, 3, 0, 0, 0, 2, 2, 2, 0, 0, 2, 3, 0, 2, 2, 0, 0, 2, 0, 0,\n",
       "       2, 2, 0, 0, 3, 2, 2, 2, 2, 2, 2, 2, 2, 2, 2, 1, 2, 2, 2, 3, 2, 2,\n",
       "       1, 2, 2, 2, 3, 0, 2, 2, 2, 0, 2, 2, 2, 2, 2, 2, 2, 0, 2, 0, 2, 2,\n",
       "       1, 2, 0, 2, 2, 2, 2, 2, 2, 2, 2, 2, 2, 2, 2, 2, 2, 2, 2, 2, 2, 0,\n",
       "       2, 2, 0, 2, 0, 2, 0, 2, 2, 2, 2, 1, 2, 2, 1, 2, 0, 2, 2, 0, 2, 2,\n",
       "       0, 2, 0, 2, 2, 2, 3, 2, 2, 0, 2, 2, 2, 2, 2, 2, 0, 2, 2, 0, 2, 2,\n",
       "       2, 2, 2, 0, 2, 2, 2, 2, 1, 2, 2, 2, 2, 0, 2, 0, 0, 0, 2, 1, 2, 2,\n",
       "       2, 2, 2, 2, 3, 0, 0, 2, 2, 1, 2, 3, 0, 2, 0, 2, 1, 2, 0, 2, 2, 2,\n",
       "       2, 2, 2, 2, 2, 2, 2, 2, 2, 0, 2, 2, 3, 2, 2, 2, 2, 0, 2, 2, 1, 2,\n",
       "       0, 2, 2, 0, 2, 2, 2, 2, 0, 2, 3, 0, 0, 0, 0, 2, 2, 2, 2, 2, 2, 0,\n",
       "       1, 0, 2, 2, 2, 1])"
      ]
     },
     "execution_count": 45,
     "metadata": {},
     "output_type": "execute_result"
    }
   ],
   "source": [
    "dtpred"
   ]
  },
  {
   "cell_type": "code",
   "execution_count": 46,
   "id": "5e187ad8",
   "metadata": {},
   "outputs": [
    {
     "data": {
      "text/plain": [
       "0.9618055555555556"
      ]
     },
     "execution_count": 46,
     "metadata": {},
     "output_type": "execute_result"
    }
   ],
   "source": [
    "DT.score(x_test,y_test)"
   ]
  },
  {
   "cell_type": "markdown",
   "id": "b2ed0867",
   "metadata": {},
   "source": [
    "When we predicted the variable, we got the predicted values 96% similar to the original valaues - which is a good score. Let's see more in depth what does the accuracy score says about the same."
   ]
  },
  {
   "cell_type": "code",
   "execution_count": 47,
   "id": "9c336739",
   "metadata": {},
   "outputs": [
    {
     "name": "stdout",
     "output_type": "stream",
     "text": [
      "The accuracy score of the models is:  0.9618055555555556\n"
     ]
    }
   ],
   "source": [
    "print(\"The accuracy score of the models is: \", accuracy_score(y_test,dtpred))"
   ]
  },
  {
   "cell_type": "code",
   "execution_count": 48,
   "id": "4ca0ebd6",
   "metadata": {},
   "outputs": [
    {
     "name": "stdout",
     "output_type": "stream",
     "text": [
      "The classification report of the model says the following: \n",
      "              precision    recall  f1-score   support\n",
      "\n",
      "           0       0.91      0.93      0.92       185\n",
      "           1       0.77      0.71      0.74        38\n",
      "           2       0.99      0.99      0.99       606\n",
      "           3       1.00      0.91      0.96        35\n",
      "\n",
      "    accuracy                           0.96       864\n",
      "   macro avg       0.92      0.89      0.90       864\n",
      "weighted avg       0.96      0.96      0.96       864\n",
      "\n"
     ]
    }
   ],
   "source": [
    "print(\"The classification report of the model says the following: \") \n",
    "print(classification_report(y_test,dtpred))"
   ]
  },
  {
   "cell_type": "code",
   "execution_count": 49,
   "id": "8a9ec36c",
   "metadata": {},
   "outputs": [
    {
     "name": "stdout",
     "output_type": "stream",
     "text": [
      "Confusion matrix is as follows: \n",
      "[[172   6   7   0]\n",
      " [ 11  27   0   0]\n",
      " [  6   0 600   0]\n",
      " [  1   2   0  32]]\n"
     ]
    }
   ],
   "source": [
    "print(\"Confusion matrix is as follows: \")\n",
    "print(confusion_matrix(y_test,dtpred))"
   ]
  },
  {
   "cell_type": "markdown",
   "id": "fc458dfc",
   "metadata": {},
   "source": [
    "The accuracy score of the decision tree classifier model is 96%. "
   ]
  },
  {
   "cell_type": "code",
   "execution_count": 50,
   "id": "255cf75a",
   "metadata": {},
   "outputs": [
    {
     "name": "stdout",
     "output_type": "stream",
     "text": [
      "Accuracy_Score of  DecisionTreeClassifier() is 96.18055555555556\n",
      "cross Validation accuracy score of  DecisionTreeClassifier()  is  79.51227276535143\n",
      "**************************************************\n"
     ]
    }
   ],
   "source": [
    "## Performing the cross validation. \n",
    "print('Accuracy_Score of ',DT, 'is', accuracy_score(y_test,DT.predict(x_test))*100)\n",
    "print(\"cross Validation accuracy score of \",DT ,\" is \",cross_val_score(DT,x,y,cv=5, scoring='accuracy').mean()*100)\n",
    "print('*'*50)"
   ]
  },
  {
   "cell_type": "code",
   "execution_count": 51,
   "id": "abadbb62",
   "metadata": {},
   "outputs": [
    {
     "name": "stdout",
     "output_type": "stream",
     "text": [
      "Tuned Decision Tree Parameters: {'min_samples_leaf': 1, 'max_features': 9, 'max_depth': None, 'criterion': 'entropy'}\n",
      "Best score is 0.8113211024545531\n"
     ]
    }
   ],
   "source": [
    "## Performming the hyperparameeter tuning now. \n",
    "from sklearn.model_selection import RandomizedSearchCV\n",
    "param_dist = {\"max_depth\": [3, None],\n",
    "              \"max_features\": (1, 9),\n",
    "              \"min_samples_leaf\": (1, 9),\n",
    "              \"criterion\": [\"gini\", \"entropy\"]}\n",
    "tree_cv = RandomizedSearchCV(DT, param_dist, cv = 5)\n",
    "tree_cv.fit(x, y)\n",
    "print(\"Tuned Decision Tree Parameters: {}\".format(tree_cv.best_params_))\n",
    "print(\"Best score is {}\".format(tree_cv.best_score_))"
   ]
  },
  {
   "cell_type": "code",
   "execution_count": 52,
   "id": "6b5ed7f1",
   "metadata": {},
   "outputs": [
    {
     "name": "stdout",
     "output_type": "stream",
     "text": [
      "              precision    recall  f1-score   support\n",
      "\n",
      "           0       1.00      1.00      1.00       185\n",
      "           1       1.00      1.00      1.00        38\n",
      "           2       1.00      1.00      1.00       606\n",
      "           3       1.00      1.00      1.00        35\n",
      "\n",
      "    accuracy                           1.00       864\n",
      "   macro avg       1.00      1.00      1.00       864\n",
      "weighted avg       1.00      1.00      1.00       864\n",
      "\n"
     ]
    }
   ],
   "source": [
    "dtpredict=tree_cv.best_estimator_.predict(x_test)\n",
    "print(classification_report(y_test,dtpredict))"
   ]
  },
  {
   "cell_type": "markdown",
   "id": "83539212",
   "metadata": {},
   "source": [
    "# Interpretation\n",
    "On applying the hyperparameter tuning and cross validation score with the Decision Tree Classifier - we got the best score as of 81% and accuracy score 100%. This actaully indicated that this model is siginificantly a great fit for the data set analysis and for making the predictions for the car acceptiblity status. All the variables on an aggregate basis, predicted the target variable \"Car Accpetiblity\". On predicting we got 81% significant values correct as it is originally given in the dataset. "
   ]
  }
 ],
 "metadata": {
  "kernelspec": {
   "display_name": "Python 3 (ipykernel)",
   "language": "python",
   "name": "python3"
  },
  "language_info": {
   "codemirror_mode": {
    "name": "ipython",
    "version": 3
   },
   "file_extension": ".py",
   "mimetype": "text/x-python",
   "name": "python",
   "nbconvert_exporter": "python",
   "pygments_lexer": "ipython3",
   "version": "3.9.7"
  }
 },
 "nbformat": 4,
 "nbformat_minor": 5
}
