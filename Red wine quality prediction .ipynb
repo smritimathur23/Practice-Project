{
 "cells": [
  {
   "cell_type": "markdown",
   "id": "d189b8ba",
   "metadata": {},
   "source": [
    "Problem Statement:\n",
    "\n",
    "The dataset is related to red and white variants of the Portuguese \"Vinho Verde\" wine. Due to privacy and logistic issues, only physicochemical (inputs) and sensory (the output) variables are available (e.g. there is no data about grape types, wine brand, wine selling price, etc.).\n",
    "\n",
    "This dataset can be viewed as classification task. The classes are ordered and not balanced (e.g. there are many more normal wines than excellent or poor ones). Also, we are not sure if all input variables are relevant. So it could be interesting to test feature selection methods."
   ]
  },
  {
   "cell_type": "markdown",
   "id": "890aa9a2",
   "metadata": {},
   "source": [
    "Attribute Information\n",
    "\n",
    "\n",
    "Input variables (based on physicochemical tests):\n",
    "\n",
    "1 - fixed acidity\n",
    "2 - volatile acidity\n",
    "3 - citric acid\n",
    "4 - residual sugar\n",
    "5 - chlorides\n",
    "6 - free sulfur dioxide\n",
    "7 - total sulfur dioxide\n",
    "8 - density\n",
    "9 - pH\n",
    "10 - sulphates\n",
    "11 - alcohol\n",
    "Output variable (based on sensory data):\n",
    "12 - quality (score between 0 and 10)\n",
    "\n",
    "What might be an interesting thing to do, is to set an arbitrary cutoff for your dependent variable (wine quality) at e.g. 7 or higher getting classified as 'good/1' and the remainder as 'not good/0'.\n",
    "This allows you to practice with hyper parameter tuning on e.g. decision tree algorithms looking at the ROC curve and the AUC value.\n",
    "\n",
    "You need to build a classification model. "
   ]
  },
  {
   "cell_type": "markdown",
   "id": "3591ee1b",
   "metadata": {},
   "source": [
    "Inspiration\n",
    "\n",
    "Use machine learning to determine which physiochemical properties make a wine 'good'!"
   ]
  },
  {
   "cell_type": "markdown",
   "id": "fd768f84",
   "metadata": {},
   "source": [
    "Data Source: https://github.com/dsrscientist/DSData/blob/master/winequality-red.csv"
   ]
  },
  {
   "cell_type": "code",
   "execution_count": 1,
   "id": "d8f66773",
   "metadata": {},
   "outputs": [],
   "source": [
    "import pandas as pd \n",
    "import numpy as np \n",
    "import matplotlib.pyplot as plt \n",
    "import seaborn as sns \n",
    "import sklearn \n",
    "from sklearn.preprocessing import LabelEncoder, StandardScaler \n",
    "from sklearn.naive_bayes import MultinomialNB \n",
    "from sklearn.tree import DecisionTreeClassifier \n",
    "from sklearn.neighbors import KNeighborsClassifier\n",
    "from sklearn.svm import SVC \n",
    "from sklearn.model_selection import train_test_split, GridSearchCV, cross_val_score\n",
    "from sklearn.metrics import accuracy_score, confusion_matrix, classification_report \n",
    "from sklearn.ensemble import RandomForestClassifier, AdaBoostClassifier \n",
    "from imblearn.over_sampling import SMOTE "
   ]
  },
  {
   "cell_type": "code",
   "execution_count": 2,
   "id": "07ea195a",
   "metadata": {},
   "outputs": [],
   "source": [
    "df = pd.read_csv(\"wine_quality.csv\")"
   ]
  },
  {
   "cell_type": "code",
   "execution_count": 3,
   "id": "8b836059",
   "metadata": {},
   "outputs": [
    {
     "data": {
      "text/html": [
       "<div>\n",
       "<style scoped>\n",
       "    .dataframe tbody tr th:only-of-type {\n",
       "        vertical-align: middle;\n",
       "    }\n",
       "\n",
       "    .dataframe tbody tr th {\n",
       "        vertical-align: top;\n",
       "    }\n",
       "\n",
       "    .dataframe thead th {\n",
       "        text-align: right;\n",
       "    }\n",
       "</style>\n",
       "<table border=\"1\" class=\"dataframe\">\n",
       "  <thead>\n",
       "    <tr style=\"text-align: right;\">\n",
       "      <th></th>\n",
       "      <th>fixed acidity</th>\n",
       "      <th>volatile acidity</th>\n",
       "      <th>citric acid</th>\n",
       "      <th>residual sugar</th>\n",
       "      <th>chlorides</th>\n",
       "      <th>free sulfur dioxide</th>\n",
       "      <th>total sulfur dioxide</th>\n",
       "      <th>density</th>\n",
       "      <th>pH</th>\n",
       "      <th>sulphates</th>\n",
       "      <th>alcohol</th>\n",
       "      <th>quality</th>\n",
       "    </tr>\n",
       "  </thead>\n",
       "  <tbody>\n",
       "    <tr>\n",
       "      <th>0</th>\n",
       "      <td>7.4</td>\n",
       "      <td>0.700</td>\n",
       "      <td>0.00</td>\n",
       "      <td>1.9</td>\n",
       "      <td>0.076</td>\n",
       "      <td>11.0</td>\n",
       "      <td>34.0</td>\n",
       "      <td>0.99780</td>\n",
       "      <td>3.51</td>\n",
       "      <td>0.56</td>\n",
       "      <td>9.4</td>\n",
       "      <td>5.0</td>\n",
       "    </tr>\n",
       "    <tr>\n",
       "      <th>1</th>\n",
       "      <td>7.8</td>\n",
       "      <td>0.880</td>\n",
       "      <td>0.00</td>\n",
       "      <td>2.6</td>\n",
       "      <td>0.098</td>\n",
       "      <td>25.0</td>\n",
       "      <td>67.0</td>\n",
       "      <td>0.99680</td>\n",
       "      <td>3.20</td>\n",
       "      <td>0.68</td>\n",
       "      <td>9.8</td>\n",
       "      <td>5.0</td>\n",
       "    </tr>\n",
       "    <tr>\n",
       "      <th>2</th>\n",
       "      <td>7.8</td>\n",
       "      <td>0.760</td>\n",
       "      <td>0.04</td>\n",
       "      <td>2.3</td>\n",
       "      <td>0.092</td>\n",
       "      <td>15.0</td>\n",
       "      <td>54.0</td>\n",
       "      <td>0.99700</td>\n",
       "      <td>3.26</td>\n",
       "      <td>0.65</td>\n",
       "      <td>9.8</td>\n",
       "      <td>5.0</td>\n",
       "    </tr>\n",
       "    <tr>\n",
       "      <th>3</th>\n",
       "      <td>11.2</td>\n",
       "      <td>0.280</td>\n",
       "      <td>0.56</td>\n",
       "      <td>1.9</td>\n",
       "      <td>0.075</td>\n",
       "      <td>17.0</td>\n",
       "      <td>60.0</td>\n",
       "      <td>0.99800</td>\n",
       "      <td>3.16</td>\n",
       "      <td>0.58</td>\n",
       "      <td>9.8</td>\n",
       "      <td>6.0</td>\n",
       "    </tr>\n",
       "    <tr>\n",
       "      <th>4</th>\n",
       "      <td>7.4</td>\n",
       "      <td>0.700</td>\n",
       "      <td>0.00</td>\n",
       "      <td>1.9</td>\n",
       "      <td>0.076</td>\n",
       "      <td>11.0</td>\n",
       "      <td>34.0</td>\n",
       "      <td>0.99780</td>\n",
       "      <td>3.51</td>\n",
       "      <td>0.56</td>\n",
       "      <td>9.4</td>\n",
       "      <td>5.0</td>\n",
       "    </tr>\n",
       "    <tr>\n",
       "      <th>...</th>\n",
       "      <td>...</td>\n",
       "      <td>...</td>\n",
       "      <td>...</td>\n",
       "      <td>...</td>\n",
       "      <td>...</td>\n",
       "      <td>...</td>\n",
       "      <td>...</td>\n",
       "      <td>...</td>\n",
       "      <td>...</td>\n",
       "      <td>...</td>\n",
       "      <td>...</td>\n",
       "      <td>...</td>\n",
       "    </tr>\n",
       "    <tr>\n",
       "      <th>1594</th>\n",
       "      <td>6.2</td>\n",
       "      <td>0.600</td>\n",
       "      <td>0.08</td>\n",
       "      <td>2.0</td>\n",
       "      <td>0.090</td>\n",
       "      <td>32.0</td>\n",
       "      <td>44.0</td>\n",
       "      <td>0.99490</td>\n",
       "      <td>3.45</td>\n",
       "      <td>0.58</td>\n",
       "      <td>10.5</td>\n",
       "      <td>5.0</td>\n",
       "    </tr>\n",
       "    <tr>\n",
       "      <th>1595</th>\n",
       "      <td>5.9</td>\n",
       "      <td>0.550</td>\n",
       "      <td>0.10</td>\n",
       "      <td>2.2</td>\n",
       "      <td>0.062</td>\n",
       "      <td>39.0</td>\n",
       "      <td>51.0</td>\n",
       "      <td>0.99512</td>\n",
       "      <td>3.52</td>\n",
       "      <td>0.76</td>\n",
       "      <td>11.2</td>\n",
       "      <td>6.0</td>\n",
       "    </tr>\n",
       "    <tr>\n",
       "      <th>1596</th>\n",
       "      <td>6.3</td>\n",
       "      <td>0.510</td>\n",
       "      <td>0.13</td>\n",
       "      <td>2.3</td>\n",
       "      <td>0.076</td>\n",
       "      <td>29.0</td>\n",
       "      <td>40.0</td>\n",
       "      <td>0.99574</td>\n",
       "      <td>3.42</td>\n",
       "      <td>0.75</td>\n",
       "      <td>11.0</td>\n",
       "      <td>6.0</td>\n",
       "    </tr>\n",
       "    <tr>\n",
       "      <th>1597</th>\n",
       "      <td>5.9</td>\n",
       "      <td>0.645</td>\n",
       "      <td>0.12</td>\n",
       "      <td>2.0</td>\n",
       "      <td>0.075</td>\n",
       "      <td>32.0</td>\n",
       "      <td>44.0</td>\n",
       "      <td>0.99547</td>\n",
       "      <td>3.57</td>\n",
       "      <td>0.71</td>\n",
       "      <td>10.2</td>\n",
       "      <td>5.0</td>\n",
       "    </tr>\n",
       "    <tr>\n",
       "      <th>1598</th>\n",
       "      <td>6.0</td>\n",
       "      <td>0.310</td>\n",
       "      <td>0.47</td>\n",
       "      <td>3.6</td>\n",
       "      <td>0.067</td>\n",
       "      <td>18.0</td>\n",
       "      <td>42.0</td>\n",
       "      <td>0.99549</td>\n",
       "      <td>3.39</td>\n",
       "      <td>0.60</td>\n",
       "      <td>NaN</td>\n",
       "      <td>NaN</td>\n",
       "    </tr>\n",
       "  </tbody>\n",
       "</table>\n",
       "<p>1599 rows × 12 columns</p>\n",
       "</div>"
      ],
      "text/plain": [
       "      fixed acidity  volatile acidity  citric acid  residual sugar  chlorides  \\\n",
       "0               7.4             0.700         0.00             1.9      0.076   \n",
       "1               7.8             0.880         0.00             2.6      0.098   \n",
       "2               7.8             0.760         0.04             2.3      0.092   \n",
       "3              11.2             0.280         0.56             1.9      0.075   \n",
       "4               7.4             0.700         0.00             1.9      0.076   \n",
       "...             ...               ...          ...             ...        ...   \n",
       "1594            6.2             0.600         0.08             2.0      0.090   \n",
       "1595            5.9             0.550         0.10             2.2      0.062   \n",
       "1596            6.3             0.510         0.13             2.3      0.076   \n",
       "1597            5.9             0.645         0.12             2.0      0.075   \n",
       "1598            6.0             0.310         0.47             3.6      0.067   \n",
       "\n",
       "      free sulfur dioxide  total sulfur dioxide  density    pH  sulphates  \\\n",
       "0                    11.0                  34.0  0.99780  3.51       0.56   \n",
       "1                    25.0                  67.0  0.99680  3.20       0.68   \n",
       "2                    15.0                  54.0  0.99700  3.26       0.65   \n",
       "3                    17.0                  60.0  0.99800  3.16       0.58   \n",
       "4                    11.0                  34.0  0.99780  3.51       0.56   \n",
       "...                   ...                   ...      ...   ...        ...   \n",
       "1594                 32.0                  44.0  0.99490  3.45       0.58   \n",
       "1595                 39.0                  51.0  0.99512  3.52       0.76   \n",
       "1596                 29.0                  40.0  0.99574  3.42       0.75   \n",
       "1597                 32.0                  44.0  0.99547  3.57       0.71   \n",
       "1598                 18.0                  42.0  0.99549  3.39       0.60   \n",
       "\n",
       "      alcohol  quality  \n",
       "0         9.4      5.0  \n",
       "1         9.8      5.0  \n",
       "2         9.8      5.0  \n",
       "3         9.8      6.0  \n",
       "4         9.4      5.0  \n",
       "...       ...      ...  \n",
       "1594     10.5      5.0  \n",
       "1595     11.2      6.0  \n",
       "1596     11.0      6.0  \n",
       "1597     10.2      5.0  \n",
       "1598      NaN      NaN  \n",
       "\n",
       "[1599 rows x 12 columns]"
      ]
     },
     "execution_count": 3,
     "metadata": {},
     "output_type": "execute_result"
    }
   ],
   "source": [
    "df"
   ]
  },
  {
   "cell_type": "code",
   "execution_count": 4,
   "id": "85c9fd43",
   "metadata": {},
   "outputs": [
    {
     "data": {
      "text/plain": [
       "Index(['fixed acidity', 'volatile acidity', 'citric acid', 'residual sugar',\n",
       "       'chlorides', 'free sulfur dioxide', 'total sulfur dioxide', 'density',\n",
       "       'pH', 'sulphates', 'alcohol', 'quality'],\n",
       "      dtype='object')"
      ]
     },
     "execution_count": 4,
     "metadata": {},
     "output_type": "execute_result"
    }
   ],
   "source": [
    "df.columns"
   ]
  },
  {
   "cell_type": "code",
   "execution_count": 5,
   "id": "d22d5743",
   "metadata": {},
   "outputs": [],
   "source": [
    "##Lets do an arbitary cutoff for the dependent varaibale here. If the quality is more than 8 --> it is a good quality, otherwise it is a bad quality. \n",
    "def quality(x): \n",
    "    if x>5: \n",
    "        return 1 \n",
    "    else: \n",
    "        return 0"
   ]
  },
  {
   "cell_type": "code",
   "execution_count": 6,
   "id": "368be2bb",
   "metadata": {},
   "outputs": [],
   "source": [
    "df['quality'] = df['quality'].apply(quality)"
   ]
  },
  {
   "cell_type": "code",
   "execution_count": 7,
   "id": "2fa8dfa9",
   "metadata": {},
   "outputs": [
    {
     "data": {
      "text/html": [
       "<div>\n",
       "<style scoped>\n",
       "    .dataframe tbody tr th:only-of-type {\n",
       "        vertical-align: middle;\n",
       "    }\n",
       "\n",
       "    .dataframe tbody tr th {\n",
       "        vertical-align: top;\n",
       "    }\n",
       "\n",
       "    .dataframe thead th {\n",
       "        text-align: right;\n",
       "    }\n",
       "</style>\n",
       "<table border=\"1\" class=\"dataframe\">\n",
       "  <thead>\n",
       "    <tr style=\"text-align: right;\">\n",
       "      <th></th>\n",
       "      <th>fixed acidity</th>\n",
       "      <th>volatile acidity</th>\n",
       "      <th>citric acid</th>\n",
       "      <th>residual sugar</th>\n",
       "      <th>chlorides</th>\n",
       "      <th>free sulfur dioxide</th>\n",
       "      <th>total sulfur dioxide</th>\n",
       "      <th>density</th>\n",
       "      <th>pH</th>\n",
       "      <th>sulphates</th>\n",
       "      <th>alcohol</th>\n",
       "      <th>quality</th>\n",
       "    </tr>\n",
       "  </thead>\n",
       "  <tbody>\n",
       "    <tr>\n",
       "      <th>0</th>\n",
       "      <td>7.4</td>\n",
       "      <td>0.700</td>\n",
       "      <td>0.00</td>\n",
       "      <td>1.9</td>\n",
       "      <td>0.076</td>\n",
       "      <td>11.0</td>\n",
       "      <td>34.0</td>\n",
       "      <td>0.99780</td>\n",
       "      <td>3.51</td>\n",
       "      <td>0.56</td>\n",
       "      <td>9.4</td>\n",
       "      <td>0</td>\n",
       "    </tr>\n",
       "    <tr>\n",
       "      <th>1</th>\n",
       "      <td>7.8</td>\n",
       "      <td>0.880</td>\n",
       "      <td>0.00</td>\n",
       "      <td>2.6</td>\n",
       "      <td>0.098</td>\n",
       "      <td>25.0</td>\n",
       "      <td>67.0</td>\n",
       "      <td>0.99680</td>\n",
       "      <td>3.20</td>\n",
       "      <td>0.68</td>\n",
       "      <td>9.8</td>\n",
       "      <td>0</td>\n",
       "    </tr>\n",
       "    <tr>\n",
       "      <th>2</th>\n",
       "      <td>7.8</td>\n",
       "      <td>0.760</td>\n",
       "      <td>0.04</td>\n",
       "      <td>2.3</td>\n",
       "      <td>0.092</td>\n",
       "      <td>15.0</td>\n",
       "      <td>54.0</td>\n",
       "      <td>0.99700</td>\n",
       "      <td>3.26</td>\n",
       "      <td>0.65</td>\n",
       "      <td>9.8</td>\n",
       "      <td>0</td>\n",
       "    </tr>\n",
       "    <tr>\n",
       "      <th>3</th>\n",
       "      <td>11.2</td>\n",
       "      <td>0.280</td>\n",
       "      <td>0.56</td>\n",
       "      <td>1.9</td>\n",
       "      <td>0.075</td>\n",
       "      <td>17.0</td>\n",
       "      <td>60.0</td>\n",
       "      <td>0.99800</td>\n",
       "      <td>3.16</td>\n",
       "      <td>0.58</td>\n",
       "      <td>9.8</td>\n",
       "      <td>1</td>\n",
       "    </tr>\n",
       "    <tr>\n",
       "      <th>4</th>\n",
       "      <td>7.4</td>\n",
       "      <td>0.700</td>\n",
       "      <td>0.00</td>\n",
       "      <td>1.9</td>\n",
       "      <td>0.076</td>\n",
       "      <td>11.0</td>\n",
       "      <td>34.0</td>\n",
       "      <td>0.99780</td>\n",
       "      <td>3.51</td>\n",
       "      <td>0.56</td>\n",
       "      <td>9.4</td>\n",
       "      <td>0</td>\n",
       "    </tr>\n",
       "    <tr>\n",
       "      <th>...</th>\n",
       "      <td>...</td>\n",
       "      <td>...</td>\n",
       "      <td>...</td>\n",
       "      <td>...</td>\n",
       "      <td>...</td>\n",
       "      <td>...</td>\n",
       "      <td>...</td>\n",
       "      <td>...</td>\n",
       "      <td>...</td>\n",
       "      <td>...</td>\n",
       "      <td>...</td>\n",
       "      <td>...</td>\n",
       "    </tr>\n",
       "    <tr>\n",
       "      <th>1594</th>\n",
       "      <td>6.2</td>\n",
       "      <td>0.600</td>\n",
       "      <td>0.08</td>\n",
       "      <td>2.0</td>\n",
       "      <td>0.090</td>\n",
       "      <td>32.0</td>\n",
       "      <td>44.0</td>\n",
       "      <td>0.99490</td>\n",
       "      <td>3.45</td>\n",
       "      <td>0.58</td>\n",
       "      <td>10.5</td>\n",
       "      <td>0</td>\n",
       "    </tr>\n",
       "    <tr>\n",
       "      <th>1595</th>\n",
       "      <td>5.9</td>\n",
       "      <td>0.550</td>\n",
       "      <td>0.10</td>\n",
       "      <td>2.2</td>\n",
       "      <td>0.062</td>\n",
       "      <td>39.0</td>\n",
       "      <td>51.0</td>\n",
       "      <td>0.99512</td>\n",
       "      <td>3.52</td>\n",
       "      <td>0.76</td>\n",
       "      <td>11.2</td>\n",
       "      <td>1</td>\n",
       "    </tr>\n",
       "    <tr>\n",
       "      <th>1596</th>\n",
       "      <td>6.3</td>\n",
       "      <td>0.510</td>\n",
       "      <td>0.13</td>\n",
       "      <td>2.3</td>\n",
       "      <td>0.076</td>\n",
       "      <td>29.0</td>\n",
       "      <td>40.0</td>\n",
       "      <td>0.99574</td>\n",
       "      <td>3.42</td>\n",
       "      <td>0.75</td>\n",
       "      <td>11.0</td>\n",
       "      <td>1</td>\n",
       "    </tr>\n",
       "    <tr>\n",
       "      <th>1597</th>\n",
       "      <td>5.9</td>\n",
       "      <td>0.645</td>\n",
       "      <td>0.12</td>\n",
       "      <td>2.0</td>\n",
       "      <td>0.075</td>\n",
       "      <td>32.0</td>\n",
       "      <td>44.0</td>\n",
       "      <td>0.99547</td>\n",
       "      <td>3.57</td>\n",
       "      <td>0.71</td>\n",
       "      <td>10.2</td>\n",
       "      <td>0</td>\n",
       "    </tr>\n",
       "    <tr>\n",
       "      <th>1598</th>\n",
       "      <td>6.0</td>\n",
       "      <td>0.310</td>\n",
       "      <td>0.47</td>\n",
       "      <td>3.6</td>\n",
       "      <td>0.067</td>\n",
       "      <td>18.0</td>\n",
       "      <td>42.0</td>\n",
       "      <td>0.99549</td>\n",
       "      <td>3.39</td>\n",
       "      <td>0.60</td>\n",
       "      <td>NaN</td>\n",
       "      <td>0</td>\n",
       "    </tr>\n",
       "  </tbody>\n",
       "</table>\n",
       "<p>1599 rows × 12 columns</p>\n",
       "</div>"
      ],
      "text/plain": [
       "      fixed acidity  volatile acidity  citric acid  residual sugar  chlorides  \\\n",
       "0               7.4             0.700         0.00             1.9      0.076   \n",
       "1               7.8             0.880         0.00             2.6      0.098   \n",
       "2               7.8             0.760         0.04             2.3      0.092   \n",
       "3              11.2             0.280         0.56             1.9      0.075   \n",
       "4               7.4             0.700         0.00             1.9      0.076   \n",
       "...             ...               ...          ...             ...        ...   \n",
       "1594            6.2             0.600         0.08             2.0      0.090   \n",
       "1595            5.9             0.550         0.10             2.2      0.062   \n",
       "1596            6.3             0.510         0.13             2.3      0.076   \n",
       "1597            5.9             0.645         0.12             2.0      0.075   \n",
       "1598            6.0             0.310         0.47             3.6      0.067   \n",
       "\n",
       "      free sulfur dioxide  total sulfur dioxide  density    pH  sulphates  \\\n",
       "0                    11.0                  34.0  0.99780  3.51       0.56   \n",
       "1                    25.0                  67.0  0.99680  3.20       0.68   \n",
       "2                    15.0                  54.0  0.99700  3.26       0.65   \n",
       "3                    17.0                  60.0  0.99800  3.16       0.58   \n",
       "4                    11.0                  34.0  0.99780  3.51       0.56   \n",
       "...                   ...                   ...      ...   ...        ...   \n",
       "1594                 32.0                  44.0  0.99490  3.45       0.58   \n",
       "1595                 39.0                  51.0  0.99512  3.52       0.76   \n",
       "1596                 29.0                  40.0  0.99574  3.42       0.75   \n",
       "1597                 32.0                  44.0  0.99547  3.57       0.71   \n",
       "1598                 18.0                  42.0  0.99549  3.39       0.60   \n",
       "\n",
       "      alcohol  quality  \n",
       "0         9.4        0  \n",
       "1         9.8        0  \n",
       "2         9.8        0  \n",
       "3         9.8        1  \n",
       "4         9.4        0  \n",
       "...       ...      ...  \n",
       "1594     10.5        0  \n",
       "1595     11.2        1  \n",
       "1596     11.0        1  \n",
       "1597     10.2        0  \n",
       "1598      NaN        0  \n",
       "\n",
       "[1599 rows x 12 columns]"
      ]
     },
     "execution_count": 7,
     "metadata": {},
     "output_type": "execute_result"
    }
   ],
   "source": [
    "df"
   ]
  },
  {
   "cell_type": "code",
   "execution_count": 8,
   "id": "3121ba70",
   "metadata": {},
   "outputs": [
    {
     "data": {
      "text/html": [
       "<div>\n",
       "<style scoped>\n",
       "    .dataframe tbody tr th:only-of-type {\n",
       "        vertical-align: middle;\n",
       "    }\n",
       "\n",
       "    .dataframe tbody tr th {\n",
       "        vertical-align: top;\n",
       "    }\n",
       "\n",
       "    .dataframe thead th {\n",
       "        text-align: right;\n",
       "    }\n",
       "</style>\n",
       "<table border=\"1\" class=\"dataframe\">\n",
       "  <thead>\n",
       "    <tr style=\"text-align: right;\">\n",
       "      <th></th>\n",
       "      <th>fixed acidity</th>\n",
       "      <th>volatile acidity</th>\n",
       "      <th>citric acid</th>\n",
       "      <th>residual sugar</th>\n",
       "      <th>chlorides</th>\n",
       "      <th>free sulfur dioxide</th>\n",
       "      <th>total sulfur dioxide</th>\n",
       "      <th>density</th>\n",
       "      <th>pH</th>\n",
       "      <th>sulphates</th>\n",
       "      <th>alcohol</th>\n",
       "      <th>quality</th>\n",
       "    </tr>\n",
       "  </thead>\n",
       "  <tbody>\n",
       "    <tr>\n",
       "      <th>0</th>\n",
       "      <td>7.4</td>\n",
       "      <td>0.70</td>\n",
       "      <td>0.00</td>\n",
       "      <td>1.9</td>\n",
       "      <td>0.076</td>\n",
       "      <td>11.0</td>\n",
       "      <td>34.0</td>\n",
       "      <td>0.9978</td>\n",
       "      <td>3.51</td>\n",
       "      <td>0.56</td>\n",
       "      <td>9.4</td>\n",
       "      <td>0</td>\n",
       "    </tr>\n",
       "    <tr>\n",
       "      <th>1</th>\n",
       "      <td>7.8</td>\n",
       "      <td>0.88</td>\n",
       "      <td>0.00</td>\n",
       "      <td>2.6</td>\n",
       "      <td>0.098</td>\n",
       "      <td>25.0</td>\n",
       "      <td>67.0</td>\n",
       "      <td>0.9968</td>\n",
       "      <td>3.20</td>\n",
       "      <td>0.68</td>\n",
       "      <td>9.8</td>\n",
       "      <td>0</td>\n",
       "    </tr>\n",
       "    <tr>\n",
       "      <th>2</th>\n",
       "      <td>7.8</td>\n",
       "      <td>0.76</td>\n",
       "      <td>0.04</td>\n",
       "      <td>2.3</td>\n",
       "      <td>0.092</td>\n",
       "      <td>15.0</td>\n",
       "      <td>54.0</td>\n",
       "      <td>0.9970</td>\n",
       "      <td>3.26</td>\n",
       "      <td>0.65</td>\n",
       "      <td>9.8</td>\n",
       "      <td>0</td>\n",
       "    </tr>\n",
       "    <tr>\n",
       "      <th>3</th>\n",
       "      <td>11.2</td>\n",
       "      <td>0.28</td>\n",
       "      <td>0.56</td>\n",
       "      <td>1.9</td>\n",
       "      <td>0.075</td>\n",
       "      <td>17.0</td>\n",
       "      <td>60.0</td>\n",
       "      <td>0.9980</td>\n",
       "      <td>3.16</td>\n",
       "      <td>0.58</td>\n",
       "      <td>9.8</td>\n",
       "      <td>1</td>\n",
       "    </tr>\n",
       "    <tr>\n",
       "      <th>4</th>\n",
       "      <td>7.4</td>\n",
       "      <td>0.70</td>\n",
       "      <td>0.00</td>\n",
       "      <td>1.9</td>\n",
       "      <td>0.076</td>\n",
       "      <td>11.0</td>\n",
       "      <td>34.0</td>\n",
       "      <td>0.9978</td>\n",
       "      <td>3.51</td>\n",
       "      <td>0.56</td>\n",
       "      <td>9.4</td>\n",
       "      <td>0</td>\n",
       "    </tr>\n",
       "    <tr>\n",
       "      <th>5</th>\n",
       "      <td>7.4</td>\n",
       "      <td>0.66</td>\n",
       "      <td>0.00</td>\n",
       "      <td>1.8</td>\n",
       "      <td>0.075</td>\n",
       "      <td>13.0</td>\n",
       "      <td>40.0</td>\n",
       "      <td>0.9978</td>\n",
       "      <td>3.51</td>\n",
       "      <td>0.56</td>\n",
       "      <td>9.4</td>\n",
       "      <td>0</td>\n",
       "    </tr>\n",
       "    <tr>\n",
       "      <th>6</th>\n",
       "      <td>7.9</td>\n",
       "      <td>0.60</td>\n",
       "      <td>0.06</td>\n",
       "      <td>1.6</td>\n",
       "      <td>0.069</td>\n",
       "      <td>15.0</td>\n",
       "      <td>59.0</td>\n",
       "      <td>0.9964</td>\n",
       "      <td>3.30</td>\n",
       "      <td>0.46</td>\n",
       "      <td>9.4</td>\n",
       "      <td>0</td>\n",
       "    </tr>\n",
       "    <tr>\n",
       "      <th>7</th>\n",
       "      <td>7.3</td>\n",
       "      <td>0.65</td>\n",
       "      <td>0.00</td>\n",
       "      <td>1.2</td>\n",
       "      <td>0.065</td>\n",
       "      <td>15.0</td>\n",
       "      <td>21.0</td>\n",
       "      <td>0.9946</td>\n",
       "      <td>3.39</td>\n",
       "      <td>0.47</td>\n",
       "      <td>10.0</td>\n",
       "      <td>1</td>\n",
       "    </tr>\n",
       "    <tr>\n",
       "      <th>8</th>\n",
       "      <td>7.8</td>\n",
       "      <td>0.58</td>\n",
       "      <td>0.02</td>\n",
       "      <td>2.0</td>\n",
       "      <td>0.073</td>\n",
       "      <td>9.0</td>\n",
       "      <td>18.0</td>\n",
       "      <td>0.9968</td>\n",
       "      <td>3.36</td>\n",
       "      <td>0.57</td>\n",
       "      <td>9.5</td>\n",
       "      <td>1</td>\n",
       "    </tr>\n",
       "    <tr>\n",
       "      <th>9</th>\n",
       "      <td>7.5</td>\n",
       "      <td>0.50</td>\n",
       "      <td>0.36</td>\n",
       "      <td>6.1</td>\n",
       "      <td>0.071</td>\n",
       "      <td>17.0</td>\n",
       "      <td>102.0</td>\n",
       "      <td>0.9978</td>\n",
       "      <td>3.35</td>\n",
       "      <td>0.80</td>\n",
       "      <td>10.5</td>\n",
       "      <td>0</td>\n",
       "    </tr>\n",
       "  </tbody>\n",
       "</table>\n",
       "</div>"
      ],
      "text/plain": [
       "   fixed acidity  volatile acidity  citric acid  residual sugar  chlorides  \\\n",
       "0            7.4              0.70         0.00             1.9      0.076   \n",
       "1            7.8              0.88         0.00             2.6      0.098   \n",
       "2            7.8              0.76         0.04             2.3      0.092   \n",
       "3           11.2              0.28         0.56             1.9      0.075   \n",
       "4            7.4              0.70         0.00             1.9      0.076   \n",
       "5            7.4              0.66         0.00             1.8      0.075   \n",
       "6            7.9              0.60         0.06             1.6      0.069   \n",
       "7            7.3              0.65         0.00             1.2      0.065   \n",
       "8            7.8              0.58         0.02             2.0      0.073   \n",
       "9            7.5              0.50         0.36             6.1      0.071   \n",
       "\n",
       "   free sulfur dioxide  total sulfur dioxide  density    pH  sulphates  \\\n",
       "0                 11.0                  34.0   0.9978  3.51       0.56   \n",
       "1                 25.0                  67.0   0.9968  3.20       0.68   \n",
       "2                 15.0                  54.0   0.9970  3.26       0.65   \n",
       "3                 17.0                  60.0   0.9980  3.16       0.58   \n",
       "4                 11.0                  34.0   0.9978  3.51       0.56   \n",
       "5                 13.0                  40.0   0.9978  3.51       0.56   \n",
       "6                 15.0                  59.0   0.9964  3.30       0.46   \n",
       "7                 15.0                  21.0   0.9946  3.39       0.47   \n",
       "8                  9.0                  18.0   0.9968  3.36       0.57   \n",
       "9                 17.0                 102.0   0.9978  3.35       0.80   \n",
       "\n",
       "   alcohol  quality  \n",
       "0      9.4        0  \n",
       "1      9.8        0  \n",
       "2      9.8        0  \n",
       "3      9.8        1  \n",
       "4      9.4        0  \n",
       "5      9.4        0  \n",
       "6      9.4        0  \n",
       "7     10.0        1  \n",
       "8      9.5        1  \n",
       "9     10.5        0  "
      ]
     },
     "execution_count": 8,
     "metadata": {},
     "output_type": "execute_result"
    }
   ],
   "source": [
    "df.head(10)"
   ]
  },
  {
   "cell_type": "code",
   "execution_count": 9,
   "id": "5eb6054c",
   "metadata": {},
   "outputs": [
    {
     "data": {
      "text/plain": [
       "fixed acidity           0\n",
       "volatile acidity        0\n",
       "citric acid             0\n",
       "residual sugar          0\n",
       "chlorides               0\n",
       "free sulfur dioxide     0\n",
       "total sulfur dioxide    0\n",
       "density                 0\n",
       "pH                      0\n",
       "sulphates               0\n",
       "alcohol                 1\n",
       "quality                 0\n",
       "dtype: int64"
      ]
     },
     "execution_count": 9,
     "metadata": {},
     "output_type": "execute_result"
    }
   ],
   "source": [
    "#Checking null values in the dataframe if there is any. \n",
    "df.isnull().sum()"
   ]
  },
  {
   "cell_type": "code",
   "execution_count": 10,
   "id": "0934422d",
   "metadata": {},
   "outputs": [],
   "source": [
    "## Now since there is one null value in alcohol, we will replace it with the overall mean of the alcohol instead of dropping it here. \n",
    "df['alcohol'].fillna(df['alcohol'].mean, axis = 0, inplace = True)"
   ]
  },
  {
   "cell_type": "code",
   "execution_count": 11,
   "id": "1df9ad69",
   "metadata": {},
   "outputs": [
    {
     "data": {
      "text/plain": [
       "fixed acidity           0\n",
       "volatile acidity        0\n",
       "citric acid             0\n",
       "residual sugar          0\n",
       "chlorides               0\n",
       "free sulfur dioxide     0\n",
       "total sulfur dioxide    0\n",
       "density                 0\n",
       "pH                      0\n",
       "sulphates               0\n",
       "alcohol                 0\n",
       "quality                 0\n",
       "dtype: int64"
      ]
     },
     "execution_count": 11,
     "metadata": {},
     "output_type": "execute_result"
    }
   ],
   "source": [
    "df.isnull().sum()"
   ]
  },
  {
   "cell_type": "code",
   "execution_count": 12,
   "id": "ce9a05fb",
   "metadata": {},
   "outputs": [
    {
     "data": {
      "text/plain": [
       "(array([], dtype=int64),)"
      ]
     },
     "execution_count": 12,
     "metadata": {},
     "output_type": "execute_result"
    }
   ],
   "source": [
    "np.where(df.alcohol == 'NaN')"
   ]
  },
  {
   "cell_type": "code",
   "execution_count": 13,
   "id": "aa041e2e",
   "metadata": {},
   "outputs": [],
   "source": [
    "df['alcohol'] = df['alcohol'].replace(\" \", np.nan)"
   ]
  },
  {
   "cell_type": "code",
   "execution_count": 14,
   "id": "c0cc4220",
   "metadata": {},
   "outputs": [
    {
     "data": {
      "text/plain": [
       "fixed acidity           0\n",
       "volatile acidity        0\n",
       "citric acid             0\n",
       "residual sugar          0\n",
       "chlorides               0\n",
       "free sulfur dioxide     0\n",
       "total sulfur dioxide    0\n",
       "density                 0\n",
       "pH                      0\n",
       "sulphates               0\n",
       "alcohol                 0\n",
       "quality                 0\n",
       "dtype: int64"
      ]
     },
     "execution_count": 14,
     "metadata": {},
     "output_type": "execute_result"
    }
   ],
   "source": [
    "df.isnull().sum()"
   ]
  },
  {
   "cell_type": "markdown",
   "id": "cd818321",
   "metadata": {},
   "source": [
    "Since there is no null values in the dataset, we can proceed now! "
   ]
  },
  {
   "cell_type": "markdown",
   "id": "e39693b1",
   "metadata": {},
   "source": [
    "# Dataframe description: "
   ]
  },
  {
   "cell_type": "markdown",
   "id": "bd1d3c8b",
   "metadata": {},
   "source": [
    "We do have charatersticks variables as independent variable like fixed acidity, volatile acidity, citric acid, residual sugar, chlorides, free sulfurdioxide, total sulfurdioxiode, density, pH, sulphates, alcohol. \n",
    "Dependent variable is quality here. We will be predicting the quality (whether the wine is of good quality depending on the independent variables available or it is not?). \n"
   ]
  },
  {
   "cell_type": "markdown",
   "id": "34f3a8b4",
   "metadata": {},
   "source": [
    "# Checking the datatypes of the columns: "
   ]
  },
  {
   "cell_type": "code",
   "execution_count": 15,
   "id": "64b4e917",
   "metadata": {},
   "outputs": [
    {
     "data": {
      "text/plain": [
       "fixed acidity           float64\n",
       "volatile acidity        float64\n",
       "citric acid             float64\n",
       "residual sugar          float64\n",
       "chlorides               float64\n",
       "free sulfur dioxide     float64\n",
       "total sulfur dioxide    float64\n",
       "density                 float64\n",
       "pH                      float64\n",
       "sulphates               float64\n",
       "alcohol                  object\n",
       "quality                   int64\n",
       "dtype: object"
      ]
     },
     "execution_count": 15,
     "metadata": {},
     "output_type": "execute_result"
    }
   ],
   "source": [
    "df.dtypes"
   ]
  },
  {
   "cell_type": "code",
   "execution_count": 16,
   "id": "45958369",
   "metadata": {},
   "outputs": [],
   "source": [
    "#Since one of the data type is object and continous in nature. We need to make it float. "
   ]
  },
  {
   "cell_type": "code",
   "execution_count": 17,
   "id": "660cafa0",
   "metadata": {},
   "outputs": [],
   "source": [
    "df['alcohol'] = pd.to_numeric(df['alcohol'],errors = 'coerce')"
   ]
  },
  {
   "cell_type": "code",
   "execution_count": 18,
   "id": "72499aca",
   "metadata": {},
   "outputs": [
    {
     "data": {
      "text/plain": [
       "fixed acidity           float64\n",
       "volatile acidity        float64\n",
       "citric acid             float64\n",
       "residual sugar          float64\n",
       "chlorides               float64\n",
       "free sulfur dioxide     float64\n",
       "total sulfur dioxide    float64\n",
       "density                 float64\n",
       "pH                      float64\n",
       "sulphates               float64\n",
       "alcohol                 float64\n",
       "quality                   int64\n",
       "dtype: object"
      ]
     },
     "execution_count": 18,
     "metadata": {},
     "output_type": "execute_result"
    }
   ],
   "source": [
    "df.dtypes"
   ]
  },
  {
   "cell_type": "markdown",
   "id": "476f116b",
   "metadata": {},
   "source": [
    "All of the data are in float types. We can proceed with the data types. "
   ]
  },
  {
   "cell_type": "markdown",
   "id": "a1a95dc7",
   "metadata": {},
   "source": [
    "# Visualization of the data: "
   ]
  },
  {
   "cell_type": "code",
   "execution_count": 19,
   "id": "48333a3e",
   "metadata": {},
   "outputs": [
    {
     "name": "stdout",
     "output_type": "stream",
     "text": [
      "1    854\n",
      "0    745\n",
      "Name: quality, dtype: int64\n"
     ]
    },
    {
     "data": {
      "image/png": "[encoded data removed]",
      "text/plain": [
       "<Figure size 432x288 with 1 Axes>"
      ]
     },
     "metadata": {
      "needs_background": "light"
     },
     "output_type": "display_data"
    }
   ],
   "source": [
    "ax = sns.countplot(x = 'quality', data = df)\n",
    "print(df['quality'].value_counts())"
   ]
  },
  {
   "cell_type": "markdown",
   "id": "da538fb5",
   "metadata": {},
   "source": [
    "From the above observation: \n",
    "The good quality wine is 854 and bad quality wine is 745 as per the chractersticks (in terms of independent variables are given).\n",
    "The classes are quite inbalanced. This needs to be balanced at the time of data spliting for the model. "
   ]
  },
  {
   "cell_type": "code",
   "execution_count": 20,
   "id": "e33a90fc",
   "metadata": {},
   "outputs": [
    {
     "data": {
      "text/plain": [
       "66"
      ]
     },
     "execution_count": 20,
     "metadata": {},
     "output_type": "execute_result"
    }
   ],
   "source": [
    "len(df['alcohol'].unique())"
   ]
  },
  {
   "cell_type": "code",
   "execution_count": 21,
   "id": "53b8e102",
   "metadata": {},
   "outputs": [
    {
     "data": {
      "text/plain": [
       "<AxesSubplot:xlabel='quality', ylabel='fixed acidity'>"
      ]
     },
     "execution_count": 21,
     "metadata": {},
     "output_type": "execute_result"
    },
    {
     "data": {
      "image/png": "[encoded data removed]",
      "text/plain": [
       "<Figure size 432x288 with 1 Axes>"
      ]
     },
     "metadata": {
      "needs_background": "light"
     },
     "output_type": "display_data"
    }
   ],
   "source": [
    "sns.barplot(x ='quality', y = 'fixed acidity', data = df)"
   ]
  },
  {
   "cell_type": "markdown",
   "id": "c14a75a0",
   "metadata": {},
   "source": [
    "Observation: Fixed acidity in terms of proving the quality of wine good is comparitevly higher from bad quality wine. However there is not much difference in the both. "
   ]
  },
  {
   "cell_type": "code",
   "execution_count": 22,
   "id": "70304f03",
   "metadata": {},
   "outputs": [
    {
     "data": {
      "text/plain": [
       "<AxesSubplot:xlabel='quality', ylabel='volatile acidity'>"
      ]
     },
     "execution_count": 22,
     "metadata": {},
     "output_type": "execute_result"
    },
    {
     "data": {
      "image/png": "[encoded data removed]",
      "text/plain": [
       "<Figure size 432x288 with 1 Axes>"
      ]
     },
     "metadata": {
      "needs_background": "light"
     },
     "output_type": "display_data"
    }
   ],
   "source": [
    "sns.barplot(x = 'quality', y = 'volatile acidity', data = df)"
   ]
  },
  {
   "cell_type": "markdown",
   "id": "8d477b6c",
   "metadata": {},
   "source": [
    "Observation: If volatile acidity in terms of wine quality is higher then it is bad for the wine. It should be less to make the wine qualitative good. "
   ]
  },
  {
   "cell_type": "code",
   "execution_count": 23,
   "id": "4002931d",
   "metadata": {},
   "outputs": [
    {
     "data": {
      "text/plain": [
       "<AxesSubplot:xlabel='quality', ylabel='citric acid'>"
      ]
     },
     "execution_count": 23,
     "metadata": {},
     "output_type": "execute_result"
    },
    {
     "data": {
      "image/png": "[encoded data removed]",
      "text/plain": [
       "<Figure size 432x288 with 1 Axes>"
      ]
     },
     "metadata": {
      "needs_background": "light"
     },
     "output_type": "display_data"
    }
   ],
   "source": [
    "sns.barplot(x = 'quality', y = 'citric acid', data = df)"
   ]
  },
  {
   "cell_type": "markdown",
   "id": "28857b5a",
   "metadata": {},
   "source": [
    "Observation: Cetric acid needs to be higher to make the quality of wine good. "
   ]
  },
  {
   "cell_type": "code",
   "execution_count": 24,
   "id": "1c335438",
   "metadata": {},
   "outputs": [
    {
     "data": {
      "text/plain": [
       "<AxesSubplot:xlabel='quality', ylabel='residual sugar'>"
      ]
     },
     "execution_count": 24,
     "metadata": {},
     "output_type": "execute_result"
    },
    {
     "data": {
      "image/png": "[encoded data removed]",
      "text/plain": [
       "<Figure size 432x288 with 1 Axes>"
      ]
     },
     "metadata": {
      "needs_background": "light"
     },
     "output_type": "display_data"
    }
   ],
   "source": [
    "sns.barplot(x = 'quality', y = 'residual sugar', data = df)"
   ]
  },
  {
   "cell_type": "markdown",
   "id": "4b023f94",
   "metadata": {},
   "source": [
    "Observation: Since in both bad and good wine, residual sugar is of the same level. It portrays residual sugar don't make such difference in quality of the wine. "
   ]
  },
  {
   "cell_type": "code",
   "execution_count": 25,
   "id": "168cc195",
   "metadata": {},
   "outputs": [
    {
     "data": {
      "text/plain": [
       "<AxesSubplot:xlabel='quality', ylabel='chlorides'>"
      ]
     },
     "execution_count": 25,
     "metadata": {},
     "output_type": "execute_result"
    },
    {
     "data": {
      "image/png": "[encoded data removed]",
      "text/plain": [
       "<Figure size 432x288 with 1 Axes>"
      ]
     },
     "metadata": {
      "needs_background": "light"
     },
     "output_type": "display_data"
    }
   ],
   "source": [
    "sns.barplot(x = 'quality', y = 'chlorides', data = df)"
   ]
  },
  {
   "cell_type": "markdown",
   "id": "63e919bc",
   "metadata": {},
   "source": [
    "Observation: Level of chroides need to be less for making the overall quality of wine better. "
   ]
  },
  {
   "cell_type": "code",
   "execution_count": 26,
   "id": "227de5a9",
   "metadata": {},
   "outputs": [
    {
     "data": {
      "text/plain": [
       "<AxesSubplot:xlabel='quality', ylabel='free sulfur dioxide'>"
      ]
     },
     "execution_count": 26,
     "metadata": {},
     "output_type": "execute_result"
    },
    {
     "data": {
      "image/png": "[encoded data removed]",
      "text/plain": [
       "<Figure size 432x288 with 1 Axes>"
      ]
     },
     "metadata": {
      "needs_background": "light"
     },
     "output_type": "display_data"
    }
   ],
   "source": [
    "sns.barplot(x = 'quality', y = 'free sulfur dioxide', data = df)"
   ]
  },
  {
   "cell_type": "markdown",
   "id": "4639d41d",
   "metadata": {},
   "source": [
    "Observation: Free sulfurdioxiode needs to be low for making the good quality wine. However, it doesn't make that much significant difference. "
   ]
  },
  {
   "cell_type": "code",
   "execution_count": 27,
   "id": "4c04cca7",
   "metadata": {},
   "outputs": [
    {
     "data": {
      "text/plain": [
       "<AxesSubplot:xlabel='quality', ylabel='total sulfur dioxide'>"
      ]
     },
     "execution_count": 27,
     "metadata": {},
     "output_type": "execute_result"
    },
    {
     "data": {
      "image/png": "[encoded data removed]",
      "text/plain": [
       "<Figure size 432x288 with 1 Axes>"
      ]
     },
     "metadata": {
      "needs_background": "light"
     },
     "output_type": "display_data"
    }
   ],
   "source": [
    "sns.barplot(x = 'quality', y = 'total sulfur dioxide', data = df)"
   ]
  },
  {
   "cell_type": "markdown",
   "id": "d83f7544",
   "metadata": {},
   "source": [
    "Observation: Total sulfurdioxiode needs to be low for making the good quality wine. "
   ]
  },
  {
   "cell_type": "code",
   "execution_count": 28,
   "id": "bf4f4cd8",
   "metadata": {},
   "outputs": [
    {
     "data": {
      "text/plain": [
       "<AxesSubplot:xlabel='quality', ylabel='density'>"
      ]
     },
     "execution_count": 28,
     "metadata": {},
     "output_type": "execute_result"
    },
    {
     "data": {
      "image/png": "[encoded data removed]",
      "text/plain": [
       "<Figure size 432x288 with 1 Axes>"
      ]
     },
     "metadata": {
      "needs_background": "light"
     },
     "output_type": "display_data"
    }
   ],
   "source": [
    "sns.barplot(x = 'quality', y = 'density', data = df)"
   ]
  },
  {
   "cell_type": "markdown",
   "id": "c0811470",
   "metadata": {},
   "source": [
    "Observation: Density doesn't make much difference in the overall quality of the wine. It is not that significant in determining the quality of wine. "
   ]
  },
  {
   "cell_type": "code",
   "execution_count": 29,
   "id": "3c05f769",
   "metadata": {},
   "outputs": [
    {
     "data": {
      "text/plain": [
       "<AxesSubplot:xlabel='quality', ylabel='pH'>"
      ]
     },
     "execution_count": 29,
     "metadata": {},
     "output_type": "execute_result"
    },
    {
     "data": {
      "image/png": "[encoded data removed]",
      "text/plain": [
       "<Figure size 432x288 with 1 Axes>"
      ]
     },
     "metadata": {
      "needs_background": "light"
     },
     "output_type": "display_data"
    }
   ],
   "source": [
    "sns.barplot(x = 'quality', y = 'pH', data = df)"
   ]
  },
  {
   "cell_type": "markdown",
   "id": "3500794c",
   "metadata": {},
   "source": [
    "Observation: pH doesn't make much difference in the overall quality of the wine. It is not that significant in determining the quality of wine. "
   ]
  },
  {
   "cell_type": "code",
   "execution_count": 30,
   "id": "66e674ad",
   "metadata": {},
   "outputs": [
    {
     "data": {
      "text/plain": [
       "<AxesSubplot:xlabel='quality', ylabel='sulphates'>"
      ]
     },
     "execution_count": 30,
     "metadata": {},
     "output_type": "execute_result"
    },
    {
     "data": {
      "image/png": "[encoded data removed]",
      "text/plain": [
       "<Figure size 432x288 with 1 Axes>"
      ]
     },
     "metadata": {
      "needs_background": "light"
     },
     "output_type": "display_data"
    }
   ],
   "source": [
    "sns.barplot(x = 'quality', y = 'sulphates', data = df)"
   ]
  },
  {
   "cell_type": "markdown",
   "id": "7e8b99db",
   "metadata": {},
   "source": [
    "Observation: The overall level of sulphates need to be more to make the quality of wine significantly better. It is significant in determining the quality of wine. More sulphate --> Better Quality."
   ]
  },
  {
   "cell_type": "code",
   "execution_count": 31,
   "id": "86c4fb0d",
   "metadata": {},
   "outputs": [
    {
     "data": {
      "text/plain": [
       "<AxesSubplot:xlabel='quality', ylabel='alcohol'>"
      ]
     },
     "execution_count": 31,
     "metadata": {},
     "output_type": "execute_result"
    },
    {
     "data": {
      "image/png": "[encoded data removed]",
      "text/plain": [
       "<Figure size 432x288 with 1 Axes>"
      ]
     },
     "metadata": {
      "needs_background": "light"
     },
     "output_type": "display_data"
    }
   ],
   "source": [
    "sns.barplot(x = 'quality', y = 'alcohol', data = df)"
   ]
  },
  {
   "cell_type": "markdown",
   "id": "bd86c5a4",
   "metadata": {},
   "source": [
    "Observation: The overall level of alcohol need to be more to make the quality of wine significantly better. It is significant in determining the quality of wine. More Alcohol --> Better Quality."
   ]
  },
  {
   "cell_type": "markdown",
   "id": "64f72306",
   "metadata": {},
   "source": [
    "From the bar graph diagrams portrayed above, followng observations can be made:\n",
    "\n",
    "    1. As the level of volatile acidity, chlorides fall, it increases the overall level of the quality. \n",
    "    2. As the level of citric acid, sulphates, alcohol rise, it indreases the overall level of quality.\n",
    "    3. There is no significant effect on the wine quality due to the residual sugar, free sulfur dioxide, total sulfur dioxide, density and pH. Nothing can be said about their influence on the wine quality. \n",
    "    \n",
    "Note: Alcohol, Sulphates, and Citric acid is significant in determining the quality of wine. As their level increases, it will make the wine more better. "
   ]
  },
  {
   "cell_type": "markdown",
   "id": "1f74cbe9",
   "metadata": {},
   "source": [
    "# Exploratry Data Analysis (EDA): "
   ]
  },
  {
   "cell_type": "code",
   "execution_count": 32,
   "id": "d0f46c22",
   "metadata": {},
   "outputs": [
    {
     "data": {
      "text/html": [
       "<div>\n",
       "<style scoped>\n",
       "    .dataframe tbody tr th:only-of-type {\n",
       "        vertical-align: middle;\n",
       "    }\n",
       "\n",
       "    .dataframe tbody tr th {\n",
       "        vertical-align: top;\n",
       "    }\n",
       "\n",
       "    .dataframe thead th {\n",
       "        text-align: right;\n",
       "    }\n",
       "</style>\n",
       "<table border=\"1\" class=\"dataframe\">\n",
       "  <thead>\n",
       "    <tr style=\"text-align: right;\">\n",
       "      <th></th>\n",
       "      <th>fixed acidity</th>\n",
       "      <th>volatile acidity</th>\n",
       "      <th>citric acid</th>\n",
       "      <th>residual sugar</th>\n",
       "      <th>chlorides</th>\n",
       "      <th>free sulfur dioxide</th>\n",
       "      <th>total sulfur dioxide</th>\n",
       "      <th>density</th>\n",
       "      <th>pH</th>\n",
       "      <th>sulphates</th>\n",
       "      <th>alcohol</th>\n",
       "      <th>quality</th>\n",
       "    </tr>\n",
       "  </thead>\n",
       "  <tbody>\n",
       "    <tr>\n",
       "      <th>fixed acidity</th>\n",
       "      <td>1.000000</td>\n",
       "      <td>-0.256131</td>\n",
       "      <td>0.671703</td>\n",
       "      <td>0.114777</td>\n",
       "      <td>0.093705</td>\n",
       "      <td>-0.153794</td>\n",
       "      <td>-0.113181</td>\n",
       "      <td>0.668047</td>\n",
       "      <td>-0.682978</td>\n",
       "      <td>0.183294</td>\n",
       "      <td>-0.061256</td>\n",
       "      <td>0.096756</td>\n",
       "    </tr>\n",
       "    <tr>\n",
       "      <th>volatile acidity</th>\n",
       "      <td>-0.256131</td>\n",
       "      <td>1.000000</td>\n",
       "      <td>-0.552496</td>\n",
       "      <td>0.001918</td>\n",
       "      <td>0.061298</td>\n",
       "      <td>-0.010504</td>\n",
       "      <td>0.076470</td>\n",
       "      <td>0.022026</td>\n",
       "      <td>0.234937</td>\n",
       "      <td>-0.260708</td>\n",
       "      <td>-0.201988</td>\n",
       "      <td>-0.319888</td>\n",
       "    </tr>\n",
       "    <tr>\n",
       "      <th>citric acid</th>\n",
       "      <td>0.671703</td>\n",
       "      <td>-0.552496</td>\n",
       "      <td>1.000000</td>\n",
       "      <td>0.143577</td>\n",
       "      <td>0.203823</td>\n",
       "      <td>-0.060978</td>\n",
       "      <td>0.035533</td>\n",
       "      <td>0.364947</td>\n",
       "      <td>-0.541904</td>\n",
       "      <td>0.312532</td>\n",
       "      <td>0.109603</td>\n",
       "      <td>0.157834</td>\n",
       "    </tr>\n",
       "    <tr>\n",
       "      <th>residual sugar</th>\n",
       "      <td>0.114777</td>\n",
       "      <td>0.001918</td>\n",
       "      <td>0.143577</td>\n",
       "      <td>1.000000</td>\n",
       "      <td>0.055610</td>\n",
       "      <td>0.187049</td>\n",
       "      <td>0.203028</td>\n",
       "      <td>0.355283</td>\n",
       "      <td>-0.085652</td>\n",
       "      <td>0.005360</td>\n",
       "      <td>0.041832</td>\n",
       "      <td>-0.003104</td>\n",
       "    </tr>\n",
       "    <tr>\n",
       "      <th>chlorides</th>\n",
       "      <td>0.093705</td>\n",
       "      <td>0.061298</td>\n",
       "      <td>0.203823</td>\n",
       "      <td>0.055610</td>\n",
       "      <td>1.000000</td>\n",
       "      <td>0.005562</td>\n",
       "      <td>0.047400</td>\n",
       "      <td>0.200632</td>\n",
       "      <td>-0.265026</td>\n",
       "      <td>0.371343</td>\n",
       "      <td>-0.221026</td>\n",
       "      <td>-0.108939</td>\n",
       "    </tr>\n",
       "    <tr>\n",
       "      <th>free sulfur dioxide</th>\n",
       "      <td>-0.153794</td>\n",
       "      <td>-0.010504</td>\n",
       "      <td>-0.060978</td>\n",
       "      <td>0.187049</td>\n",
       "      <td>0.005562</td>\n",
       "      <td>1.000000</td>\n",
       "      <td>0.667666</td>\n",
       "      <td>-0.021946</td>\n",
       "      <td>0.070377</td>\n",
       "      <td>0.051611</td>\n",
       "      <td>-0.069485</td>\n",
       "      <td>-0.062006</td>\n",
       "    </tr>\n",
       "    <tr>\n",
       "      <th>total sulfur dioxide</th>\n",
       "      <td>-0.113181</td>\n",
       "      <td>0.076470</td>\n",
       "      <td>0.035533</td>\n",
       "      <td>0.203028</td>\n",
       "      <td>0.047400</td>\n",
       "      <td>0.667666</td>\n",
       "      <td>1.000000</td>\n",
       "      <td>0.071269</td>\n",
       "      <td>-0.066495</td>\n",
       "      <td>0.042975</td>\n",
       "      <td>-0.205628</td>\n",
       "      <td>-0.231773</td>\n",
       "    </tr>\n",
       "    <tr>\n",
       "      <th>density</th>\n",
       "      <td>0.668047</td>\n",
       "      <td>0.022026</td>\n",
       "      <td>0.364947</td>\n",
       "      <td>0.355283</td>\n",
       "      <td>0.200632</td>\n",
       "      <td>-0.021946</td>\n",
       "      <td>0.071269</td>\n",
       "      <td>1.000000</td>\n",
       "      <td>-0.341699</td>\n",
       "      <td>0.148648</td>\n",
       "      <td>-0.496068</td>\n",
       "      <td>-0.158261</td>\n",
       "    </tr>\n",
       "    <tr>\n",
       "      <th>pH</th>\n",
       "      <td>-0.682978</td>\n",
       "      <td>0.234937</td>\n",
       "      <td>-0.541904</td>\n",
       "      <td>-0.085652</td>\n",
       "      <td>-0.265026</td>\n",
       "      <td>0.070377</td>\n",
       "      <td>-0.066495</td>\n",
       "      <td>-0.341699</td>\n",
       "      <td>1.000000</td>\n",
       "      <td>-0.196754</td>\n",
       "      <td>0.205495</td>\n",
       "      <td>-0.003905</td>\n",
       "    </tr>\n",
       "    <tr>\n",
       "      <th>sulphates</th>\n",
       "      <td>0.183294</td>\n",
       "      <td>-0.260708</td>\n",
       "      <td>0.312532</td>\n",
       "      <td>0.005360</td>\n",
       "      <td>0.371343</td>\n",
       "      <td>0.051611</td>\n",
       "      <td>0.042975</td>\n",
       "      <td>0.148648</td>\n",
       "      <td>-0.196754</td>\n",
       "      <td>1.000000</td>\n",
       "      <td>0.093600</td>\n",
       "      <td>0.218268</td>\n",
       "    </tr>\n",
       "    <tr>\n",
       "      <th>alcohol</th>\n",
       "      <td>-0.061256</td>\n",
       "      <td>-0.201988</td>\n",
       "      <td>0.109603</td>\n",
       "      <td>0.041832</td>\n",
       "      <td>-0.221026</td>\n",
       "      <td>-0.069485</td>\n",
       "      <td>-0.205628</td>\n",
       "      <td>-0.496068</td>\n",
       "      <td>0.205495</td>\n",
       "      <td>0.093600</td>\n",
       "      <td>1.000000</td>\n",
       "      <td>0.434593</td>\n",
       "    </tr>\n",
       "    <tr>\n",
       "      <th>quality</th>\n",
       "      <td>0.096756</td>\n",
       "      <td>-0.319888</td>\n",
       "      <td>0.157834</td>\n",
       "      <td>-0.003104</td>\n",
       "      <td>-0.108939</td>\n",
       "      <td>-0.062006</td>\n",
       "      <td>-0.231773</td>\n",
       "      <td>-0.158261</td>\n",
       "      <td>-0.003905</td>\n",
       "      <td>0.218268</td>\n",
       "      <td>0.434593</td>\n",
       "      <td>1.000000</td>\n",
       "    </tr>\n",
       "  </tbody>\n",
       "</table>\n",
       "</div>"
      ],
      "text/plain": [
       "                      fixed acidity  volatile acidity  citric acid  \\\n",
       "fixed acidity              1.000000         -0.256131     0.671703   \n",
       "volatile acidity          -0.256131          1.000000    -0.552496   \n",
       "citric acid                0.671703         -0.552496     1.000000   \n",
       "residual sugar             0.114777          0.001918     0.143577   \n",
       "chlorides                  0.093705          0.061298     0.203823   \n",
       "free sulfur dioxide       -0.153794         -0.010504    -0.060978   \n",
       "total sulfur dioxide      -0.113181          0.076470     0.035533   \n",
       "density                    0.668047          0.022026     0.364947   \n",
       "pH                        -0.682978          0.234937    -0.541904   \n",
       "sulphates                  0.183294         -0.260708     0.312532   \n",
       "alcohol                   -0.061256         -0.201988     0.109603   \n",
       "quality                    0.096756         -0.319888     0.157834   \n",
       "\n",
       "                      residual sugar  chlorides  free sulfur dioxide  \\\n",
       "fixed acidity               0.114777   0.093705            -0.153794   \n",
       "volatile acidity            0.001918   0.061298            -0.010504   \n",
       "citric acid                 0.143577   0.203823            -0.060978   \n",
       "residual sugar              1.000000   0.055610             0.187049   \n",
       "chlorides                   0.055610   1.000000             0.005562   \n",
       "free sulfur dioxide         0.187049   0.005562             1.000000   \n",
       "total sulfur dioxide        0.203028   0.047400             0.667666   \n",
       "density                     0.355283   0.200632            -0.021946   \n",
       "pH                         -0.085652  -0.265026             0.070377   \n",
       "sulphates                   0.005360   0.371343             0.051611   \n",
       "alcohol                     0.041832  -0.221026            -0.069485   \n",
       "quality                    -0.003104  -0.108939            -0.062006   \n",
       "\n",
       "                      total sulfur dioxide   density        pH  sulphates  \\\n",
       "fixed acidity                    -0.113181  0.668047 -0.682978   0.183294   \n",
       "volatile acidity                  0.076470  0.022026  0.234937  -0.260708   \n",
       "citric acid                       0.035533  0.364947 -0.541904   0.312532   \n",
       "residual sugar                    0.203028  0.355283 -0.085652   0.005360   \n",
       "chlorides                         0.047400  0.200632 -0.265026   0.371343   \n",
       "free sulfur dioxide               0.667666 -0.021946  0.070377   0.051611   \n",
       "total sulfur dioxide              1.000000  0.071269 -0.066495   0.042975   \n",
       "density                           0.071269  1.000000 -0.341699   0.148648   \n",
       "pH                               -0.066495 -0.341699  1.000000  -0.196754   \n",
       "sulphates                         0.042975  0.148648 -0.196754   1.000000   \n",
       "alcohol                          -0.205628 -0.496068  0.205495   0.093600   \n",
       "quality                          -0.231773 -0.158261 -0.003905   0.218268   \n",
       "\n",
       "                       alcohol   quality  \n",
       "fixed acidity        -0.061256  0.096756  \n",
       "volatile acidity     -0.201988 -0.319888  \n",
       "citric acid           0.109603  0.157834  \n",
       "residual sugar        0.041832 -0.003104  \n",
       "chlorides            -0.221026 -0.108939  \n",
       "free sulfur dioxide  -0.069485 -0.062006  \n",
       "total sulfur dioxide -0.205628 -0.231773  \n",
       "density              -0.496068 -0.158261  \n",
       "pH                    0.205495 -0.003905  \n",
       "sulphates             0.093600  0.218268  \n",
       "alcohol               1.000000  0.434593  \n",
       "quality               0.434593  1.000000  "
      ]
     },
     "execution_count": 32,
     "metadata": {},
     "output_type": "execute_result"
    }
   ],
   "source": [
    "df.corr().T"
   ]
  },
  {
   "cell_type": "code",
   "execution_count": 33,
   "id": "2d56a966",
   "metadata": {},
   "outputs": [
    {
     "data": {
      "text/plain": [
       "<AxesSubplot:>"
      ]
     },
     "execution_count": 33,
     "metadata": {},
     "output_type": "execute_result"
    },
    {
     "data": {
      "image/png": "[encoded data removed]",
      "text/plain": [
       "<Figure size 1080x504 with 2 Axes>"
      ]
     },
     "metadata": {
      "needs_background": "light"
     },
     "output_type": "display_data"
    }
   ],
   "source": [
    "plt.figure(figsize=(15,7))\n",
    "sns.heatmap(df.corr(), annot=True, linewidths=0.5, fmt='.2f')"
   ]
  },
  {
   "cell_type": "code",
   "execution_count": 34,
   "id": "83f79b3a",
   "metadata": {},
   "outputs": [
    {
     "data": {
      "text/plain": [
       "volatile acidity       -0.319888\n",
       "total sulfur dioxide   -0.231773\n",
       "density                -0.158261\n",
       "chlorides              -0.108939\n",
       "free sulfur dioxide    -0.062006\n",
       "pH                     -0.003905\n",
       "residual sugar         -0.003104\n",
       "fixed acidity           0.096756\n",
       "citric acid             0.157834\n",
       "sulphates               0.218268\n",
       "alcohol                 0.434593\n",
       "quality                 1.000000\n",
       "Name: quality, dtype: float64"
      ]
     },
     "execution_count": 34,
     "metadata": {},
     "output_type": "execute_result"
    }
   ],
   "source": [
    "df.corr()['quality'].sort_values()"
   ]
  },
  {
   "cell_type": "markdown",
   "id": "e0d957f9",
   "metadata": {},
   "source": [
    "Observations from the correlation done above: \n",
    "    \n",
    "    1. Among all variables available, alcohol is highly positively correlated and volatile acidity is highly negatively correlated with quality.\n",
    "    2. Among independent variables itself, density and alcohol is significantly negatively correlated with each other.Residual sugar and density is significantly positively correlated with each other."
   ]
  },
  {
   "cell_type": "code",
   "execution_count": 35,
   "id": "bc24fa2d",
   "metadata": {},
   "outputs": [
    {
     "data": {
      "text/plain": [
       "fixed acidity              AxesSubplot(0.125,0.657941;0.168478x0.222059)\n",
       "volatile acidity        AxesSubplot(0.327174,0.657941;0.168478x0.222059)\n",
       "citric acid             AxesSubplot(0.529348,0.657941;0.168478x0.222059)\n",
       "residual sugar          AxesSubplot(0.731522,0.657941;0.168478x0.222059)\n",
       "chlorides                  AxesSubplot(0.125,0.391471;0.168478x0.222059)\n",
       "free sulfur dioxide     AxesSubplot(0.327174,0.391471;0.168478x0.222059)\n",
       "total sulfur dioxide    AxesSubplot(0.529348,0.391471;0.168478x0.222059)\n",
       "density                 AxesSubplot(0.731522,0.391471;0.168478x0.222059)\n",
       "pH                            AxesSubplot(0.125,0.125;0.168478x0.222059)\n",
       "sulphates                  AxesSubplot(0.327174,0.125;0.168478x0.222059)\n",
       "alcohol                    AxesSubplot(0.529348,0.125;0.168478x0.222059)\n",
       "quality                    AxesSubplot(0.731522,0.125;0.168478x0.222059)\n",
       "dtype: object"
      ]
     },
     "execution_count": 35,
     "metadata": {},
     "output_type": "execute_result"
    },
    {
     "data": {
      "image/png": "[encoded data removed]",
      "text/plain": [
       "<Figure size 1296x1872 with 12 Axes>"
      ]
     },
     "metadata": {
      "needs_background": "light"
     },
     "output_type": "display_data"
    }
   ],
   "source": [
    "### Checking whether outliers available in the the dataset with boxplot. \n",
    "df.plot(kind='box',subplots=True,layout=(3,4),figsize=(18,26))"
   ]
  },
  {
   "cell_type": "markdown",
   "id": "a1209b84",
   "metadata": {},
   "source": [
    "Observations: \n",
    "    \n",
    "Fixed acidity, volatile acidity, residual sugar, chlroides, free sulfurdiooxide, density, pH, sulphates have high number of outliers present in the dataset. This can be either treated with the boxcox method of scipy stats library or if the variable doesn't have any significance with the quality ----> it can be dropped as well. It will not make much difference in the training of the model. "
   ]
  },
  {
   "cell_type": "code",
   "execution_count": 36,
   "id": "700a78fb",
   "metadata": {},
   "outputs": [
    {
     "data": {
      "text/plain": [
       "<AxesSubplot:ylabel='Density'>"
      ]
     },
     "execution_count": 36,
     "metadata": {},
     "output_type": "execute_result"
    },
    {
     "data": {
      "image/png": "[encoded data removed]",
      "text/plain": [
       "<Figure size 432x288 with 1 Axes>"
      ]
     },
     "metadata": {
      "needs_background": "light"
     },
     "output_type": "display_data"
    }
   ],
   "source": [
    "### Checking the level of skewness available in the dataset. \n",
    "import warnings\n",
    "warnings.filterwarnings(\"ignore\")\n",
    "\n",
    "sns.distplot(df)"
   ]
  },
  {
   "cell_type": "markdown",
   "id": "3fc2673e",
   "metadata": {},
   "source": [
    "Observation: Overall distribution of the population is rightly skewed. Let's check variable wise now. "
   ]
  },
  {
   "cell_type": "code",
   "execution_count": 37,
   "id": "94444272",
   "metadata": {},
   "outputs": [
    {
     "data": {
      "text/plain": [
       "fixed acidity           0.982751\n",
       "volatile acidity        0.671593\n",
       "citric acid             0.318337\n",
       "residual sugar          4.540655\n",
       "chlorides               5.680347\n",
       "free sulfur dioxide     1.250567\n",
       "total sulfur dioxide    1.515531\n",
       "density                 0.071288\n",
       "pH                      0.193683\n",
       "sulphates               2.429044\n",
       "alcohol                 0.861715\n",
       "quality                -0.136781\n",
       "dtype: float64"
      ]
     },
     "execution_count": 37,
     "metadata": {},
     "output_type": "execute_result"
    }
   ],
   "source": [
    "df.skew()"
   ]
  },
  {
   "cell_type": "code",
   "execution_count": 38,
   "id": "b6f37596",
   "metadata": {},
   "outputs": [
    {
     "data": {
      "text/plain": [
       "<AxesSubplot:xlabel='fixed acidity', ylabel='Density'>"
      ]
     },
     "execution_count": 38,
     "metadata": {},
     "output_type": "execute_result"
    },
    {
     "data": {
      "image/png": "[encoded data removed]",
      "text/plain": [
       "<Figure size 432x288 with 1 Axes>"
      ]
     },
     "metadata": {
      "needs_background": "light"
     },
     "output_type": "display_data"
    }
   ],
   "source": [
    "sns.distplot(df['fixed acidity'])"
   ]
  },
  {
   "cell_type": "code",
   "execution_count": 39,
   "id": "336b2219",
   "metadata": {},
   "outputs": [
    {
     "data": {
      "text/plain": [
       "<AxesSubplot:xlabel='volatile acidity', ylabel='Density'>"
      ]
     },
     "execution_count": 39,
     "metadata": {},
     "output_type": "execute_result"
    },
    {
     "data": {
      "image/png": "[encoded data removed]",
      "text/plain": [
       "<Figure size 432x288 with 1 Axes>"
      ]
     },
     "metadata": {
      "needs_background": "light"
     },
     "output_type": "display_data"
    }
   ],
   "source": [
    "sns.distplot(df['volatile acidity'])"
   ]
  },
  {
   "cell_type": "code",
   "execution_count": 40,
   "id": "d23cd680",
   "metadata": {},
   "outputs": [
    {
     "data": {
      "text/plain": [
       "<AxesSubplot:xlabel='citric acid', ylabel='Density'>"
      ]
     },
     "execution_count": 40,
     "metadata": {},
     "output_type": "execute_result"
    },
    {
     "data": {
      "image/png": "[encoded data removed]",
      "text/plain": [
       "<Figure size 432x288 with 1 Axes>"
      ]
     },
     "metadata": {
      "needs_background": "light"
     },
     "output_type": "display_data"
    }
   ],
   "source": [
    "sns.distplot(df['citric acid'])"
   ]
  },
  {
   "cell_type": "code",
   "execution_count": 41,
   "id": "a957b544",
   "metadata": {},
   "outputs": [
    {
     "data": {
      "text/plain": [
       "<AxesSubplot:xlabel='residual sugar', ylabel='Density'>"
      ]
     },
     "execution_count": 41,
     "metadata": {},
     "output_type": "execute_result"
    },
    {
     "data": {
      "image/png": "[encoded data removed]",
      "text/plain": [
       "<Figure size 432x288 with 1 Axes>"
      ]
     },
     "metadata": {
      "needs_background": "light"
     },
     "output_type": "display_data"
    }
   ],
   "source": [
    "sns.distplot(df['residual sugar'])"
   ]
  },
  {
   "cell_type": "code",
   "execution_count": 42,
   "id": "7fe56b64",
   "metadata": {},
   "outputs": [
    {
     "data": {
      "text/plain": [
       "<AxesSubplot:xlabel='chlorides', ylabel='Density'>"
      ]
     },
     "execution_count": 42,
     "metadata": {},
     "output_type": "execute_result"
    },
    {
     "data": {
      "image/png": "[encoded data removed]",
      "text/plain": [
       "<Figure size 432x288 with 1 Axes>"
      ]
     },
     "metadata": {
      "needs_background": "light"
     },
     "output_type": "display_data"
    }
   ],
   "source": [
    "sns.distplot(df['chlorides'])"
   ]
  },
  {
   "cell_type": "code",
   "execution_count": 43,
   "id": "e5b0f2c5",
   "metadata": {},
   "outputs": [
    {
     "data": {
      "text/plain": [
       "<AxesSubplot:xlabel='free sulfur dioxide', ylabel='Density'>"
      ]
     },
     "execution_count": 43,
     "metadata": {},
     "output_type": "execute_result"
    },
    {
     "data": {
      "image/png": "[encoded data removed]",
      "text/plain": [
       "<Figure size 432x288 with 1 Axes>"
      ]
     },
     "metadata": {
      "needs_background": "light"
     },
     "output_type": "display_data"
    }
   ],
   "source": [
    "sns.distplot(df['free sulfur dioxide'])"
   ]
  },
  {
   "cell_type": "code",
   "execution_count": 44,
   "id": "6d98077b",
   "metadata": {},
   "outputs": [
    {
     "data": {
      "text/plain": [
       "<AxesSubplot:xlabel='total sulfur dioxide', ylabel='Density'>"
      ]
     },
     "execution_count": 44,
     "metadata": {},
     "output_type": "execute_result"
    },
    {
     "data": {
      "image/png": "[encoded data removed]",
      "text/plain": [
       "<Figure size 432x288 with 1 Axes>"
      ]
     },
     "metadata": {
      "needs_background": "light"
     },
     "output_type": "display_data"
    }
   ],
   "source": [
    "sns.distplot(df['total sulfur dioxide'])"
   ]
  },
  {
   "cell_type": "code",
   "execution_count": 45,
   "id": "7a2cf47e",
   "metadata": {},
   "outputs": [
    {
     "data": {
      "text/plain": [
       "<AxesSubplot:xlabel='density', ylabel='Density'>"
      ]
     },
     "execution_count": 45,
     "metadata": {},
     "output_type": "execute_result"
    },
    {
     "data": {
      "image/png": "[encoded data removed]",
      "text/plain": [
       "<Figure size 432x288 with 1 Axes>"
      ]
     },
     "metadata": {
      "needs_background": "light"
     },
     "output_type": "display_data"
    }
   ],
   "source": [
    "sns.distplot(df['density'])"
   ]
  },
  {
   "cell_type": "code",
   "execution_count": 46,
   "id": "90733952",
   "metadata": {},
   "outputs": [
    {
     "data": {
      "text/plain": [
       "<AxesSubplot:xlabel='pH', ylabel='Density'>"
      ]
     },
     "execution_count": 46,
     "metadata": {},
     "output_type": "execute_result"
    },
    {
     "data": {
      "image/png": "[encoded data removed]",
      "text/plain": [
       "<Figure size 432x288 with 1 Axes>"
      ]
     },
     "metadata": {
      "needs_background": "light"
     },
     "output_type": "display_data"
    }
   ],
   "source": [
    "sns.distplot(df['pH'])"
   ]
  },
  {
   "cell_type": "code",
   "execution_count": 47,
   "id": "a84deea9",
   "metadata": {},
   "outputs": [
    {
     "data": {
      "text/plain": [
       "<AxesSubplot:xlabel='sulphates', ylabel='Density'>"
      ]
     },
     "execution_count": 47,
     "metadata": {},
     "output_type": "execute_result"
    },
    {
     "data": {
      "image/png": "[encoded data removed]",
      "text/plain": [
       "<Figure size 432x288 with 1 Axes>"
      ]
     },
     "metadata": {
      "needs_background": "light"
     },
     "output_type": "display_data"
    }
   ],
   "source": [
    "sns.distplot(df['sulphates'])"
   ]
  },
  {
   "cell_type": "code",
   "execution_count": 48,
   "id": "bc49904e",
   "metadata": {},
   "outputs": [
    {
     "data": {
      "text/plain": [
       "<AxesSubplot:xlabel='alcohol', ylabel='Density'>"
      ]
     },
     "execution_count": 48,
     "metadata": {},
     "output_type": "execute_result"
    },
    {
     "data": {
      "image/png": "[encoded data removed]",
      "text/plain": [
       "<Figure size 432x288 with 1 Axes>"
      ]
     },
     "metadata": {
      "needs_background": "light"
     },
     "output_type": "display_data"
    }
   ],
   "source": [
    "sns.distplot(df['alcohol'])"
   ]
  },
  {
   "cell_type": "markdown",
   "id": "13c5794c",
   "metadata": {},
   "source": [
    "Observations: \n",
    "    \n",
    "    1. The threshold is -0.5 to 0.5. \n",
    "    2. As per the skewness values got above and distance plot of each respective variable - residual sugar, chlorides,free sulfur dioxide, total sulfur dioxide, sulphates are highly skewed. Fxed acidity, volatile acidity, alcohol are averagely skewed. Certain variables including citric acid, density, pH, quality is symmetric to the most extent. "
   ]
  },
  {
   "cell_type": "code",
   "execution_count": 49,
   "id": "f5c544d0",
   "metadata": {},
   "outputs": [],
   "source": [
    "### Checking multicollinerity. If it exist then correcting it with variance inflation factor.\n",
    "\n",
    "x = df.iloc[:, :-1]\n",
    "y = df.iloc[:, -1]"
   ]
  },
  {
   "cell_type": "code",
   "execution_count": 50,
   "id": "d6ef292b",
   "metadata": {},
   "outputs": [
    {
     "name": "stdout",
     "output_type": "stream",
     "text": [
      "(1599, 11)\n",
      "(1599,)\n"
     ]
    }
   ],
   "source": [
    "print(x.shape)\n",
    "print(y.shape)"
   ]
  },
  {
   "cell_type": "code",
   "execution_count": 51,
   "id": "62ddd55b",
   "metadata": {},
   "outputs": [],
   "source": [
    "from scipy import stats\n",
    "import statsmodels.api as sm\n",
    "from statsmodels.stats.outliers_influence import variance_inflation_factor"
   ]
  },
  {
   "cell_type": "code",
   "execution_count": 55,
   "id": "1fae63ec",
   "metadata": {},
   "outputs": [],
   "source": [
    "def df_vif(x): \n",
    "    vif = pd.DataFrame()\n",
    "    vif['Variables'] = x.columns \n",
    "    vif['VIF Factors'] = [variance_inflation_factor(x.values,i) for i in range(x.shape[1])]\n",
    "    return(vif)"
   ]
  },
  {
   "cell_type": "code",
   "execution_count": 56,
   "id": "f3f8b120",
   "metadata": {},
   "outputs": [
    {
     "data": {
      "text/html": [
       "<div>\n",
       "<style scoped>\n",
       "    .dataframe tbody tr th:only-of-type {\n",
       "        vertical-align: middle;\n",
       "    }\n",
       "\n",
       "    .dataframe tbody tr th {\n",
       "        vertical-align: top;\n",
       "    }\n",
       "\n",
       "    .dataframe thead th {\n",
       "        text-align: right;\n",
       "    }\n",
       "</style>\n",
       "<table border=\"1\" class=\"dataframe\">\n",
       "  <thead>\n",
       "    <tr style=\"text-align: right;\">\n",
       "      <th></th>\n",
       "      <th>Variables</th>\n",
       "      <th>VIF Factors</th>\n",
       "    </tr>\n",
       "  </thead>\n",
       "  <tbody>\n",
       "    <tr>\n",
       "      <th>0</th>\n",
       "      <td>fixed acidity</td>\n",
       "      <td>74.765951</td>\n",
       "    </tr>\n",
       "    <tr>\n",
       "      <th>1</th>\n",
       "      <td>volatile acidity</td>\n",
       "      <td>17.056740</td>\n",
       "    </tr>\n",
       "    <tr>\n",
       "      <th>2</th>\n",
       "      <td>citric acid</td>\n",
       "      <td>9.202067</td>\n",
       "    </tr>\n",
       "    <tr>\n",
       "      <th>3</th>\n",
       "      <td>residual sugar</td>\n",
       "      <td>4.660683</td>\n",
       "    </tr>\n",
       "    <tr>\n",
       "      <th>4</th>\n",
       "      <td>chlorides</td>\n",
       "      <td>6.556604</td>\n",
       "    </tr>\n",
       "    <tr>\n",
       "      <th>5</th>\n",
       "      <td>free sulfur dioxide</td>\n",
       "      <td>6.439793</td>\n",
       "    </tr>\n",
       "    <tr>\n",
       "      <th>6</th>\n",
       "      <td>total sulfur dioxide</td>\n",
       "      <td>6.521791</td>\n",
       "    </tr>\n",
       "    <tr>\n",
       "      <th>7</th>\n",
       "      <td>density</td>\n",
       "      <td>1479.492342</td>\n",
       "    </tr>\n",
       "    <tr>\n",
       "      <th>8</th>\n",
       "      <td>pH</td>\n",
       "      <td>1070.455259</td>\n",
       "    </tr>\n",
       "    <tr>\n",
       "      <th>9</th>\n",
       "      <td>sulphates</td>\n",
       "      <td>21.577905</td>\n",
       "    </tr>\n",
       "    <tr>\n",
       "      <th>10</th>\n",
       "      <td>alcohol</td>\n",
       "      <td>124.326873</td>\n",
       "    </tr>\n",
       "  </tbody>\n",
       "</table>\n",
       "</div>"
      ],
      "text/plain": [
       "               Variables  VIF Factors\n",
       "0          fixed acidity    74.765951\n",
       "1       volatile acidity    17.056740\n",
       "2            citric acid     9.202067\n",
       "3         residual sugar     4.660683\n",
       "4              chlorides     6.556604\n",
       "5    free sulfur dioxide     6.439793\n",
       "6   total sulfur dioxide     6.521791\n",
       "7                density  1479.492342\n",
       "8                     pH  1070.455259\n",
       "9              sulphates    21.577905\n",
       "10               alcohol   124.326873"
      ]
     },
     "execution_count": 56,
     "metadata": {},
     "output_type": "execute_result"
    }
   ],
   "source": [
    "df_vif(x)"
   ]
  },
  {
   "cell_type": "code",
   "execution_count": 57,
   "id": "aeb8a2c1",
   "metadata": {},
   "outputs": [],
   "source": [
    "### Since density is having comparitevly higher VIF factor, dropping it here. \n",
    "\n",
    "x = df.drop(['density','pH'],axis=1)"
   ]
  },
  {
   "cell_type": "markdown",
   "id": "68dba407",
   "metadata": {},
   "source": [
    "Observation: Both the variables - Density anf pH have comparitevly high variance inflation factor."
   ]
  },
  {
   "cell_type": "markdown",
   "id": "d204f550",
   "metadata": {},
   "source": [
    "# Preprocessing the data: "
   ]
  },
  {
   "cell_type": "markdown",
   "id": "c8da8986",
   "metadata": {},
   "source": [
    "From the observations of the analysis made above, we can drop certain columns - Volatile Acidity and Density.\n",
    "\n",
    "1. Since there is negtaive correlation between volatile density and quality; moreover it hold siignifacntly high number of outliers available. It is highly skewed. \n",
    "2. There is no significant relation between density and quality of wine. Moreover it is highly negatively correlated with the wine quality. The distribution of the density is highly skewed and it holds comparitevly high number of outliers. \n"
   ]
  },
  {
   "cell_type": "code",
   "execution_count": 58,
   "id": "1fc2a705",
   "metadata": {},
   "outputs": [],
   "source": [
    "df.drop(['volatile acidity','density'],axis=1, inplace = True)"
   ]
  },
  {
   "cell_type": "code",
   "execution_count": 59,
   "id": "6843b9f5",
   "metadata": {},
   "outputs": [
    {
     "data": {
      "text/plain": [
       "Index(['fixed acidity', 'citric acid', 'residual sugar', 'chlorides',\n",
       "       'free sulfur dioxide', 'total sulfur dioxide', 'pH', 'sulphates',\n",
       "       'alcohol', 'quality'],\n",
       "      dtype='object')"
      ]
     },
     "execution_count": 59,
     "metadata": {},
     "output_type": "execute_result"
    }
   ],
   "source": [
    "df.columns"
   ]
  },
  {
   "cell_type": "code",
   "execution_count": 60,
   "id": "ec2445cd",
   "metadata": {},
   "outputs": [],
   "source": [
    "### Removing the outliers now. \n",
    "\n",
    "from scipy.stats import zscore \n",
    "z = np.abs(zscore(df))"
   ]
  },
  {
   "cell_type": "code",
   "execution_count": 61,
   "id": "3d61907b",
   "metadata": {},
   "outputs": [
    {
     "name": "stdout",
     "output_type": "stream",
     "text": [
      "(array([  13,   14,   15,   15,   17,   17,   19,   33,   42,   43,   45,\n",
      "         57,   81,   81,   83,   86,   88,   91,   92,   95,  106,  106,\n",
      "        109,  147,  151,  151,  151,  151,  163,  164,  169,  169,  181,\n",
      "        226,  226,  240,  243,  244,  258,  258,  274,  281,  291,  324,\n",
      "        325,  339,  340,  347,  354,  374,  381,  391,  396,  396,  400,\n",
      "        400,  442,  451,  480,  494,  515,  544,  554,  555,  557,  568,\n",
      "        584,  591,  595,  614,  636,  639,  649,  649,  651,  652,  652,\n",
      "        672,  684,  692,  692,  695,  723,  730,  754,  776,  777,  795,\n",
      "        911,  917,  923,  925,  926,  982, 1043, 1051, 1051, 1071, 1074,\n",
      "       1079, 1079, 1081, 1081, 1111, 1131, 1154, 1165, 1175, 1186, 1231,\n",
      "       1235, 1244, 1244, 1244, 1260, 1288, 1289, 1295, 1296, 1300, 1316,\n",
      "       1319, 1319, 1321, 1358, 1367, 1370, 1370, 1372, 1372, 1374, 1434,\n",
      "       1434, 1435, 1435, 1474, 1474, 1476, 1476, 1493, 1496, 1558, 1558,\n",
      "       1570, 1574, 1589], dtype=int64), array([7, 4, 4, 5, 3, 7, 3, 2, 3, 7, 6, 4, 3, 7, 3, 7, 7, 7, 7, 6, 3, 7,\n",
      "       5, 3, 1, 3, 6, 7, 2, 2, 3, 7, 3, 3, 7, 3, 0, 0, 3, 7, 2, 3, 3, 2,\n",
      "       2, 7, 7, 0, 5, 0, 0, 0, 2, 4, 2, 4, 0, 3, 2, 2, 5, 0, 0, 0, 0, 3,\n",
      "       4, 5, 2, 7, 5, 7, 2, 5, 5, 0, 2, 5, 5, 3, 7, 6, 7, 3, 3, 3, 3, 7,\n",
      "       2, 2, 2, 4, 4, 4, 2, 3, 7, 2, 2, 2, 5, 2, 5, 6, 4, 4, 3, 4, 2, 4,\n",
      "       2, 2, 4, 5, 3, 7, 7, 4, 4, 6, 6, 3, 7, 6, 4, 7, 3, 7, 3, 7, 3, 2,\n",
      "       4, 2, 4, 2, 4, 2, 4, 5, 5, 3, 4, 3, 2, 2], dtype=int64))\n"
     ]
    },
    {
     "data": {
      "text/plain": [
       "146"
      ]
     },
     "execution_count": 61,
     "metadata": {},
     "output_type": "execute_result"
    }
   ],
   "source": [
    "threshold = 3\n",
    "print(np.where(z>3))\n",
    "len(np.where(z>3)[0])"
   ]
  },
  {
   "cell_type": "code",
   "execution_count": 62,
   "id": "952a1df1",
   "metadata": {},
   "outputs": [],
   "source": [
    "df_new = df[(z<3)]"
   ]
  },
  {
   "cell_type": "code",
   "execution_count": 63,
   "id": "1d95b01a",
   "metadata": {},
   "outputs": [
    {
     "data": {
      "text/plain": [
       "(1599, 10)"
      ]
     },
     "execution_count": 63,
     "metadata": {},
     "output_type": "execute_result"
    }
   ],
   "source": [
    "df.shape"
   ]
  },
  {
   "cell_type": "code",
   "execution_count": 64,
   "id": "9dfbf1aa",
   "metadata": {},
   "outputs": [
    {
     "data": {
      "text/plain": [
       "(1599, 10)"
      ]
     },
     "execution_count": 64,
     "metadata": {},
     "output_type": "execute_result"
    }
   ],
   "source": [
    "df_new.shape"
   ]
  },
  {
   "cell_type": "markdown",
   "id": "02911704",
   "metadata": {},
   "source": [
    "# Model Selection: "
   ]
  },
  {
   "cell_type": "code",
   "execution_count": 68,
   "id": "2f5b463d",
   "metadata": {},
   "outputs": [
    {
     "data": {
      "text/plain": [
       "(1598, 10)"
      ]
     },
     "execution_count": 68,
     "metadata": {},
     "output_type": "execute_result"
    }
   ],
   "source": [
    "df.shape"
   ]
  },
  {
   "cell_type": "code",
   "execution_count": 65,
   "id": "8ca8437f",
   "metadata": {},
   "outputs": [],
   "source": [
    "df.dropna( inplace = True)"
   ]
  },
  {
   "cell_type": "code",
   "execution_count": 66,
   "id": "c908ae94",
   "metadata": {},
   "outputs": [],
   "source": [
    "x = df.iloc[:, :-1]\n",
    "y = df.iloc[:, -1]"
   ]
  },
  {
   "cell_type": "code",
   "execution_count": 67,
   "id": "f16d36f9",
   "metadata": {},
   "outputs": [
    {
     "data": {
      "text/plain": [
       "(1598, 9)"
      ]
     },
     "execution_count": 67,
     "metadata": {},
     "output_type": "execute_result"
    }
   ],
   "source": [
    "x.shape"
   ]
  },
  {
   "cell_type": "code",
   "execution_count": 69,
   "id": "ba71ca31",
   "metadata": {},
   "outputs": [
    {
     "data": {
      "text/plain": [
       "(1598,)"
      ]
     },
     "execution_count": 69,
     "metadata": {},
     "output_type": "execute_result"
    }
   ],
   "source": [
    "y.shape"
   ]
  },
  {
   "cell_type": "markdown",
   "id": "35823baa",
   "metadata": {},
   "source": [
    "# SMOTE (Synthetic Minority Over-Sampling Technique): "
   ]
  },
  {
   "cell_type": "markdown",
   "id": "6d14769b",
   "metadata": {},
   "source": [
    "The data in terms of quality is quite unbalanced. We are going to correct it and making the data balanced using SMOTE technique."
   ]
  },
  {
   "cell_type": "code",
   "execution_count": 70,
   "id": "3a6b7223",
   "metadata": {},
   "outputs": [
    {
     "data": {
      "text/plain": [
       "1    854\n",
       "0    744\n",
       "Name: quality, dtype: int64"
      ]
     },
     "execution_count": 70,
     "metadata": {},
     "output_type": "execute_result"
    }
   ],
   "source": [
    "y.value_counts()"
   ]
  },
  {
   "cell_type": "code",
   "execution_count": 71,
   "id": "14586be8",
   "metadata": {},
   "outputs": [
    {
     "data": {
      "text/plain": [
       "<AxesSubplot:xlabel='quality', ylabel='count'>"
      ]
     },
     "execution_count": 71,
     "metadata": {},
     "output_type": "execute_result"
    },
    {
     "data": {
      "image/png": "[encoded data removed]",
      "text/plain": [
       "<Figure size 432x288 with 1 Axes>"
      ]
     },
     "metadata": {
      "needs_background": "light"
     },
     "output_type": "display_data"
    }
   ],
   "source": [
    "sns.countplot(y)"
   ]
  },
  {
   "cell_type": "code",
   "execution_count": 72,
   "id": "2176e3fc",
   "metadata": {},
   "outputs": [],
   "source": [
    "smt = SMOTE()\n",
    "X,Y = smt.fit_resample(x,y)"
   ]
  },
  {
   "cell_type": "code",
   "execution_count": 73,
   "id": "620f3140",
   "metadata": {},
   "outputs": [
    {
     "data": {
      "text/html": [
       "<div>\n",
       "<style scoped>\n",
       "    .dataframe tbody tr th:only-of-type {\n",
       "        vertical-align: middle;\n",
       "    }\n",
       "\n",
       "    .dataframe tbody tr th {\n",
       "        vertical-align: top;\n",
       "    }\n",
       "\n",
       "    .dataframe thead th {\n",
       "        text-align: right;\n",
       "    }\n",
       "</style>\n",
       "<table border=\"1\" class=\"dataframe\">\n",
       "  <thead>\n",
       "    <tr style=\"text-align: right;\">\n",
       "      <th></th>\n",
       "      <th>fixed acidity</th>\n",
       "      <th>citric acid</th>\n",
       "      <th>residual sugar</th>\n",
       "      <th>chlorides</th>\n",
       "      <th>free sulfur dioxide</th>\n",
       "      <th>total sulfur dioxide</th>\n",
       "      <th>pH</th>\n",
       "      <th>sulphates</th>\n",
       "      <th>alcohol</th>\n",
       "    </tr>\n",
       "  </thead>\n",
       "  <tbody>\n",
       "    <tr>\n",
       "      <th>0</th>\n",
       "      <td>7.400000</td>\n",
       "      <td>0.000000</td>\n",
       "      <td>1.900000</td>\n",
       "      <td>0.076000</td>\n",
       "      <td>11.000000</td>\n",
       "      <td>34.000000</td>\n",
       "      <td>3.510000</td>\n",
       "      <td>0.560000</td>\n",
       "      <td>9.400000</td>\n",
       "    </tr>\n",
       "    <tr>\n",
       "      <th>1</th>\n",
       "      <td>7.800000</td>\n",
       "      <td>0.000000</td>\n",
       "      <td>2.600000</td>\n",
       "      <td>0.098000</td>\n",
       "      <td>25.000000</td>\n",
       "      <td>67.000000</td>\n",
       "      <td>3.200000</td>\n",
       "      <td>0.680000</td>\n",
       "      <td>9.800000</td>\n",
       "    </tr>\n",
       "    <tr>\n",
       "      <th>2</th>\n",
       "      <td>7.800000</td>\n",
       "      <td>0.040000</td>\n",
       "      <td>2.300000</td>\n",
       "      <td>0.092000</td>\n",
       "      <td>15.000000</td>\n",
       "      <td>54.000000</td>\n",
       "      <td>3.260000</td>\n",
       "      <td>0.650000</td>\n",
       "      <td>9.800000</td>\n",
       "    </tr>\n",
       "    <tr>\n",
       "      <th>3</th>\n",
       "      <td>11.200000</td>\n",
       "      <td>0.560000</td>\n",
       "      <td>1.900000</td>\n",
       "      <td>0.075000</td>\n",
       "      <td>17.000000</td>\n",
       "      <td>60.000000</td>\n",
       "      <td>3.160000</td>\n",
       "      <td>0.580000</td>\n",
       "      <td>9.800000</td>\n",
       "    </tr>\n",
       "    <tr>\n",
       "      <th>4</th>\n",
       "      <td>7.400000</td>\n",
       "      <td>0.000000</td>\n",
       "      <td>1.900000</td>\n",
       "      <td>0.076000</td>\n",
       "      <td>11.000000</td>\n",
       "      <td>34.000000</td>\n",
       "      <td>3.510000</td>\n",
       "      <td>0.560000</td>\n",
       "      <td>9.400000</td>\n",
       "    </tr>\n",
       "    <tr>\n",
       "      <th>...</th>\n",
       "      <td>...</td>\n",
       "      <td>...</td>\n",
       "      <td>...</td>\n",
       "      <td>...</td>\n",
       "      <td>...</td>\n",
       "      <td>...</td>\n",
       "      <td>...</td>\n",
       "      <td>...</td>\n",
       "      <td>...</td>\n",
       "    </tr>\n",
       "    <tr>\n",
       "      <th>1703</th>\n",
       "      <td>7.663654</td>\n",
       "      <td>0.000000</td>\n",
       "      <td>2.207597</td>\n",
       "      <td>0.077758</td>\n",
       "      <td>11.000000</td>\n",
       "      <td>34.000000</td>\n",
       "      <td>3.479240</td>\n",
       "      <td>0.546817</td>\n",
       "      <td>9.443942</td>\n",
       "    </tr>\n",
       "    <tr>\n",
       "      <th>1704</th>\n",
       "      <td>7.376679</td>\n",
       "      <td>0.143004</td>\n",
       "      <td>2.110672</td>\n",
       "      <td>0.076360</td>\n",
       "      <td>7.446641</td>\n",
       "      <td>28.446641</td>\n",
       "      <td>3.454190</td>\n",
       "      <td>0.630395</td>\n",
       "      <td>9.655336</td>\n",
       "    </tr>\n",
       "    <tr>\n",
       "      <th>1705</th>\n",
       "      <td>8.709884</td>\n",
       "      <td>0.402136</td>\n",
       "      <td>2.742296</td>\n",
       "      <td>0.085000</td>\n",
       "      <td>16.324126</td>\n",
       "      <td>110.225291</td>\n",
       "      <td>3.258459</td>\n",
       "      <td>0.613517</td>\n",
       "      <td>9.800000</td>\n",
       "    </tr>\n",
       "    <tr>\n",
       "      <th>1706</th>\n",
       "      <td>7.500000</td>\n",
       "      <td>0.360000</td>\n",
       "      <td>6.100000</td>\n",
       "      <td>0.071000</td>\n",
       "      <td>17.000000</td>\n",
       "      <td>102.000000</td>\n",
       "      <td>3.350000</td>\n",
       "      <td>0.800000</td>\n",
       "      <td>10.500000</td>\n",
       "    </tr>\n",
       "    <tr>\n",
       "      <th>1707</th>\n",
       "      <td>7.954876</td>\n",
       "      <td>0.208719</td>\n",
       "      <td>1.987190</td>\n",
       "      <td>0.080451</td>\n",
       "      <td>24.097523</td>\n",
       "      <td>104.323142</td>\n",
       "      <td>3.320306</td>\n",
       "      <td>0.487744</td>\n",
       "      <td>9.809752</td>\n",
       "    </tr>\n",
       "  </tbody>\n",
       "</table>\n",
       "<p>1708 rows × 9 columns</p>\n",
       "</div>"
      ],
      "text/plain": [
       "      fixed acidity  citric acid  residual sugar  chlorides  \\\n",
       "0          7.400000     0.000000        1.900000   0.076000   \n",
       "1          7.800000     0.000000        2.600000   0.098000   \n",
       "2          7.800000     0.040000        2.300000   0.092000   \n",
       "3         11.200000     0.560000        1.900000   0.075000   \n",
       "4          7.400000     0.000000        1.900000   0.076000   \n",
       "...             ...          ...             ...        ...   \n",
       "1703       7.663654     0.000000        2.207597   0.077758   \n",
       "1704       7.376679     0.143004        2.110672   0.076360   \n",
       "1705       8.709884     0.402136        2.742296   0.085000   \n",
       "1706       7.500000     0.360000        6.100000   0.071000   \n",
       "1707       7.954876     0.208719        1.987190   0.080451   \n",
       "\n",
       "      free sulfur dioxide  total sulfur dioxide        pH  sulphates  \\\n",
       "0               11.000000             34.000000  3.510000   0.560000   \n",
       "1               25.000000             67.000000  3.200000   0.680000   \n",
       "2               15.000000             54.000000  3.260000   0.650000   \n",
       "3               17.000000             60.000000  3.160000   0.580000   \n",
       "4               11.000000             34.000000  3.510000   0.560000   \n",
       "...                   ...                   ...       ...        ...   \n",
       "1703            11.000000             34.000000  3.479240   0.546817   \n",
       "1704             7.446641             28.446641  3.454190   0.630395   \n",
       "1705            16.324126            110.225291  3.258459   0.613517   \n",
       "1706            17.000000            102.000000  3.350000   0.800000   \n",
       "1707            24.097523            104.323142  3.320306   0.487744   \n",
       "\n",
       "        alcohol  \n",
       "0      9.400000  \n",
       "1      9.800000  \n",
       "2      9.800000  \n",
       "3      9.800000  \n",
       "4      9.400000  \n",
       "...         ...  \n",
       "1703   9.443942  \n",
       "1704   9.655336  \n",
       "1705   9.800000  \n",
       "1706  10.500000  \n",
       "1707   9.809752  \n",
       "\n",
       "[1708 rows x 9 columns]"
      ]
     },
     "execution_count": 73,
     "metadata": {},
     "output_type": "execute_result"
    }
   ],
   "source": [
    "X"
   ]
  },
  {
   "cell_type": "code",
   "execution_count": 74,
   "id": "763e0681",
   "metadata": {},
   "outputs": [
    {
     "data": {
      "text/plain": [
       "0       0\n",
       "1       0\n",
       "2       0\n",
       "3       1\n",
       "4       0\n",
       "       ..\n",
       "1703    0\n",
       "1704    0\n",
       "1705    0\n",
       "1706    0\n",
       "1707    0\n",
       "Name: quality, Length: 1708, dtype: int64"
      ]
     },
     "execution_count": 74,
     "metadata": {},
     "output_type": "execute_result"
    }
   ],
   "source": [
    "Y"
   ]
  },
  {
   "cell_type": "code",
   "execution_count": 75,
   "id": "24b6ec4f",
   "metadata": {},
   "outputs": [
    {
     "data": {
      "text/plain": [
       "0    854\n",
       "1    854\n",
       "Name: quality, dtype: int64"
      ]
     },
     "execution_count": 75,
     "metadata": {},
     "output_type": "execute_result"
    }
   ],
   "source": [
    "Y.value_counts()"
   ]
  },
  {
   "cell_type": "markdown",
   "id": "f23558fc",
   "metadata": {},
   "source": [
    "Now the overall data is balanced. We can proceed with our model."
   ]
  },
  {
   "cell_type": "code",
   "execution_count": 76,
   "id": "c3afbb41",
   "metadata": {},
   "outputs": [],
   "source": [
    "### Removing skewness now. \n",
    "from sklearn.preprocessing import power_transform\n",
    "X=power_transform(X,method='yeo-johnson')"
   ]
  },
  {
   "cell_type": "code",
   "execution_count": 78,
   "id": "115670e4",
   "metadata": {},
   "outputs": [
    {
     "data": {
      "text/plain": [
       "0   -0.000137\n",
       "1    0.021884\n",
       "2   -0.015969\n",
       "3   -0.165336\n",
       "4   -0.010038\n",
       "5   -0.003460\n",
       "6   -0.003012\n",
       "7    0.014248\n",
       "8    0.117224\n",
       "dtype: float64"
      ]
     },
     "execution_count": 78,
     "metadata": {},
     "output_type": "execute_result"
    }
   ],
   "source": [
    "pd.DataFrame(X).skew()"
   ]
  },
  {
   "cell_type": "code",
   "execution_count": 79,
   "id": "c467ee1c",
   "metadata": {},
   "outputs": [
    {
     "data": {
      "text/plain": [
       "<AxesSubplot:ylabel='Density'>"
      ]
     },
     "execution_count": 79,
     "metadata": {},
     "output_type": "execute_result"
    },
    {
     "data": {
      "image/png": "[encoded data removed]",
      "text/plain": [
       "<Figure size 432x288 with 1 Axes>"
      ]
     },
     "metadata": {
      "needs_background": "light"
     },
     "output_type": "display_data"
    }
   ],
   "source": [
    "sns.distplot(pd.DataFrame(X))"
   ]
  },
  {
   "cell_type": "markdown",
   "id": "9441b3cf",
   "metadata": {},
   "source": [
    "Now the data is normally distributed. It is comparitevly less skewed."
   ]
  },
  {
   "cell_type": "code",
   "execution_count": 80,
   "id": "ede1e6a8",
   "metadata": {},
   "outputs": [
    {
     "data": {
      "text/plain": [
       "array([[-0.44182999, -1.53823758, -0.61007796, ...,  1.28541016,\n",
       "        -0.55646912, -1.06785326],\n",
       "       [-0.1553335 , -1.53823758,  0.55387215, ..., -0.72277304,\n",
       "         0.42930168, -0.47806153],\n",
       "       [-0.1553335 , -1.25514318,  0.14623233, ..., -0.31841817,\n",
       "         0.2169706 , -0.47806153],\n",
       "       ...,\n",
       "       [ 0.41189443,  0.75938076,  0.71340111, ..., -0.32870328,\n",
       "        -0.06977455, -0.47806153],\n",
       "       [-0.36778596,  0.56469028,  2.12517049, ...,  0.27359517,\n",
       "         1.10916226,  0.32820899],\n",
       "       [-0.05099436, -0.21087407, -0.4186331 , ...,  0.0801518 ,\n",
       "        -1.36808947, -0.46500311]])"
      ]
     },
     "execution_count": 80,
     "metadata": {},
     "output_type": "execute_result"
    }
   ],
   "source": [
    "### Using standardScaler --> scaling all the independent x variables. \n",
    "sc=StandardScaler()\n",
    "X1=sc.fit_transform(X)\n",
    "X1"
   ]
  },
  {
   "cell_type": "code",
   "execution_count": 86,
   "id": "86142f8c",
   "metadata": {},
   "outputs": [],
   "source": [
    "X = pd.DataFrame(X)"
   ]
  },
  {
   "cell_type": "code",
   "execution_count": 87,
   "id": "30d4abb0",
   "metadata": {},
   "outputs": [],
   "source": [
    "X = pd.DataFrame(X1,columns= X.columns)"
   ]
  },
  {
   "cell_type": "code",
   "execution_count": 88,
   "id": "9fd4be9f",
   "metadata": {},
   "outputs": [
    {
     "data": {
      "text/html": [
       "<div>\n",
       "<style scoped>\n",
       "    .dataframe tbody tr th:only-of-type {\n",
       "        vertical-align: middle;\n",
       "    }\n",
       "\n",
       "    .dataframe tbody tr th {\n",
       "        vertical-align: top;\n",
       "    }\n",
       "\n",
       "    .dataframe thead th {\n",
       "        text-align: right;\n",
       "    }\n",
       "</style>\n",
       "<table border=\"1\" class=\"dataframe\">\n",
       "  <thead>\n",
       "    <tr style=\"text-align: right;\">\n",
       "      <th></th>\n",
       "      <th>0</th>\n",
       "      <th>1</th>\n",
       "      <th>2</th>\n",
       "      <th>3</th>\n",
       "      <th>4</th>\n",
       "      <th>5</th>\n",
       "      <th>6</th>\n",
       "      <th>7</th>\n",
       "      <th>8</th>\n",
       "    </tr>\n",
       "  </thead>\n",
       "  <tbody>\n",
       "    <tr>\n",
       "      <th>0</th>\n",
       "      <td>-0.441830</td>\n",
       "      <td>-1.538238</td>\n",
       "      <td>-0.610078</td>\n",
       "      <td>-0.187156</td>\n",
       "      <td>-0.268008</td>\n",
       "      <td>-0.131938</td>\n",
       "      <td>1.285410</td>\n",
       "      <td>-0.556469</td>\n",
       "      <td>-1.067853</td>\n",
       "    </tr>\n",
       "    <tr>\n",
       "      <th>1</th>\n",
       "      <td>-0.155334</td>\n",
       "      <td>-1.538238</td>\n",
       "      <td>0.553872</td>\n",
       "      <td>0.787985</td>\n",
       "      <td>0.990004</td>\n",
       "      <td>0.837310</td>\n",
       "      <td>-0.722773</td>\n",
       "      <td>0.429302</td>\n",
       "      <td>-0.478062</td>\n",
       "    </tr>\n",
       "    <tr>\n",
       "      <th>2</th>\n",
       "      <td>-0.155334</td>\n",
       "      <td>-1.255143</td>\n",
       "      <td>0.146232</td>\n",
       "      <td>0.558806</td>\n",
       "      <td>0.192396</td>\n",
       "      <td>0.526228</td>\n",
       "      <td>-0.318418</td>\n",
       "      <td>0.216971</td>\n",
       "      <td>-0.478062</td>\n",
       "    </tr>\n",
       "    <tr>\n",
       "      <th>3</th>\n",
       "      <td>1.546924</td>\n",
       "      <td>1.421446</td>\n",
       "      <td>-0.610078</td>\n",
       "      <td>-0.241292</td>\n",
       "      <td>0.383495</td>\n",
       "      <td>0.677865</td>\n",
       "      <td>-0.996800</td>\n",
       "      <td>-0.364542</td>\n",
       "      <td>-0.478062</td>\n",
       "    </tr>\n",
       "    <tr>\n",
       "      <th>4</th>\n",
       "      <td>-0.441830</td>\n",
       "      <td>-1.538238</td>\n",
       "      <td>-0.610078</td>\n",
       "      <td>-0.187156</td>\n",
       "      <td>-0.268008</td>\n",
       "      <td>-0.131938</td>\n",
       "      <td>1.285410</td>\n",
       "      <td>-0.556469</td>\n",
       "      <td>-1.067853</td>\n",
       "    </tr>\n",
       "    <tr>\n",
       "      <th>...</th>\n",
       "      <td>...</td>\n",
       "      <td>...</td>\n",
       "      <td>...</td>\n",
       "      <td>...</td>\n",
       "      <td>...</td>\n",
       "      <td>...</td>\n",
       "      <td>...</td>\n",
       "      <td>...</td>\n",
       "      <td>...</td>\n",
       "    </tr>\n",
       "    <tr>\n",
       "      <th>1703</th>\n",
       "      <td>-0.250144</td>\n",
       "      <td>-1.538238</td>\n",
       "      <td>-0.003309</td>\n",
       "      <td>-0.094338</td>\n",
       "      <td>-0.268008</td>\n",
       "      <td>-0.131938</td>\n",
       "      <td>1.094774</td>\n",
       "      <td>-0.690124</td>\n",
       "      <td>-0.997524</td>\n",
       "    </tr>\n",
       "    <tr>\n",
       "      <th>1704</th>\n",
       "      <td>-0.459341</td>\n",
       "      <td>-0.591730</td>\n",
       "      <td>-0.174934</td>\n",
       "      <td>-0.167921</td>\n",
       "      <td>-0.817962</td>\n",
       "      <td>-0.381902</td>\n",
       "      <td>0.938182</td>\n",
       "      <td>0.067022</td>\n",
       "      <td>-0.678803</td>\n",
       "    </tr>\n",
       "    <tr>\n",
       "      <th>1705</th>\n",
       "      <td>0.411894</td>\n",
       "      <td>0.759381</td>\n",
       "      <td>0.713401</td>\n",
       "      <td>0.258574</td>\n",
       "      <td>0.321233</td>\n",
       "      <td>1.563994</td>\n",
       "      <td>-0.328703</td>\n",
       "      <td>-0.069775</td>\n",
       "      <td>-0.478062</td>\n",
       "    </tr>\n",
       "    <tr>\n",
       "      <th>1706</th>\n",
       "      <td>-0.367786</td>\n",
       "      <td>0.564690</td>\n",
       "      <td>2.125170</td>\n",
       "      <td>-0.467905</td>\n",
       "      <td>0.383495</td>\n",
       "      <td>1.450044</td>\n",
       "      <td>0.273595</td>\n",
       "      <td>1.109162</td>\n",
       "      <td>0.328209</td>\n",
       "    </tr>\n",
       "    <tr>\n",
       "      <th>1707</th>\n",
       "      <td>-0.050994</td>\n",
       "      <td>-0.210874</td>\n",
       "      <td>-0.418633</td>\n",
       "      <td>0.042311</td>\n",
       "      <td>0.931079</td>\n",
       "      <td>1.483106</td>\n",
       "      <td>0.080152</td>\n",
       "      <td>-1.368089</td>\n",
       "      <td>-0.465003</td>\n",
       "    </tr>\n",
       "  </tbody>\n",
       "</table>\n",
       "<p>1708 rows × 9 columns</p>\n",
       "</div>"
      ],
      "text/plain": [
       "             0         1         2         3         4         5         6  \\\n",
       "0    -0.441830 -1.538238 -0.610078 -0.187156 -0.268008 -0.131938  1.285410   \n",
       "1    -0.155334 -1.538238  0.553872  0.787985  0.990004  0.837310 -0.722773   \n",
       "2    -0.155334 -1.255143  0.146232  0.558806  0.192396  0.526228 -0.318418   \n",
       "3     1.546924  1.421446 -0.610078 -0.241292  0.383495  0.677865 -0.996800   \n",
       "4    -0.441830 -1.538238 -0.610078 -0.187156 -0.268008 -0.131938  1.285410   \n",
       "...        ...       ...       ...       ...       ...       ...       ...   \n",
       "1703 -0.250144 -1.538238 -0.003309 -0.094338 -0.268008 -0.131938  1.094774   \n",
       "1704 -0.459341 -0.591730 -0.174934 -0.167921 -0.817962 -0.381902  0.938182   \n",
       "1705  0.411894  0.759381  0.713401  0.258574  0.321233  1.563994 -0.328703   \n",
       "1706 -0.367786  0.564690  2.125170 -0.467905  0.383495  1.450044  0.273595   \n",
       "1707 -0.050994 -0.210874 -0.418633  0.042311  0.931079  1.483106  0.080152   \n",
       "\n",
       "             7         8  \n",
       "0    -0.556469 -1.067853  \n",
       "1     0.429302 -0.478062  \n",
       "2     0.216971 -0.478062  \n",
       "3    -0.364542 -0.478062  \n",
       "4    -0.556469 -1.067853  \n",
       "...        ...       ...  \n",
       "1703 -0.690124 -0.997524  \n",
       "1704  0.067022 -0.678803  \n",
       "1705 -0.069775 -0.478062  \n",
       "1706  1.109162  0.328209  \n",
       "1707 -1.368089 -0.465003  \n",
       "\n",
       "[1708 rows x 9 columns]"
      ]
     },
     "execution_count": 88,
     "metadata": {},
     "output_type": "execute_result"
    }
   ],
   "source": [
    "X"
   ]
  },
  {
   "cell_type": "code",
   "execution_count": 89,
   "id": "f65cb867",
   "metadata": {},
   "outputs": [],
   "source": [
    "from sklearn.linear_model import LogisticRegression"
   ]
  },
  {
   "cell_type": "code",
   "execution_count": 106,
   "id": "69842e24",
   "metadata": {},
   "outputs": [],
   "source": [
    "trainx,testx,trainy,testy = train_test_split(X,Y,test_size = .20, random_state = 138)"
   ]
  },
  {
   "cell_type": "code",
   "execution_count": 107,
   "id": "b57fad4e",
   "metadata": {},
   "outputs": [],
   "source": [
    "LR = LogisticRegression()\n",
    "LR.fit(trainx, trainy)\n",
    "predrf = LR.predict(testx)\n",
    "acc=accuracy_score(testy,predrf)"
   ]
  },
  {
   "cell_type": "code",
   "execution_count": 108,
   "id": "eb508c99",
   "metadata": {},
   "outputs": [
    {
     "name": "stdout",
     "output_type": "stream",
     "text": [
      "0.7368421052631579\n"
     ]
    }
   ],
   "source": [
    "print(acc)"
   ]
  },
  {
   "cell_type": "code",
   "execution_count": 109,
   "id": "4baeb933",
   "metadata": {},
   "outputs": [
    {
     "name": "stdout",
     "output_type": "stream",
     "text": [
      "[[128  49]\n",
      " [ 41 124]]\n"
     ]
    }
   ],
   "source": [
    "print(confusion_matrix(testy,predrf))"
   ]
  },
  {
   "cell_type": "code",
   "execution_count": 110,
   "id": "e8560f18",
   "metadata": {},
   "outputs": [
    {
     "name": "stdout",
     "output_type": "stream",
     "text": [
      "              precision    recall  f1-score   support\n",
      "\n",
      "           0       0.76      0.72      0.74       177\n",
      "           1       0.72      0.75      0.73       165\n",
      "\n",
      "    accuracy                           0.74       342\n",
      "   macro avg       0.74      0.74      0.74       342\n",
      "weighted avg       0.74      0.74      0.74       342\n",
      "\n"
     ]
    }
   ],
   "source": [
    "print(classification_report(testy,predrf))"
   ]
  },
  {
   "cell_type": "code",
   "execution_count": 113,
   "id": "c294e730",
   "metadata": {},
   "outputs": [
    {
     "name": "stdout",
     "output_type": "stream",
     "text": [
      "Accuracy : 75.14619883040936\n",
      "[[132  45]\n",
      " [ 40 125]]\n",
      "              precision    recall  f1-score   support\n",
      "\n",
      "           0       0.77      0.75      0.76       177\n",
      "           1       0.74      0.76      0.75       165\n",
      "\n",
      "    accuracy                           0.75       342\n",
      "   macro avg       0.75      0.75      0.75       342\n",
      "weighted avg       0.75      0.75      0.75       342\n",
      "\n"
     ]
    }
   ],
   "source": [
    "from sklearn.naive_bayes import GaussianNB\n",
    "gb = GaussianNB()\n",
    "gb.fit(trainx,trainy)\n",
    "predgb = gb.predict(testx)\n",
    "print(\"Accuracy :\",accuracy_score(testy,predgb)*100)\n",
    "print(confusion_matrix(testy,predgb))\n",
    "print(classification_report(testy,predgb))"
   ]
  },
  {
   "cell_type": "code",
   "execution_count": 114,
   "id": "44fb7b85",
   "metadata": {},
   "outputs": [
    {
     "name": "stdout",
     "output_type": "stream",
     "text": [
      "Accuracy  78.65497076023392\n",
      "[[138  39]\n",
      " [ 34 131]]\n",
      "              precision    recall  f1-score   support\n",
      "\n",
      "           0       0.80      0.78      0.79       177\n",
      "           1       0.77      0.79      0.78       165\n",
      "\n",
      "    accuracy                           0.79       342\n",
      "   macro avg       0.79      0.79      0.79       342\n",
      "weighted avg       0.79      0.79      0.79       342\n",
      "\n"
     ]
    }
   ],
   "source": [
    "dt = DecisionTreeClassifier()\n",
    "dt.fit(trainx,trainy)\n",
    "preddt = dt.predict(testx)\n",
    "print(\"Accuracy \",accuracy_score(testy,preddt)*100)\n",
    "print(confusion_matrix(testy,preddt))\n",
    "print(classification_report(testy,preddt))"
   ]
  },
  {
   "cell_type": "code",
   "execution_count": 115,
   "id": "8bf8aefe",
   "metadata": {},
   "outputs": [
    {
     "name": "stdout",
     "output_type": "stream",
     "text": [
      "Accuracy  78.94736842105263\n",
      "[[139  38]\n",
      " [ 34 131]]\n",
      "              precision    recall  f1-score   support\n",
      "\n",
      "           0       0.80      0.79      0.79       177\n",
      "           1       0.78      0.79      0.78       165\n",
      "\n",
      "    accuracy                           0.79       342\n",
      "   macro avg       0.79      0.79      0.79       342\n",
      "weighted avg       0.79      0.79      0.79       342\n",
      "\n"
     ]
    }
   ],
   "source": [
    "svc = SVC()\n",
    "svc.fit(trainx,trainy)\n",
    "predsvc = svc.predict(testx)\n",
    "print(\"Accuracy \",accuracy_score(testy,predsvc)*100)\n",
    "print(confusion_matrix(testy,predsvc))\n",
    "print(classification_report(testy,predsvc))"
   ]
  },
  {
   "cell_type": "code",
   "execution_count": 118,
   "id": "c2e416e4",
   "metadata": {},
   "outputs": [
    {
     "name": "stdout",
     "output_type": "stream",
     "text": [
      "Accuracy  75.14619883040936\n",
      "[[142  35]\n",
      " [ 50 115]]\n",
      "              precision    recall  f1-score   support\n",
      "\n",
      "           0       0.74      0.80      0.77       177\n",
      "           1       0.77      0.70      0.73       165\n",
      "\n",
      "    accuracy                           0.75       342\n",
      "   macro avg       0.75      0.75      0.75       342\n",
      "weighted avg       0.75      0.75      0.75       342\n",
      "\n"
     ]
    }
   ],
   "source": [
    "svcp = SVC(kernel='poly')\n",
    "svcp.fit(trainx,trainy)\n",
    "predsvcp = svcp.predict(testx)\n",
    "print(\"Accuracy \",accuracy_score(testy,predsvcp)*100)\n",
    "print(confusion_matrix(testy,predsvcp))\n",
    "print(classification_report(testy,predsvcp))"
   ]
  },
  {
   "cell_type": "code",
   "execution_count": 119,
   "id": "817ae17c",
   "metadata": {},
   "outputs": [
    {
     "name": "stdout",
     "output_type": "stream",
     "text": [
      "Accuracy  73.68421052631578\n",
      "[[130  47]\n",
      " [ 43 122]]\n",
      "              precision    recall  f1-score   support\n",
      "\n",
      "           0       0.75      0.73      0.74       177\n",
      "           1       0.72      0.74      0.73       165\n",
      "\n",
      "    accuracy                           0.74       342\n",
      "   macro avg       0.74      0.74      0.74       342\n",
      "weighted avg       0.74      0.74      0.74       342\n",
      "\n"
     ]
    }
   ],
   "source": [
    "svclinear = SVC(kernel='linear')\n",
    "svclinear.fit(trainx,trainy)\n",
    "predsvclinear = svclinear.predict(testx)\n",
    "print(\"Accuracy \",accuracy_score(testy,predsvclinear)*100)\n",
    "print(confusion_matrix(testy,predsvclinear))\n",
    "print(classification_report(testy,predsvclinear))"
   ]
  },
  {
   "cell_type": "code",
   "execution_count": 120,
   "id": "fd954f21",
   "metadata": {},
   "outputs": [
    {
     "name": "stdout",
     "output_type": "stream",
     "text": [
      "0.7543859649122807\n",
      "[[134  43]\n",
      " [ 41 124]]\n",
      "              precision    recall  f1-score   support\n",
      "\n",
      "           0       0.77      0.76      0.76       177\n",
      "           1       0.74      0.75      0.75       165\n",
      "\n",
      "    accuracy                           0.75       342\n",
      "   macro avg       0.75      0.75      0.75       342\n",
      "weighted avg       0.75      0.75      0.75       342\n",
      "\n"
     ]
    }
   ],
   "source": [
    "knn=KNeighborsClassifier(n_neighbors=5)\n",
    "knn.fit(trainx,trainy)\n",
    "knn.score(trainx,trainy)\n",
    "predknn=knn.predict(testx)\n",
    "print(accuracy_score(testy,predknn))\n",
    "print(confusion_matrix(testy,predknn))\n",
    "print(classification_report(testy,predknn))"
   ]
  },
  {
   "cell_type": "code",
   "execution_count": 121,
   "id": "118f5b3d",
   "metadata": {},
   "outputs": [
    {
     "name": "stdout",
     "output_type": "stream",
     "text": [
      "0.8245614035087719\n",
      "[[147  30]\n",
      " [ 30 135]]\n",
      "              precision    recall  f1-score   support\n",
      "\n",
      "           0       0.83      0.83      0.83       177\n",
      "           1       0.82      0.82      0.82       165\n",
      "\n",
      "    accuracy                           0.82       342\n",
      "   macro avg       0.82      0.82      0.82       342\n",
      "weighted avg       0.82      0.82      0.82       342\n",
      "\n"
     ]
    }
   ],
   "source": [
    "rf = RandomForestClassifier(n_estimators=100,random_state=93)\n",
    "rf.fit(trainx,trainy)\n",
    "predrf = rf.predict(testx)\n",
    "print(accuracy_score(testy,predrf))\n",
    "print(confusion_matrix(testy,predrf))\n",
    "print(classification_report(testy,predrf))"
   ]
  },
  {
   "cell_type": "code",
   "execution_count": 122,
   "id": "86fb7dfb",
   "metadata": {},
   "outputs": [
    {
     "name": "stdout",
     "output_type": "stream",
     "text": [
      "0.7573099415204678\n",
      "[[137  40]\n",
      " [ 43 122]]\n",
      "              precision    recall  f1-score   support\n",
      "\n",
      "           0       0.76      0.77      0.77       177\n",
      "           1       0.75      0.74      0.75       165\n",
      "\n",
      "    accuracy                           0.76       342\n",
      "   macro avg       0.76      0.76      0.76       342\n",
      "weighted avg       0.76      0.76      0.76       342\n",
      "\n"
     ]
    }
   ],
   "source": [
    "ada = AdaBoostClassifier()\n",
    "ada.fit(trainx,trainy)\n",
    "predada = ada.predict(testx)\n",
    "print(accuracy_score(testy,predada))\n",
    "print(confusion_matrix(testy,predada))\n",
    "print(classification_report(testy,predada))"
   ]
  },
  {
   "cell_type": "code",
   "execution_count": 123,
   "id": "4886f821",
   "metadata": {},
   "outputs": [
    {
     "name": "stdout",
     "output_type": "stream",
     "text": [
      "0.7719298245614035\n",
      "[[135  42]\n",
      " [ 36 129]]\n",
      "              precision    recall  f1-score   support\n",
      "\n",
      "           0       0.79      0.76      0.78       177\n",
      "           1       0.75      0.78      0.77       165\n",
      "\n",
      "    accuracy                           0.77       342\n",
      "   macro avg       0.77      0.77      0.77       342\n",
      "weighted avg       0.77      0.77      0.77       342\n",
      "\n"
     ]
    }
   ],
   "source": [
    "from sklearn.ensemble import GradientBoostingClassifier\n",
    "gb = GradientBoostingClassifier()\n",
    "gb.fit(trainx,trainy)\n",
    "predgb = gb.predict(testx)\n",
    "print(accuracy_score(testy,predgb))\n",
    "print(confusion_matrix(testy,predgb))\n",
    "print(classification_report(testy,predgb))"
   ]
  },
  {
   "cell_type": "markdown",
   "id": "fcaf0ca0",
   "metadata": {},
   "source": [
    "# Cross-validation"
   ]
  },
  {
   "cell_type": "code",
   "execution_count": 126,
   "id": "5e8b0d4f",
   "metadata": {},
   "outputs": [
    {
     "name": "stdout",
     "output_type": "stream",
     "text": [
      " CV score of Logistic Regression model:  0.7066899898818406\n",
      "\n",
      "Accuracy Score - Cross Validation Score is 0.11787141362693132\n"
     ]
    }
   ],
   "source": [
    "# Logistic Regression\n",
    "scr = cross_val_score(LR,X,Y,cv=5)\n",
    "print(\" CV score of Logistic Regression model: \",scr.mean())\n",
    "result = accuracy_score(testy,predrf) - scr.mean()\n",
    "print(\"\\nAccuracy Score - Cross Validation Score is\", result)"
   ]
  },
  {
   "cell_type": "code",
   "execution_count": 128,
   "id": "e1327f6b",
   "metadata": {},
   "outputs": [
    {
     "name": "stdout",
     "output_type": "stream",
     "text": [
      " CV score of Logistic Regression model:  0.7289156419886471\n",
      "\n",
      "Accuracy Score - Cross Validation Score is 0.043014182572756354\n"
     ]
    }
   ],
   "source": [
    "# Gaussian Naive Bayes\n",
    "scr2 = cross_val_score(gb,X,Y,cv=5)\n",
    "print(\" CV score of Logistic Regression model: \",scr2.mean())\n",
    "result2 = accuracy_score(testy,predgb) - scr2.mean()\n",
    "print(\"\\nAccuracy Score - Cross Validation Score is\", result2)"
   ]
  },
  {
   "cell_type": "code",
   "execution_count": 129,
   "id": "6674232c",
   "metadata": {},
   "outputs": [
    {
     "name": "stdout",
     "output_type": "stream",
     "text": [
      " CV score of Logistic Regression model:  0.6703932362675995\n",
      "\n",
      "Accuracy Score - Cross Validation Score is 0.11615647133473972\n"
     ]
    }
   ],
   "source": [
    "# DecisionTree\n",
    "scr3 = cross_val_score(dt,X,Y,cv=5)\n",
    "print(\" CV score of Logistic Regression model: \",scr3.mean())\n",
    "result3 = accuracy_score(testy,preddt) - scr3.mean()\n",
    "print(\"\\nAccuracy Score - Cross Validation Score is\", result3)"
   ]
  },
  {
   "cell_type": "code",
   "execution_count": 130,
   "id": "1719fa93",
   "metadata": {},
   "outputs": [
    {
     "name": "stdout",
     "output_type": "stream",
     "text": [
      " CV score of Logistic Regression model:  0.7418171528528065\n",
      "\n",
      "Accuracy Score - Cross Validation Score is 0.047656531357719856\n"
     ]
    }
   ],
   "source": [
    " # SVC Classifier rbf\n",
    "scr4 = cross_val_score(svc,X,Y,cv=5)\n",
    "print(\" CV score of Logistic Regression model: \",scr4.mean())\n",
    "result4 = accuracy_score(testy,predsvc) - scr4.mean()\n",
    "print(\"\\nAccuracy Score - Cross Validation Score is\", result4)"
   ]
  },
  {
   "cell_type": "code",
   "execution_count": 131,
   "id": "f10065fd",
   "metadata": {},
   "outputs": [
    {
     "name": "stdout",
     "output_type": "stream",
     "text": [
      " CV score of Logistic Regression model:  0.7207696661007358\n",
      "\n",
      "Accuracy Score - Cross Validation Score is 0.030692322203357825\n"
     ]
    }
   ],
   "source": [
    " # SVC Classifier poly\n",
    "scr5 = cross_val_score(svcp,X,Y,cv=5)\n",
    "print(\" CV score of Logistic Regression model: \",scr5.mean())\n",
    "result5 = accuracy_score(testy,predsvcp) - scr5.mean()\n",
    "print(\"\\nAccuracy Score - Cross Validation Score is\", result5)"
   ]
  },
  {
   "cell_type": "code",
   "execution_count": 132,
   "id": "a1964106",
   "metadata": {},
   "outputs": [
    {
     "name": "stdout",
     "output_type": "stream",
     "text": [
      " CV score of Logistic Regression model:  0.7119565776611617\n",
      "\n",
      "Accuracy Score - Cross Validation Score is 0.024885527601996138\n"
     ]
    }
   ],
   "source": [
    " # SVC Classifier linear\n",
    "scr6 = cross_val_score(svclinear,X,Y,cv=5)\n",
    "print(\" CV score of Logistic Regression model: \",scr6.mean())\n",
    "result6 = accuracy_score(testy,predsvclinear) - scr6.mean()\n",
    "print(\"\\nAccuracy Score - Cross Validation Score is\", result6)"
   ]
  },
  {
   "cell_type": "code",
   "execution_count": 133,
   "id": "7cd7ca12",
   "metadata": {},
   "outputs": [
    {
     "name": "stdout",
     "output_type": "stream",
     "text": [
      " CV score of Logistic Regression model:  0.7002298022671536\n",
      "\n",
      "Accuracy Score - Cross Validation Score is 0.054156162645127126\n"
     ]
    }
   ],
   "source": [
    "# KNearest Neighbors Classifier\n",
    "scr7 = cross_val_score(knn,X,Y,cv=5)\n",
    "print(\" CV score of Logistic Regression model: \",scr7.mean())\n",
    "result7 = accuracy_score(testy,predknn) - scr7.mean()\n",
    "print(\"\\nAccuracy Score - Cross Validation Score is\", result7)"
   ]
  },
  {
   "cell_type": "code",
   "execution_count": 134,
   "id": "731efa2c",
   "metadata": {},
   "outputs": [
    {
     "name": "stdout",
     "output_type": "stream",
     "text": [
      " CV score of Logistic Regression model:  0.7253965804050694\n",
      "\n",
      "Accuracy Score - Cross Validation Score is 0.09916482310370256\n"
     ]
    }
   ],
   "source": [
    "# Random Forest\n",
    "scr8 = cross_val_score(rf,X,Y,cv=5)\n",
    "print(\" CV score of Logistic Regression model: \",scr8.mean())\n",
    "result8 = accuracy_score(testy,predrf) - scr8.mean()\n",
    "print(\"\\nAccuracy Score - Cross Validation Score is\", result8)"
   ]
  },
  {
   "cell_type": "code",
   "execution_count": 135,
   "id": "637d08d1",
   "metadata": {},
   "outputs": [
    {
     "name": "stdout",
     "output_type": "stream",
     "text": [
      " CV score of Logistic Regression model:  0.7049356039169282\n",
      "\n",
      "Accuracy Score - Cross Validation Score is 0.0523743376035396\n"
     ]
    }
   ],
   "source": [
    "# Ada Boosting\n",
    "scr9 = cross_val_score(ada,X,Y,cv=5)\n",
    "print(\" CV score of Logistic Regression model: \",scr9.mean())\n",
    "result9 = accuracy_score(testy,predada) - scr9.mean()\n",
    "print(\"\\nAccuracy Score - Cross Validation Score is\", result9)"
   ]
  },
  {
   "cell_type": "code",
   "execution_count": 136,
   "id": "cfcecf7d",
   "metadata": {},
   "outputs": [
    {
     "name": "stdout",
     "output_type": "stream",
     "text": [
      " CV score of Logistic Regression model:  0.7300886625165065\n",
      "\n",
      "Accuracy Score - Cross Validation Score is 0.04184116204489696\n"
     ]
    }
   ],
   "source": [
    "# Gradient Boosting\n",
    "scr10 = cross_val_score(gb,X,Y,cv=5)\n",
    "print(\" CV score of Logistic Regression model: \",scr10.mean())\n",
    "result10 = accuracy_score(testy,predgb) - scr10.mean()\n",
    "print(\"\\nAccuracy Score - Cross Validation Score is\", result10)"
   ]
  },
  {
   "cell_type": "markdown",
   "id": "31ad172e",
   "metadata": {},
   "source": [
    " SVC Classifier is performing the best among all so we will perform hyper parameter tuning for it."
   ]
  },
  {
   "cell_type": "markdown",
   "id": "2532c688",
   "metadata": {},
   "source": [
    "# Hyper Parameter Tuning "
   ]
  },
  {
   "cell_type": "code",
   "execution_count": 139,
   "id": "e14ec1a2",
   "metadata": {},
   "outputs": [
    {
     "name": "stdout",
     "output_type": "stream",
     "text": [
      "Fitting 5 folds for each of 25 candidates, totalling 125 fits\n",
      "[CV 1/5] END ........C=0.1, gamma=1, kernel=rbf;, score=0.522 total time=   0.2s\n",
      "[CV 2/5] END ........C=0.1, gamma=1, kernel=rbf;, score=0.516 total time=   0.2s\n",
      "[CV 3/5] END ........C=0.1, gamma=1, kernel=rbf;, score=0.524 total time=   0.2s\n",
      "[CV 4/5] END ........C=0.1, gamma=1, kernel=rbf;, score=0.535 total time=   0.2s\n",
      "[CV 5/5] END ........C=0.1, gamma=1, kernel=rbf;, score=0.520 total time=   0.2s\n",
      "[CV 1/5] END ......C=0.1, gamma=0.1, kernel=rbf;, score=0.741 total time=   0.1s\n",
      "[CV 2/5] END ......C=0.1, gamma=0.1, kernel=rbf;, score=0.696 total time=   0.1s\n",
      "[CV 3/5] END ......C=0.1, gamma=0.1, kernel=rbf;, score=0.751 total time=   0.1s\n",
      "[CV 4/5] END ......C=0.1, gamma=0.1, kernel=rbf;, score=0.685 total time=   0.1s\n",
      "[CV 5/5] END ......C=0.1, gamma=0.1, kernel=rbf;, score=0.755 total time=   0.1s\n",
      "[CV 1/5] END .....C=0.1, gamma=0.01, kernel=rbf;, score=0.734 total time=   0.2s\n",
      "[CV 2/5] END .....C=0.1, gamma=0.01, kernel=rbf;, score=0.681 total time=   0.2s\n",
      "[CV 3/5] END .....C=0.1, gamma=0.01, kernel=rbf;, score=0.780 total time=   0.2s\n",
      "[CV 4/5] END .....C=0.1, gamma=0.01, kernel=rbf;, score=0.674 total time=   0.2s\n",
      "[CV 5/5] END .....C=0.1, gamma=0.01, kernel=rbf;, score=0.744 total time=   0.1s\n",
      "[CV 1/5] END ....C=0.1, gamma=0.001, kernel=rbf;, score=0.504 total time=   0.2s\n",
      "[CV 2/5] END ....C=0.1, gamma=0.001, kernel=rbf;, score=0.505 total time=   0.2s\n",
      "[CV 3/5] END ....C=0.1, gamma=0.001, kernel=rbf;, score=0.505 total time=   0.2s\n",
      "[CV 4/5] END ....C=0.1, gamma=0.001, kernel=rbf;, score=0.505 total time=   0.2s\n",
      "[CV 5/5] END ....C=0.1, gamma=0.001, kernel=rbf;, score=0.502 total time=   0.2s\n",
      "[CV 1/5] END ...C=0.1, gamma=0.0001, kernel=rbf;, score=0.504 total time=   0.2s\n",
      "[CV 2/5] END ...C=0.1, gamma=0.0001, kernel=rbf;, score=0.505 total time=   0.1s\n",
      "[CV 3/5] END ...C=0.1, gamma=0.0001, kernel=rbf;, score=0.505 total time=   0.2s\n",
      "[CV 4/5] END ...C=0.1, gamma=0.0001, kernel=rbf;, score=0.505 total time=   0.1s\n",
      "[CV 5/5] END ...C=0.1, gamma=0.0001, kernel=rbf;, score=0.502 total time=   0.2s\n",
      "[CV 1/5] END ..........C=1, gamma=1, kernel=rbf;, score=0.807 total time=   0.2s\n",
      "[CV 2/5] END ..........C=1, gamma=1, kernel=rbf;, score=0.751 total time=   0.2s\n",
      "[CV 3/5] END ..........C=1, gamma=1, kernel=rbf;, score=0.780 total time=   0.1s\n",
      "[CV 4/5] END ..........C=1, gamma=1, kernel=rbf;, score=0.773 total time=   0.1s\n",
      "[CV 5/5] END ..........C=1, gamma=1, kernel=rbf;, score=0.788 total time=   0.1s\n",
      "[CV 1/5] END ........C=1, gamma=0.1, kernel=rbf;, score=0.755 total time=   0.1s\n",
      "[CV 2/5] END ........C=1, gamma=0.1, kernel=rbf;, score=0.722 total time=   0.1s\n",
      "[CV 3/5] END ........C=1, gamma=0.1, kernel=rbf;, score=0.780 total time=   0.1s\n",
      "[CV 4/5] END ........C=1, gamma=0.1, kernel=rbf;, score=0.725 total time=   0.1s\n",
      "[CV 5/5] END ........C=1, gamma=0.1, kernel=rbf;, score=0.766 total time=   0.1s\n",
      "[CV 1/5] END .......C=1, gamma=0.01, kernel=rbf;, score=0.748 total time=   0.1s\n",
      "[CV 2/5] END .......C=1, gamma=0.01, kernel=rbf;, score=0.692 total time=   0.1s\n",
      "[CV 3/5] END .......C=1, gamma=0.01, kernel=rbf;, score=0.769 total time=   0.1s\n",
      "[CV 4/5] END .......C=1, gamma=0.01, kernel=rbf;, score=0.659 total time=   0.1s\n",
      "[CV 5/5] END .......C=1, gamma=0.01, kernel=rbf;, score=0.736 total time=   0.2s\n",
      "[CV 1/5] END ......C=1, gamma=0.001, kernel=rbf;, score=0.730 total time=   0.2s\n",
      "[CV 2/5] END ......C=1, gamma=0.001, kernel=rbf;, score=0.681 total time=   0.2s\n",
      "[CV 3/5] END ......C=1, gamma=0.001, kernel=rbf;, score=0.777 total time=   0.2s\n",
      "[CV 4/5] END ......C=1, gamma=0.001, kernel=rbf;, score=0.674 total time=   0.1s\n",
      "[CV 5/5] END ......C=1, gamma=0.001, kernel=rbf;, score=0.725 total time=   0.1s\n",
      "[CV 1/5] END .....C=1, gamma=0.0001, kernel=rbf;, score=0.504 total time=   0.2s\n",
      "[CV 2/5] END .....C=1, gamma=0.0001, kernel=rbf;, score=0.505 total time=   0.2s\n",
      "[CV 3/5] END .....C=1, gamma=0.0001, kernel=rbf;, score=0.505 total time=   0.2s\n",
      "[CV 4/5] END .....C=1, gamma=0.0001, kernel=rbf;, score=0.505 total time=   0.2s\n",
      "[CV 5/5] END .....C=1, gamma=0.0001, kernel=rbf;, score=0.502 total time=   0.2s\n",
      "[CV 1/5] END .........C=10, gamma=1, kernel=rbf;, score=0.777 total time=   0.2s\n",
      "[CV 2/5] END .........C=10, gamma=1, kernel=rbf;, score=0.751 total time=   0.2s\n",
      "[CV 3/5] END .........C=10, gamma=1, kernel=rbf;, score=0.762 total time=   0.2s\n",
      "[CV 4/5] END .........C=10, gamma=1, kernel=rbf;, score=0.773 total time=   0.2s\n",
      "[CV 5/5] END .........C=10, gamma=1, kernel=rbf;, score=0.758 total time=   0.2s\n",
      "[CV 1/5] END .......C=10, gamma=0.1, kernel=rbf;, score=0.781 total time=   0.1s\n",
      "[CV 2/5] END .......C=10, gamma=0.1, kernel=rbf;, score=0.736 total time=   0.2s\n",
      "[CV 3/5] END .......C=10, gamma=0.1, kernel=rbf;, score=0.766 total time=   0.2s\n",
      "[CV 4/5] END .......C=10, gamma=0.1, kernel=rbf;, score=0.777 total time=   0.3s\n",
      "[CV 5/5] END .......C=10, gamma=0.1, kernel=rbf;, score=0.762 total time=   0.6s\n",
      "[CV 1/5] END ......C=10, gamma=0.01, kernel=rbf;, score=0.730 total time=   0.3s\n",
      "[CV 2/5] END ......C=10, gamma=0.01, kernel=rbf;, score=0.729 total time=   0.2s\n",
      "[CV 3/5] END ......C=10, gamma=0.01, kernel=rbf;, score=0.769 total time=   0.2s\n",
      "[CV 4/5] END ......C=10, gamma=0.01, kernel=rbf;, score=0.685 total time=   0.2s\n",
      "[CV 5/5] END ......C=10, gamma=0.01, kernel=rbf;, score=0.755 total time=   0.2s\n",
      "[CV 1/5] END .....C=10, gamma=0.001, kernel=rbf;, score=0.752 total time=   0.4s\n",
      "[CV 2/5] END .....C=10, gamma=0.001, kernel=rbf;, score=0.678 total time=   0.3s\n",
      "[CV 3/5] END .....C=10, gamma=0.001, kernel=rbf;, score=0.762 total time=   0.4s\n",
      "[CV 4/5] END .....C=10, gamma=0.001, kernel=rbf;, score=0.674 total time=   0.4s\n",
      "[CV 5/5] END .....C=10, gamma=0.001, kernel=rbf;, score=0.747 total time=   0.3s\n",
      "[CV 1/5] END ....C=10, gamma=0.0001, kernel=rbf;, score=0.734 total time=   0.3s\n",
      "[CV 2/5] END ....C=10, gamma=0.0001, kernel=rbf;, score=0.681 total time=   0.3s\n",
      "[CV 3/5] END ....C=10, gamma=0.0001, kernel=rbf;, score=0.777 total time=   0.4s\n",
      "[CV 4/5] END ....C=10, gamma=0.0001, kernel=rbf;, score=0.674 total time=   0.3s\n",
      "[CV 5/5] END ....C=10, gamma=0.0001, kernel=rbf;, score=0.722 total time=   0.2s\n",
      "[CV 1/5] END ........C=100, gamma=1, kernel=rbf;, score=0.777 total time=   0.2s\n",
      "[CV 2/5] END ........C=100, gamma=1, kernel=rbf;, score=0.751 total time=   0.3s\n",
      "[CV 3/5] END ........C=100, gamma=1, kernel=rbf;, score=0.766 total time=   0.3s\n",
      "[CV 4/5] END ........C=100, gamma=1, kernel=rbf;, score=0.773 total time=   0.3s\n",
      "[CV 5/5] END ........C=100, gamma=1, kernel=rbf;, score=0.755 total time=   0.3s\n",
      "[CV 1/5] END ......C=100, gamma=0.1, kernel=rbf;, score=0.755 total time=   0.5s\n",
      "[CV 2/5] END ......C=100, gamma=0.1, kernel=rbf;, score=0.762 total time=   0.6s\n",
      "[CV 3/5] END ......C=100, gamma=0.1, kernel=rbf;, score=0.755 total time=   0.5s\n",
      "[CV 4/5] END ......C=100, gamma=0.1, kernel=rbf;, score=0.758 total time=   0.4s\n",
      "[CV 5/5] END ......C=100, gamma=0.1, kernel=rbf;, score=0.744 total time=   0.6s\n",
      "[CV 1/5] END .....C=100, gamma=0.01, kernel=rbf;, score=0.752 total time=   0.2s\n",
      "[CV 2/5] END .....C=100, gamma=0.01, kernel=rbf;, score=0.718 total time=   0.3s\n",
      "[CV 3/5] END .....C=100, gamma=0.01, kernel=rbf;, score=0.762 total time=   0.3s\n",
      "[CV 4/5] END .....C=100, gamma=0.01, kernel=rbf;, score=0.729 total time=   0.3s\n",
      "[CV 5/5] END .....C=100, gamma=0.01, kernel=rbf;, score=0.747 total time=   0.3s\n",
      "[CV 1/5] END ....C=100, gamma=0.001, kernel=rbf;, score=0.755 total time=   0.2s\n",
      "[CV 2/5] END ....C=100, gamma=0.001, kernel=rbf;, score=0.696 total time=   0.2s\n",
      "[CV 3/5] END ....C=100, gamma=0.001, kernel=rbf;, score=0.773 total time=   0.2s\n",
      "[CV 4/5] END ....C=100, gamma=0.001, kernel=rbf;, score=0.674 total time=   0.2s\n",
      "[CV 5/5] END ....C=100, gamma=0.001, kernel=rbf;, score=0.740 total time=   0.2s\n",
      "[CV 1/5] END ...C=100, gamma=0.0001, kernel=rbf;, score=0.748 total time=   0.2s\n",
      "[CV 2/5] END ...C=100, gamma=0.0001, kernel=rbf;, score=0.670 total time=   0.2s\n",
      "[CV 3/5] END ...C=100, gamma=0.0001, kernel=rbf;, score=0.762 total time=   0.2s\n",
      "[CV 4/5] END ...C=100, gamma=0.0001, kernel=rbf;, score=0.678 total time=   0.1s\n",
      "[CV 5/5] END ...C=100, gamma=0.0001, kernel=rbf;, score=0.744 total time=   0.1s\n",
      "[CV 1/5] END .......C=1000, gamma=1, kernel=rbf;, score=0.777 total time=   0.3s\n",
      "[CV 2/5] END .......C=1000, gamma=1, kernel=rbf;, score=0.751 total time=   0.3s\n",
      "[CV 3/5] END .......C=1000, gamma=1, kernel=rbf;, score=0.766 total time=   0.3s\n",
      "[CV 4/5] END .......C=1000, gamma=1, kernel=rbf;, score=0.773 total time=   0.3s\n",
      "[CV 5/5] END .......C=1000, gamma=1, kernel=rbf;, score=0.755 total time=   0.3s\n",
      "[CV 1/5] END .....C=1000, gamma=0.1, kernel=rbf;, score=0.748 total time=   1.4s\n",
      "[CV 2/5] END .....C=1000, gamma=0.1, kernel=rbf;, score=0.733 total time=   1.1s\n",
      "[CV 3/5] END .....C=1000, gamma=0.1, kernel=rbf;, score=0.733 total time=   1.2s\n",
      "[CV 4/5] END .....C=1000, gamma=0.1, kernel=rbf;, score=0.747 total time=   1.0s\n",
      "[CV 5/5] END .....C=1000, gamma=0.1, kernel=rbf;, score=0.711 total time=   1.2s\n",
      "[CV 1/5] END ....C=1000, gamma=0.01, kernel=rbf;, score=0.748 total time=   0.8s\n",
      "[CV 2/5] END ....C=1000, gamma=0.01, kernel=rbf;, score=0.714 total time=   0.8s\n",
      "[CV 3/5] END ....C=1000, gamma=0.01, kernel=rbf;, score=0.747 total time=   0.8s\n",
      "[CV 4/5] END ....C=1000, gamma=0.01, kernel=rbf;, score=0.729 total time=   0.9s\n",
      "[CV 5/5] END ....C=1000, gamma=0.01, kernel=rbf;, score=0.762 total time=   0.6s\n",
      "[CV 1/5] END ...C=1000, gamma=0.001, kernel=rbf;, score=0.730 total time=   0.2s\n",
      "[CV 2/5] END ...C=1000, gamma=0.001, kernel=rbf;, score=0.736 total time=   0.2s\n",
      "[CV 3/5] END ...C=1000, gamma=0.001, kernel=rbf;, score=0.766 total time=   0.2s\n",
      "[CV 4/5] END ...C=1000, gamma=0.001, kernel=rbf;, score=0.689 total time=   0.2s\n",
      "[CV 5/5] END ...C=1000, gamma=0.001, kernel=rbf;, score=0.751 total time=   0.2s\n",
      "[CV 1/5] END ..C=1000, gamma=0.0001, kernel=rbf;, score=0.737 total time=   0.1s\n",
      "[CV 2/5] END ..C=1000, gamma=0.0001, kernel=rbf;, score=0.674 total time=   0.1s\n",
      "[CV 3/5] END ..C=1000, gamma=0.0001, kernel=rbf;, score=0.744 total time=   0.2s\n",
      "[CV 4/5] END ..C=1000, gamma=0.0001, kernel=rbf;, score=0.674 total time=   0.1s\n",
      "[CV 5/5] END ..C=1000, gamma=0.0001, kernel=rbf;, score=0.736 total time=   0.1s\n"
     ]
    },
    {
     "data": {
      "text/html": [
       "<style>#sk-container-id-1 {color: black;background-color: white;}#sk-container-id-1 pre{padding: 0;}#sk-container-id-1 div.sk-toggleable {background-color: white;}#sk-container-id-1 label.sk-toggleable__label {cursor: pointer;display: block;width: 100%;margin-bottom: 0;padding: 0.3em;box-sizing: border-box;text-align: center;}#sk-container-id-1 label.sk-toggleable__label-arrow:before {content: \"▸\";float: left;margin-right: 0.25em;color: #696969;}#sk-container-id-1 label.sk-toggleable__label-arrow:hover:before {color: black;}#sk-container-id-1 div.sk-estimator:hover label.sk-toggleable__label-arrow:before {color: black;}#sk-container-id-1 div.sk-toggleable__content {max-height: 0;max-width: 0;overflow: hidden;text-align: left;background-color: #f0f8ff;}#sk-container-id-1 div.sk-toggleable__content pre {margin: 0.2em;color: black;border-radius: 0.25em;background-color: #f0f8ff;}#sk-container-id-1 input.sk-toggleable__control:checked~div.sk-toggleable__content {max-height: 200px;max-width: 100%;overflow: auto;}#sk-container-id-1 input.sk-toggleable__control:checked~label.sk-toggleable__label-arrow:before {content: \"▾\";}#sk-container-id-1 div.sk-estimator input.sk-toggleable__control:checked~label.sk-toggleable__label {background-color: #d4ebff;}#sk-container-id-1 div.sk-label input.sk-toggleable__control:checked~label.sk-toggleable__label {background-color: #d4ebff;}#sk-container-id-1 input.sk-hidden--visually {border: 0;clip: rect(1px 1px 1px 1px);clip: rect(1px, 1px, 1px, 1px);height: 1px;margin: -1px;overflow: hidden;padding: 0;position: absolute;width: 1px;}#sk-container-id-1 div.sk-estimator {font-family: monospace;background-color: #f0f8ff;border: 1px dotted black;border-radius: 0.25em;box-sizing: border-box;margin-bottom: 0.5em;}#sk-container-id-1 div.sk-estimator:hover {background-color: #d4ebff;}#sk-container-id-1 div.sk-parallel-item::after {content: \"\";width: 100%;border-bottom: 1px solid gray;flex-grow: 1;}#sk-container-id-1 div.sk-label:hover label.sk-toggleable__label {background-color: #d4ebff;}#sk-container-id-1 div.sk-serial::before {content: \"\";position: absolute;border-left: 1px solid gray;box-sizing: border-box;top: 0;bottom: 0;left: 50%;z-index: 0;}#sk-container-id-1 div.sk-serial {display: flex;flex-direction: column;align-items: center;background-color: white;padding-right: 0.2em;padding-left: 0.2em;position: relative;}#sk-container-id-1 div.sk-item {position: relative;z-index: 1;}#sk-container-id-1 div.sk-parallel {display: flex;align-items: stretch;justify-content: center;background-color: white;position: relative;}#sk-container-id-1 div.sk-item::before, #sk-container-id-1 div.sk-parallel-item::before {content: \"\";position: absolute;border-left: 1px solid gray;box-sizing: border-box;top: 0;bottom: 0;left: 50%;z-index: -1;}#sk-container-id-1 div.sk-parallel-item {display: flex;flex-direction: column;z-index: 1;position: relative;background-color: white;}#sk-container-id-1 div.sk-parallel-item:first-child::after {align-self: flex-end;width: 50%;}#sk-container-id-1 div.sk-parallel-item:last-child::after {align-self: flex-start;width: 50%;}#sk-container-id-1 div.sk-parallel-item:only-child::after {width: 0;}#sk-container-id-1 div.sk-dashed-wrapped {border: 1px dashed gray;margin: 0 0.4em 0.5em 0.4em;box-sizing: border-box;padding-bottom: 0.4em;background-color: white;}#sk-container-id-1 div.sk-label label {font-family: monospace;font-weight: bold;display: inline-block;line-height: 1.2em;}#sk-container-id-1 div.sk-label-container {text-align: center;}#sk-container-id-1 div.sk-container {/* jupyter's `normalize.less` sets `[hidden] { display: none; }` but bootstrap.min.css set `[hidden] { display: none !important; }` so we also need the `!important` here to be able to override the default hidden behavior on the sphinx rendered scikit-learn.org. See: https://github.com/scikit-learn/scikit-learn/issues/21755 */display: inline-block !important;position: relative;}#sk-container-id-1 div.sk-text-repr-fallback {display: none;}</style><div id=\"sk-container-id-1\" class=\"sk-top-container\"><div class=\"sk-text-repr-fallback\"><pre>GridSearchCV(estimator=SVC(),\n",
       "             param_grid={&#x27;C&#x27;: [0.1, 1, 10, 100, 1000],\n",
       "                         &#x27;gamma&#x27;: [1, 0.1, 0.01, 0.001, 0.0001],\n",
       "                         &#x27;kernel&#x27;: [&#x27;rbf&#x27;]},\n",
       "             verbose=3)</pre><b>In a Jupyter environment, please rerun this cell to show the HTML representation or trust the notebook. <br />On GitHub, the HTML representation is unable to render, please try loading this page with nbviewer.org.</b></div><div class=\"sk-container\" hidden><div class=\"sk-item sk-dashed-wrapped\"><div class=\"sk-label-container\"><div class=\"sk-label sk-toggleable\"><input class=\"sk-toggleable__control sk-hidden--visually\" id=\"sk-estimator-id-1\" type=\"checkbox\" ><label for=\"sk-estimator-id-1\" class=\"sk-toggleable__label sk-toggleable__label-arrow\">GridSearchCV</label><div class=\"sk-toggleable__content\"><pre>GridSearchCV(estimator=SVC(),\n",
       "             param_grid={&#x27;C&#x27;: [0.1, 1, 10, 100, 1000],\n",
       "                         &#x27;gamma&#x27;: [1, 0.1, 0.01, 0.001, 0.0001],\n",
       "                         &#x27;kernel&#x27;: [&#x27;rbf&#x27;]},\n",
       "             verbose=3)</pre></div></div></div><div class=\"sk-parallel\"><div class=\"sk-parallel-item\"><div class=\"sk-item\"><div class=\"sk-label-container\"><div class=\"sk-label sk-toggleable\"><input class=\"sk-toggleable__control sk-hidden--visually\" id=\"sk-estimator-id-2\" type=\"checkbox\" ><label for=\"sk-estimator-id-2\" class=\"sk-toggleable__label sk-toggleable__label-arrow\">estimator: SVC</label><div class=\"sk-toggleable__content\"><pre>SVC()</pre></div></div></div><div class=\"sk-serial\"><div class=\"sk-item\"><div class=\"sk-estimator sk-toggleable\"><input class=\"sk-toggleable__control sk-hidden--visually\" id=\"sk-estimator-id-3\" type=\"checkbox\" ><label for=\"sk-estimator-id-3\" class=\"sk-toggleable__label sk-toggleable__label-arrow\">SVC</label><div class=\"sk-toggleable__content\"><pre>SVC()</pre></div></div></div></div></div></div></div></div></div></div>"
      ],
      "text/plain": [
       "GridSearchCV(estimator=SVC(),\n",
       "             param_grid={'C': [0.1, 1, 10, 100, 1000],\n",
       "                         'gamma': [1, 0.1, 0.01, 0.001, 0.0001],\n",
       "                         'kernel': ['rbf']},\n",
       "             verbose=3)"
      ]
     },
     "execution_count": 139,
     "metadata": {},
     "output_type": "execute_result"
    }
   ],
   "source": [
    "param_grid = {'C': [0.1, 1, 10, 100, 1000], 'gamma': [1, 0.1, 0.01, 0.001, 0.0001],'kernel': ['rbf']} \n",
    "grid = GridSearchCV(SVC(), param_grid, refit = True, verbose = 3)\n",
    "  # fitting the model for grid search\n",
    "grid.fit(trainx, trainy)  \n"
   ]
  },
  {
   "cell_type": "code",
   "execution_count": 140,
   "id": "9357f304",
   "metadata": {},
   "outputs": [
    {
     "name": "stdout",
     "output_type": "stream",
     "text": [
      "{'C': 1, 'gamma': 1, 'kernel': 'rbf'}\n",
      "SVC(C=1, gamma=1)\n"
     ]
    }
   ],
   "source": [
    "# print best parameter after tuning\n",
    "print(grid.best_params_)\n",
    "  \n",
    "# print how our model looks after hyper-parameter tuning\n",
    "print(grid.best_estimator_)"
   ]
  },
  {
   "cell_type": "code",
   "execution_count": 141,
   "id": "0b274ad2",
   "metadata": {},
   "outputs": [
    {
     "name": "stdout",
     "output_type": "stream",
     "text": [
      "              precision    recall  f1-score   support\n",
      "\n",
      "           0       0.81      0.76      0.78       177\n",
      "           1       0.76      0.81      0.78       165\n",
      "\n",
      "    accuracy                           0.78       342\n",
      "   macro avg       0.78      0.78      0.78       342\n",
      "weighted avg       0.79      0.78      0.78       342\n",
      "\n"
     ]
    }
   ],
   "source": [
    "grid_predictions = grid.predict(testx)\n",
    "print(classification_report(testy, grid_predictions))"
   ]
  },
  {
   "cell_type": "code",
   "execution_count": 142,
   "id": "f5accc19",
   "metadata": {},
   "outputs": [
    {
     "data": {
      "text/plain": [
       "0.783625730994152"
      ]
     },
     "execution_count": 142,
     "metadata": {},
     "output_type": "execute_result"
    }
   ],
   "source": [
    "accuracy_score(testy,grid_predictions)"
   ]
  },
  {
   "cell_type": "markdown",
   "id": "d0d1ad14",
   "metadata": {},
   "source": [
    "# AUC ROC Curve"
   ]
  },
  {
   "cell_type": "code",
   "execution_count": 143,
   "id": "7c9e814e",
   "metadata": {},
   "outputs": [
    {
     "data": {
      "image/png": "[encoded data removed]",
      "text/plain": [
       "<Figure size 432x288 with 1 Axes>"
      ]
     },
     "metadata": {
      "needs_background": "light"
     },
     "output_type": "display_data"
    }
   ],
   "source": [
    "from sklearn.metrics import plot_roc_curve\n",
    "plot_roc_curve(grid.best_estimator_, testx, testy)\n",
    "plt.title(\"AUC ROC plot\")\n",
    "plt.show()"
   ]
  },
  {
   "cell_type": "markdown",
   "id": "bdcd0d29",
   "metadata": {},
   "source": [
    "AUC score is 88% which is comparitevly better."
   ]
  },
  {
   "cell_type": "markdown",
   "id": "79954b14",
   "metadata": {},
   "source": [
    "# Saving the model now"
   ]
  },
  {
   "cell_type": "code",
   "execution_count": 144,
   "id": "90b71bf5",
   "metadata": {},
   "outputs": [],
   "source": [
    "# pickeling or serialization of a file\n",
    "import pickle\n",
    "filename = 'red_wine_quality_prediction.pkl'\n",
    "pickle.dump(grid.best_estimator_, open(filename, 'wb'))"
   ]
  },
  {
   "cell_type": "markdown",
   "id": "66c0989a",
   "metadata": {},
   "source": [
    "The end."
   ]
  }
 ],
 "metadata": {
  "kernelspec": {
   "display_name": "Python 3 (ipykernel)",
   "language": "python",
   "name": "python3"
  },
  "language_info": {
   "codemirror_mode": {
    "name": "ipython",
    "version": 3
   },
   "file_extension": ".py",
   "mimetype": "text/x-python",
   "name": "python",
   "nbconvert_exporter": "python",
   "pygments_lexer": "ipython3",
   "version": "3.9.7"
  }
 },
 "nbformat": 4,
 "nbformat_minor": 5
}
